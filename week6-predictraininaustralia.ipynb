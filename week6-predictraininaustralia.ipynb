{
 "cells": [
  {
   "cell_type": "code",
   "execution_count": 1,
   "id": "0e51f675",
   "metadata": {
    "execution": {
     "iopub.execute_input": "2024-02-20T08:21:28.207488Z",
     "iopub.status.busy": "2024-02-20T08:21:28.206678Z",
     "iopub.status.idle": "2024-02-20T08:21:30.822036Z",
     "shell.execute_reply": "2024-02-20T08:21:30.820707Z"
    },
    "id": "gXamBGWviusO",
    "papermill": {
     "duration": 2.630192,
     "end_time": "2024-02-20T08:21:30.824978",
     "exception": false,
     "start_time": "2024-02-20T08:21:28.194786",
     "status": "completed"
    },
    "tags": []
   },
   "outputs": [],
   "source": [
    "# Import necessary libiaries\n",
    "import numpy as np\n",
    "import pandas as pd\n",
    "from sklearn.linear_model import LogisticRegression\n",
    "from sklearn.linear_model import LinearRegression\n",
    "from sklearn import preprocessing\n",
    "from sklearn.model_selection import train_test_split\n",
    "from sklearn.neighbors import KNeighborsClassifier\n",
    "from sklearn import svm\n",
    "from sklearn.metrics import jaccard_score\n",
    "from sklearn.metrics import f1_score\n",
    "from sklearn.metrics import log_loss\n",
    "from sklearn.metrics import confusion_matrix, accuracy_score\n",
    "import sklearn.metrics as metrics\n",
    "from sklearn.tree import DecisionTreeClassifier"
   ]
  },
  {
   "cell_type": "code",
   "execution_count": 2,
   "id": "dd1feee7",
   "metadata": {
    "execution": {
     "iopub.execute_input": "2024-02-20T08:21:30.845568Z",
     "iopub.status.busy": "2024-02-20T08:21:30.844871Z",
     "iopub.status.idle": "2024-02-20T08:21:31.064755Z",
     "shell.execute_reply": "2024-02-20T08:21:31.063549Z"
    },
    "id": "Q8LDW74knrac",
    "papermill": {
     "duration": 0.233287,
     "end_time": "2024-02-20T08:21:31.067455",
     "exception": false,
     "start_time": "2024-02-20T08:21:30.834168",
     "status": "completed"
    },
    "tags": []
   },
   "outputs": [],
   "source": [
    "# Define download function\n",
    "import requests\n",
    "\n",
    "def download(url, filename):\n",
    "  response = requests.get(url)\n",
    "  with open(filename, 'wb') as file:\n",
    "    file.write(response.content)"
   ]
  },
  {
   "cell_type": "code",
   "execution_count": 3,
   "id": "6960adab",
   "metadata": {
    "execution": {
     "iopub.execute_input": "2024-02-20T08:21:31.087512Z",
     "iopub.status.busy": "2024-02-20T08:21:31.087052Z",
     "iopub.status.idle": "2024-02-20T08:21:33.052351Z",
     "shell.execute_reply": "2024-02-20T08:21:33.050701Z"
    },
    "id": "gMGRqO76n3bc",
    "papermill": {
     "duration": 1.978876,
     "end_time": "2024-02-20T08:21:33.055297",
     "exception": false,
     "start_time": "2024-02-20T08:21:31.076421",
     "status": "completed"
    },
    "tags": []
   },
   "outputs": [],
   "source": [
    "# Download the target file\n",
    "URL = 'https://cf-courses-data.s3.us.cloud-object-storage.appdomain.cloud/IBMDeveloperSkillsNetwork-ML0101EN-SkillUp/labs/ML-FinalAssignment/Weather_Data.csv'\n",
    "download(URL, 'Weather_Data.csv')"
   ]
  },
  {
   "cell_type": "code",
   "execution_count": 4,
   "id": "ac9926b6",
   "metadata": {
    "execution": {
     "iopub.execute_input": "2024-02-20T08:21:33.077015Z",
     "iopub.status.busy": "2024-02-20T08:21:33.076585Z",
     "iopub.status.idle": "2024-02-20T08:21:33.148618Z",
     "shell.execute_reply": "2024-02-20T08:21:33.147267Z"
    },
    "id": "XTIxTAMlBRG2",
    "papermill": {
     "duration": 0.085352,
     "end_time": "2024-02-20T08:21:33.151241",
     "exception": false,
     "start_time": "2024-02-20T08:21:33.065889",
     "status": "completed"
    },
    "tags": []
   },
   "outputs": [
    {
     "data": {
      "text/html": [
       "<div>\n",
       "<style scoped>\n",
       "    .dataframe tbody tr th:only-of-type {\n",
       "        vertical-align: middle;\n",
       "    }\n",
       "\n",
       "    .dataframe tbody tr th {\n",
       "        vertical-align: top;\n",
       "    }\n",
       "\n",
       "    .dataframe thead th {\n",
       "        text-align: right;\n",
       "    }\n",
       "</style>\n",
       "<table border=\"1\" class=\"dataframe\">\n",
       "  <thead>\n",
       "    <tr style=\"text-align: right;\">\n",
       "      <th></th>\n",
       "      <th>Date</th>\n",
       "      <th>MinTemp</th>\n",
       "      <th>MaxTemp</th>\n",
       "      <th>Rainfall</th>\n",
       "      <th>Evaporation</th>\n",
       "      <th>Sunshine</th>\n",
       "      <th>WindGustDir</th>\n",
       "      <th>WindGustSpeed</th>\n",
       "      <th>WindDir9am</th>\n",
       "      <th>WindDir3pm</th>\n",
       "      <th>...</th>\n",
       "      <th>Humidity9am</th>\n",
       "      <th>Humidity3pm</th>\n",
       "      <th>Pressure9am</th>\n",
       "      <th>Pressure3pm</th>\n",
       "      <th>Cloud9am</th>\n",
       "      <th>Cloud3pm</th>\n",
       "      <th>Temp9am</th>\n",
       "      <th>Temp3pm</th>\n",
       "      <th>RainToday</th>\n",
       "      <th>RainTomorrow</th>\n",
       "    </tr>\n",
       "  </thead>\n",
       "  <tbody>\n",
       "    <tr>\n",
       "      <th>0</th>\n",
       "      <td>2/1/2008</td>\n",
       "      <td>19.5</td>\n",
       "      <td>22.4</td>\n",
       "      <td>15.6</td>\n",
       "      <td>6.2</td>\n",
       "      <td>0.0</td>\n",
       "      <td>W</td>\n",
       "      <td>41</td>\n",
       "      <td>S</td>\n",
       "      <td>SSW</td>\n",
       "      <td>...</td>\n",
       "      <td>92</td>\n",
       "      <td>84</td>\n",
       "      <td>1017.6</td>\n",
       "      <td>1017.4</td>\n",
       "      <td>8</td>\n",
       "      <td>8</td>\n",
       "      <td>20.7</td>\n",
       "      <td>20.9</td>\n",
       "      <td>Yes</td>\n",
       "      <td>Yes</td>\n",
       "    </tr>\n",
       "    <tr>\n",
       "      <th>1</th>\n",
       "      <td>2/2/2008</td>\n",
       "      <td>19.5</td>\n",
       "      <td>25.6</td>\n",
       "      <td>6.0</td>\n",
       "      <td>3.4</td>\n",
       "      <td>2.7</td>\n",
       "      <td>W</td>\n",
       "      <td>41</td>\n",
       "      <td>W</td>\n",
       "      <td>E</td>\n",
       "      <td>...</td>\n",
       "      <td>83</td>\n",
       "      <td>73</td>\n",
       "      <td>1017.9</td>\n",
       "      <td>1016.4</td>\n",
       "      <td>7</td>\n",
       "      <td>7</td>\n",
       "      <td>22.4</td>\n",
       "      <td>24.8</td>\n",
       "      <td>Yes</td>\n",
       "      <td>Yes</td>\n",
       "    </tr>\n",
       "    <tr>\n",
       "      <th>2</th>\n",
       "      <td>2/3/2008</td>\n",
       "      <td>21.6</td>\n",
       "      <td>24.5</td>\n",
       "      <td>6.6</td>\n",
       "      <td>2.4</td>\n",
       "      <td>0.1</td>\n",
       "      <td>W</td>\n",
       "      <td>41</td>\n",
       "      <td>ESE</td>\n",
       "      <td>ESE</td>\n",
       "      <td>...</td>\n",
       "      <td>88</td>\n",
       "      <td>86</td>\n",
       "      <td>1016.7</td>\n",
       "      <td>1015.6</td>\n",
       "      <td>7</td>\n",
       "      <td>8</td>\n",
       "      <td>23.5</td>\n",
       "      <td>23.0</td>\n",
       "      <td>Yes</td>\n",
       "      <td>Yes</td>\n",
       "    </tr>\n",
       "    <tr>\n",
       "      <th>3</th>\n",
       "      <td>2/4/2008</td>\n",
       "      <td>20.2</td>\n",
       "      <td>22.8</td>\n",
       "      <td>18.8</td>\n",
       "      <td>2.2</td>\n",
       "      <td>0.0</td>\n",
       "      <td>W</td>\n",
       "      <td>41</td>\n",
       "      <td>NNE</td>\n",
       "      <td>E</td>\n",
       "      <td>...</td>\n",
       "      <td>83</td>\n",
       "      <td>90</td>\n",
       "      <td>1014.2</td>\n",
       "      <td>1011.8</td>\n",
       "      <td>8</td>\n",
       "      <td>8</td>\n",
       "      <td>21.4</td>\n",
       "      <td>20.9</td>\n",
       "      <td>Yes</td>\n",
       "      <td>Yes</td>\n",
       "    </tr>\n",
       "    <tr>\n",
       "      <th>4</th>\n",
       "      <td>2/5/2008</td>\n",
       "      <td>19.7</td>\n",
       "      <td>25.7</td>\n",
       "      <td>77.4</td>\n",
       "      <td>4.8</td>\n",
       "      <td>0.0</td>\n",
       "      <td>W</td>\n",
       "      <td>41</td>\n",
       "      <td>NNE</td>\n",
       "      <td>W</td>\n",
       "      <td>...</td>\n",
       "      <td>88</td>\n",
       "      <td>74</td>\n",
       "      <td>1008.3</td>\n",
       "      <td>1004.8</td>\n",
       "      <td>8</td>\n",
       "      <td>8</td>\n",
       "      <td>22.5</td>\n",
       "      <td>25.5</td>\n",
       "      <td>Yes</td>\n",
       "      <td>Yes</td>\n",
       "    </tr>\n",
       "  </tbody>\n",
       "</table>\n",
       "<p>5 rows × 22 columns</p>\n",
       "</div>"
      ],
      "text/plain": [
       "       Date  MinTemp  MaxTemp  Rainfall  Evaporation  Sunshine WindGustDir  \\\n",
       "0  2/1/2008     19.5     22.4      15.6          6.2       0.0           W   \n",
       "1  2/2/2008     19.5     25.6       6.0          3.4       2.7           W   \n",
       "2  2/3/2008     21.6     24.5       6.6          2.4       0.1           W   \n",
       "3  2/4/2008     20.2     22.8      18.8          2.2       0.0           W   \n",
       "4  2/5/2008     19.7     25.7      77.4          4.8       0.0           W   \n",
       "\n",
       "   WindGustSpeed WindDir9am WindDir3pm  ...  Humidity9am  Humidity3pm  \\\n",
       "0             41          S        SSW  ...           92           84   \n",
       "1             41          W          E  ...           83           73   \n",
       "2             41        ESE        ESE  ...           88           86   \n",
       "3             41        NNE          E  ...           83           90   \n",
       "4             41        NNE          W  ...           88           74   \n",
       "\n",
       "   Pressure9am  Pressure3pm  Cloud9am  Cloud3pm  Temp9am  Temp3pm  RainToday  \\\n",
       "0       1017.6       1017.4         8         8     20.7     20.9        Yes   \n",
       "1       1017.9       1016.4         7         7     22.4     24.8        Yes   \n",
       "2       1016.7       1015.6         7         8     23.5     23.0        Yes   \n",
       "3       1014.2       1011.8         8         8     21.4     20.9        Yes   \n",
       "4       1008.3       1004.8         8         8     22.5     25.5        Yes   \n",
       "\n",
       "   RainTomorrow  \n",
       "0           Yes  \n",
       "1           Yes  \n",
       "2           Yes  \n",
       "3           Yes  \n",
       "4           Yes  \n",
       "\n",
       "[5 rows x 22 columns]"
      ]
     },
     "execution_count": 4,
     "metadata": {},
     "output_type": "execute_result"
    }
   ],
   "source": [
    "# Show the data\n",
    "df = pd.read_csv(\"Weather_Data.csv\")\n",
    "df.head()"
   ]
  },
  {
   "cell_type": "code",
   "execution_count": 5,
   "id": "67d5ed2e",
   "metadata": {
    "execution": {
     "iopub.execute_input": "2024-02-20T08:21:33.172139Z",
     "iopub.status.busy": "2024-02-20T08:21:33.171681Z",
     "iopub.status.idle": "2024-02-20T08:21:33.212956Z",
     "shell.execute_reply": "2024-02-20T08:21:33.211601Z"
    },
    "id": "BFZyQLyNBq0S",
    "papermill": {
     "duration": 0.054599,
     "end_time": "2024-02-20T08:21:33.215460",
     "exception": false,
     "start_time": "2024-02-20T08:21:33.160861",
     "status": "completed"
    },
    "tags": []
   },
   "outputs": [
    {
     "data": {
      "text/html": [
       "<div>\n",
       "<style scoped>\n",
       "    .dataframe tbody tr th:only-of-type {\n",
       "        vertical-align: middle;\n",
       "    }\n",
       "\n",
       "    .dataframe tbody tr th {\n",
       "        vertical-align: top;\n",
       "    }\n",
       "\n",
       "    .dataframe thead th {\n",
       "        text-align: right;\n",
       "    }\n",
       "</style>\n",
       "<table border=\"1\" class=\"dataframe\">\n",
       "  <thead>\n",
       "    <tr style=\"text-align: right;\">\n",
       "      <th></th>\n",
       "      <th>Date</th>\n",
       "      <th>MinTemp</th>\n",
       "      <th>MaxTemp</th>\n",
       "      <th>Rainfall</th>\n",
       "      <th>Evaporation</th>\n",
       "      <th>Sunshine</th>\n",
       "      <th>WindGustSpeed</th>\n",
       "      <th>WindSpeed9am</th>\n",
       "      <th>WindSpeed3pm</th>\n",
       "      <th>Humidity9am</th>\n",
       "      <th>...</th>\n",
       "      <th>WindDir3pm_NNW</th>\n",
       "      <th>WindDir3pm_NW</th>\n",
       "      <th>WindDir3pm_S</th>\n",
       "      <th>WindDir3pm_SE</th>\n",
       "      <th>WindDir3pm_SSE</th>\n",
       "      <th>WindDir3pm_SSW</th>\n",
       "      <th>WindDir3pm_SW</th>\n",
       "      <th>WindDir3pm_W</th>\n",
       "      <th>WindDir3pm_WNW</th>\n",
       "      <th>WindDir3pm_WSW</th>\n",
       "    </tr>\n",
       "  </thead>\n",
       "  <tbody>\n",
       "    <tr>\n",
       "      <th>0</th>\n",
       "      <td>2/1/2008</td>\n",
       "      <td>19.5</td>\n",
       "      <td>22.4</td>\n",
       "      <td>15.6</td>\n",
       "      <td>6.2</td>\n",
       "      <td>0.0</td>\n",
       "      <td>41</td>\n",
       "      <td>17</td>\n",
       "      <td>20</td>\n",
       "      <td>92</td>\n",
       "      <td>...</td>\n",
       "      <td>False</td>\n",
       "      <td>False</td>\n",
       "      <td>False</td>\n",
       "      <td>False</td>\n",
       "      <td>False</td>\n",
       "      <td>True</td>\n",
       "      <td>False</td>\n",
       "      <td>False</td>\n",
       "      <td>False</td>\n",
       "      <td>False</td>\n",
       "    </tr>\n",
       "    <tr>\n",
       "      <th>1</th>\n",
       "      <td>2/2/2008</td>\n",
       "      <td>19.5</td>\n",
       "      <td>25.6</td>\n",
       "      <td>6.0</td>\n",
       "      <td>3.4</td>\n",
       "      <td>2.7</td>\n",
       "      <td>41</td>\n",
       "      <td>9</td>\n",
       "      <td>13</td>\n",
       "      <td>83</td>\n",
       "      <td>...</td>\n",
       "      <td>False</td>\n",
       "      <td>False</td>\n",
       "      <td>False</td>\n",
       "      <td>False</td>\n",
       "      <td>False</td>\n",
       "      <td>False</td>\n",
       "      <td>False</td>\n",
       "      <td>False</td>\n",
       "      <td>False</td>\n",
       "      <td>False</td>\n",
       "    </tr>\n",
       "    <tr>\n",
       "      <th>2</th>\n",
       "      <td>2/3/2008</td>\n",
       "      <td>21.6</td>\n",
       "      <td>24.5</td>\n",
       "      <td>6.6</td>\n",
       "      <td>2.4</td>\n",
       "      <td>0.1</td>\n",
       "      <td>41</td>\n",
       "      <td>17</td>\n",
       "      <td>2</td>\n",
       "      <td>88</td>\n",
       "      <td>...</td>\n",
       "      <td>False</td>\n",
       "      <td>False</td>\n",
       "      <td>False</td>\n",
       "      <td>False</td>\n",
       "      <td>False</td>\n",
       "      <td>False</td>\n",
       "      <td>False</td>\n",
       "      <td>False</td>\n",
       "      <td>False</td>\n",
       "      <td>False</td>\n",
       "    </tr>\n",
       "    <tr>\n",
       "      <th>3</th>\n",
       "      <td>2/4/2008</td>\n",
       "      <td>20.2</td>\n",
       "      <td>22.8</td>\n",
       "      <td>18.8</td>\n",
       "      <td>2.2</td>\n",
       "      <td>0.0</td>\n",
       "      <td>41</td>\n",
       "      <td>22</td>\n",
       "      <td>20</td>\n",
       "      <td>83</td>\n",
       "      <td>...</td>\n",
       "      <td>False</td>\n",
       "      <td>False</td>\n",
       "      <td>False</td>\n",
       "      <td>False</td>\n",
       "      <td>False</td>\n",
       "      <td>False</td>\n",
       "      <td>False</td>\n",
       "      <td>False</td>\n",
       "      <td>False</td>\n",
       "      <td>False</td>\n",
       "    </tr>\n",
       "    <tr>\n",
       "      <th>4</th>\n",
       "      <td>2/5/2008</td>\n",
       "      <td>19.7</td>\n",
       "      <td>25.7</td>\n",
       "      <td>77.4</td>\n",
       "      <td>4.8</td>\n",
       "      <td>0.0</td>\n",
       "      <td>41</td>\n",
       "      <td>11</td>\n",
       "      <td>6</td>\n",
       "      <td>88</td>\n",
       "      <td>...</td>\n",
       "      <td>False</td>\n",
       "      <td>False</td>\n",
       "      <td>False</td>\n",
       "      <td>False</td>\n",
       "      <td>False</td>\n",
       "      <td>False</td>\n",
       "      <td>False</td>\n",
       "      <td>True</td>\n",
       "      <td>False</td>\n",
       "      <td>False</td>\n",
       "    </tr>\n",
       "  </tbody>\n",
       "</table>\n",
       "<p>5 rows × 68 columns</p>\n",
       "</div>"
      ],
      "text/plain": [
       "       Date  MinTemp  MaxTemp  Rainfall  Evaporation  Sunshine  WindGustSpeed  \\\n",
       "0  2/1/2008     19.5     22.4      15.6          6.2       0.0             41   \n",
       "1  2/2/2008     19.5     25.6       6.0          3.4       2.7             41   \n",
       "2  2/3/2008     21.6     24.5       6.6          2.4       0.1             41   \n",
       "3  2/4/2008     20.2     22.8      18.8          2.2       0.0             41   \n",
       "4  2/5/2008     19.7     25.7      77.4          4.8       0.0             41   \n",
       "\n",
       "   WindSpeed9am  WindSpeed3pm  Humidity9am  ...  WindDir3pm_NNW  \\\n",
       "0            17            20           92  ...           False   \n",
       "1             9            13           83  ...           False   \n",
       "2            17             2           88  ...           False   \n",
       "3            22            20           83  ...           False   \n",
       "4            11             6           88  ...           False   \n",
       "\n",
       "   WindDir3pm_NW  WindDir3pm_S  WindDir3pm_SE  WindDir3pm_SSE  WindDir3pm_SSW  \\\n",
       "0          False         False          False           False            True   \n",
       "1          False         False          False           False           False   \n",
       "2          False         False          False           False           False   \n",
       "3          False         False          False           False           False   \n",
       "4          False         False          False           False           False   \n",
       "\n",
       "   WindDir3pm_SW WindDir3pm_W  WindDir3pm_WNW  WindDir3pm_WSW  \n",
       "0          False        False           False           False  \n",
       "1          False        False           False           False  \n",
       "2          False        False           False           False  \n",
       "3          False        False           False           False  \n",
       "4          False         True           False           False  \n",
       "\n",
       "[5 rows x 68 columns]"
      ]
     },
     "execution_count": 5,
     "metadata": {},
     "output_type": "execute_result"
    }
   ],
   "source": [
    "######### Data argumentation\n",
    "\n",
    "# get_dummies() convert categorical feature to one hot code columns.\n",
    "# For example, wind feature has 4 categories, pass the function it\n",
    "# will become 4 columns instead of 1 column.\n",
    "df_sydney_processed = pd.get_dummies(data=df, columns=['RainToday', 'WindGustDir', 'WindDir9am', 'WindDir3pm'])\n",
    "df_sydney_processed.head()"
   ]
  },
  {
   "cell_type": "code",
   "execution_count": 6,
   "id": "4776301c",
   "metadata": {
    "execution": {
     "iopub.execute_input": "2024-02-20T08:21:33.238000Z",
     "iopub.status.busy": "2024-02-20T08:21:33.237520Z",
     "iopub.status.idle": "2024-02-20T08:21:33.273523Z",
     "shell.execute_reply": "2024-02-20T08:21:33.271927Z"
    },
    "id": "F4Cwy2ImOH5o",
    "papermill": {
     "duration": 0.051217,
     "end_time": "2024-02-20T08:21:33.276768",
     "exception": false,
     "start_time": "2024-02-20T08:21:33.225551",
     "status": "completed"
    },
    "tags": []
   },
   "outputs": [
    {
     "name": "stderr",
     "output_type": "stream",
     "text": [
      "/tmp/ipykernel_18/1792128725.py:2: FutureWarning: Downcasting behavior in `replace` is deprecated and will be removed in a future version. To retain the old behavior, explicitly call `result.infer_objects(copy=False)`. To opt-in to the future behavior, set `pd.set_option('future.no_silent_downcasting', True)`\n",
      "  df_sydney_processed.replace(['No', 'Yes'], [0,1], inplace=True)\n"
     ]
    },
    {
     "data": {
      "text/html": [
       "<div>\n",
       "<style scoped>\n",
       "    .dataframe tbody tr th:only-of-type {\n",
       "        vertical-align: middle;\n",
       "    }\n",
       "\n",
       "    .dataframe tbody tr th {\n",
       "        vertical-align: top;\n",
       "    }\n",
       "\n",
       "    .dataframe thead th {\n",
       "        text-align: right;\n",
       "    }\n",
       "</style>\n",
       "<table border=\"1\" class=\"dataframe\">\n",
       "  <thead>\n",
       "    <tr style=\"text-align: right;\">\n",
       "      <th></th>\n",
       "      <th>Date</th>\n",
       "      <th>MinTemp</th>\n",
       "      <th>MaxTemp</th>\n",
       "      <th>Rainfall</th>\n",
       "      <th>Evaporation</th>\n",
       "      <th>Sunshine</th>\n",
       "      <th>WindGustSpeed</th>\n",
       "      <th>WindSpeed9am</th>\n",
       "      <th>WindSpeed3pm</th>\n",
       "      <th>Humidity9am</th>\n",
       "      <th>...</th>\n",
       "      <th>WindDir3pm_NNW</th>\n",
       "      <th>WindDir3pm_NW</th>\n",
       "      <th>WindDir3pm_S</th>\n",
       "      <th>WindDir3pm_SE</th>\n",
       "      <th>WindDir3pm_SSE</th>\n",
       "      <th>WindDir3pm_SSW</th>\n",
       "      <th>WindDir3pm_SW</th>\n",
       "      <th>WindDir3pm_W</th>\n",
       "      <th>WindDir3pm_WNW</th>\n",
       "      <th>WindDir3pm_WSW</th>\n",
       "    </tr>\n",
       "  </thead>\n",
       "  <tbody>\n",
       "    <tr>\n",
       "      <th>0</th>\n",
       "      <td>2/1/2008</td>\n",
       "      <td>19.5</td>\n",
       "      <td>22.4</td>\n",
       "      <td>15.6</td>\n",
       "      <td>6.2</td>\n",
       "      <td>0.0</td>\n",
       "      <td>41</td>\n",
       "      <td>17</td>\n",
       "      <td>20</td>\n",
       "      <td>92</td>\n",
       "      <td>...</td>\n",
       "      <td>False</td>\n",
       "      <td>False</td>\n",
       "      <td>False</td>\n",
       "      <td>False</td>\n",
       "      <td>False</td>\n",
       "      <td>True</td>\n",
       "      <td>False</td>\n",
       "      <td>False</td>\n",
       "      <td>False</td>\n",
       "      <td>False</td>\n",
       "    </tr>\n",
       "    <tr>\n",
       "      <th>1</th>\n",
       "      <td>2/2/2008</td>\n",
       "      <td>19.5</td>\n",
       "      <td>25.6</td>\n",
       "      <td>6.0</td>\n",
       "      <td>3.4</td>\n",
       "      <td>2.7</td>\n",
       "      <td>41</td>\n",
       "      <td>9</td>\n",
       "      <td>13</td>\n",
       "      <td>83</td>\n",
       "      <td>...</td>\n",
       "      <td>False</td>\n",
       "      <td>False</td>\n",
       "      <td>False</td>\n",
       "      <td>False</td>\n",
       "      <td>False</td>\n",
       "      <td>False</td>\n",
       "      <td>False</td>\n",
       "      <td>False</td>\n",
       "      <td>False</td>\n",
       "      <td>False</td>\n",
       "    </tr>\n",
       "    <tr>\n",
       "      <th>2</th>\n",
       "      <td>2/3/2008</td>\n",
       "      <td>21.6</td>\n",
       "      <td>24.5</td>\n",
       "      <td>6.6</td>\n",
       "      <td>2.4</td>\n",
       "      <td>0.1</td>\n",
       "      <td>41</td>\n",
       "      <td>17</td>\n",
       "      <td>2</td>\n",
       "      <td>88</td>\n",
       "      <td>...</td>\n",
       "      <td>False</td>\n",
       "      <td>False</td>\n",
       "      <td>False</td>\n",
       "      <td>False</td>\n",
       "      <td>False</td>\n",
       "      <td>False</td>\n",
       "      <td>False</td>\n",
       "      <td>False</td>\n",
       "      <td>False</td>\n",
       "      <td>False</td>\n",
       "    </tr>\n",
       "    <tr>\n",
       "      <th>3</th>\n",
       "      <td>2/4/2008</td>\n",
       "      <td>20.2</td>\n",
       "      <td>22.8</td>\n",
       "      <td>18.8</td>\n",
       "      <td>2.2</td>\n",
       "      <td>0.0</td>\n",
       "      <td>41</td>\n",
       "      <td>22</td>\n",
       "      <td>20</td>\n",
       "      <td>83</td>\n",
       "      <td>...</td>\n",
       "      <td>False</td>\n",
       "      <td>False</td>\n",
       "      <td>False</td>\n",
       "      <td>False</td>\n",
       "      <td>False</td>\n",
       "      <td>False</td>\n",
       "      <td>False</td>\n",
       "      <td>False</td>\n",
       "      <td>False</td>\n",
       "      <td>False</td>\n",
       "    </tr>\n",
       "    <tr>\n",
       "      <th>4</th>\n",
       "      <td>2/5/2008</td>\n",
       "      <td>19.7</td>\n",
       "      <td>25.7</td>\n",
       "      <td>77.4</td>\n",
       "      <td>4.8</td>\n",
       "      <td>0.0</td>\n",
       "      <td>41</td>\n",
       "      <td>11</td>\n",
       "      <td>6</td>\n",
       "      <td>88</td>\n",
       "      <td>...</td>\n",
       "      <td>False</td>\n",
       "      <td>False</td>\n",
       "      <td>False</td>\n",
       "      <td>False</td>\n",
       "      <td>False</td>\n",
       "      <td>False</td>\n",
       "      <td>False</td>\n",
       "      <td>True</td>\n",
       "      <td>False</td>\n",
       "      <td>False</td>\n",
       "    </tr>\n",
       "  </tbody>\n",
       "</table>\n",
       "<p>5 rows × 68 columns</p>\n",
       "</div>"
      ],
      "text/plain": [
       "       Date  MinTemp  MaxTemp  Rainfall  Evaporation  Sunshine  WindGustSpeed  \\\n",
       "0  2/1/2008     19.5     22.4      15.6          6.2       0.0             41   \n",
       "1  2/2/2008     19.5     25.6       6.0          3.4       2.7             41   \n",
       "2  2/3/2008     21.6     24.5       6.6          2.4       0.1             41   \n",
       "3  2/4/2008     20.2     22.8      18.8          2.2       0.0             41   \n",
       "4  2/5/2008     19.7     25.7      77.4          4.8       0.0             41   \n",
       "\n",
       "   WindSpeed9am  WindSpeed3pm  Humidity9am  ...  WindDir3pm_NNW  \\\n",
       "0            17            20           92  ...           False   \n",
       "1             9            13           83  ...           False   \n",
       "2            17             2           88  ...           False   \n",
       "3            22            20           83  ...           False   \n",
       "4            11             6           88  ...           False   \n",
       "\n",
       "   WindDir3pm_NW  WindDir3pm_S  WindDir3pm_SE  WindDir3pm_SSE  WindDir3pm_SSW  \\\n",
       "0          False         False          False           False            True   \n",
       "1          False         False          False           False           False   \n",
       "2          False         False          False           False           False   \n",
       "3          False         False          False           False           False   \n",
       "4          False         False          False           False           False   \n",
       "\n",
       "   WindDir3pm_SW  WindDir3pm_W  WindDir3pm_WNW  WindDir3pm_WSW  \n",
       "0          False         False           False           False  \n",
       "1          False         False           False           False  \n",
       "2          False         False           False           False  \n",
       "3          False         False           False           False  \n",
       "4          False          True           False           False  \n",
       "\n",
       "[5 rows x 68 columns]"
      ]
     },
     "execution_count": 6,
     "metadata": {},
     "output_type": "execute_result"
    }
   ],
   "source": [
    "# Raintoday feature in the dataset will be converted from 'Yes', 'No' to '1', '0'.\n",
    "df_sydney_processed.replace(['No', 'Yes'], [0,1], inplace=True)\n",
    "df_sydney_processed.head()"
   ]
  },
  {
   "cell_type": "code",
   "execution_count": 7,
   "id": "043161fa",
   "metadata": {
    "execution": {
     "iopub.execute_input": "2024-02-20T08:21:33.300298Z",
     "iopub.status.busy": "2024-02-20T08:21:33.299482Z",
     "iopub.status.idle": "2024-02-20T08:21:33.339380Z",
     "shell.execute_reply": "2024-02-20T08:21:33.338055Z"
    },
    "id": "m4erNCYadsRS",
    "papermill": {
     "duration": 0.054812,
     "end_time": "2024-02-20T08:21:33.342126",
     "exception": false,
     "start_time": "2024-02-20T08:21:33.287314",
     "status": "completed"
    },
    "tags": []
   },
   "outputs": [
    {
     "data": {
      "text/html": [
       "<div>\n",
       "<style scoped>\n",
       "    .dataframe tbody tr th:only-of-type {\n",
       "        vertical-align: middle;\n",
       "    }\n",
       "\n",
       "    .dataframe tbody tr th {\n",
       "        vertical-align: top;\n",
       "    }\n",
       "\n",
       "    .dataframe thead th {\n",
       "        text-align: right;\n",
       "    }\n",
       "</style>\n",
       "<table border=\"1\" class=\"dataframe\">\n",
       "  <thead>\n",
       "    <tr style=\"text-align: right;\">\n",
       "      <th></th>\n",
       "      <th>MinTemp</th>\n",
       "      <th>MaxTemp</th>\n",
       "      <th>Rainfall</th>\n",
       "      <th>Evaporation</th>\n",
       "      <th>Sunshine</th>\n",
       "      <th>WindGustSpeed</th>\n",
       "      <th>WindSpeed9am</th>\n",
       "      <th>WindSpeed3pm</th>\n",
       "      <th>Humidity9am</th>\n",
       "      <th>Humidity3pm</th>\n",
       "      <th>...</th>\n",
       "      <th>WindDir3pm_NNW</th>\n",
       "      <th>WindDir3pm_NW</th>\n",
       "      <th>WindDir3pm_S</th>\n",
       "      <th>WindDir3pm_SE</th>\n",
       "      <th>WindDir3pm_SSE</th>\n",
       "      <th>WindDir3pm_SSW</th>\n",
       "      <th>WindDir3pm_SW</th>\n",
       "      <th>WindDir3pm_W</th>\n",
       "      <th>WindDir3pm_WNW</th>\n",
       "      <th>WindDir3pm_WSW</th>\n",
       "    </tr>\n",
       "  </thead>\n",
       "  <tbody>\n",
       "    <tr>\n",
       "      <th>0</th>\n",
       "      <td>19.5</td>\n",
       "      <td>22.4</td>\n",
       "      <td>15.6</td>\n",
       "      <td>6.2</td>\n",
       "      <td>0.0</td>\n",
       "      <td>41.0</td>\n",
       "      <td>17.0</td>\n",
       "      <td>20.0</td>\n",
       "      <td>92.0</td>\n",
       "      <td>84.0</td>\n",
       "      <td>...</td>\n",
       "      <td>0.0</td>\n",
       "      <td>0.0</td>\n",
       "      <td>0.0</td>\n",
       "      <td>0.0</td>\n",
       "      <td>0.0</td>\n",
       "      <td>1.0</td>\n",
       "      <td>0.0</td>\n",
       "      <td>0.0</td>\n",
       "      <td>0.0</td>\n",
       "      <td>0.0</td>\n",
       "    </tr>\n",
       "    <tr>\n",
       "      <th>1</th>\n",
       "      <td>19.5</td>\n",
       "      <td>25.6</td>\n",
       "      <td>6.0</td>\n",
       "      <td>3.4</td>\n",
       "      <td>2.7</td>\n",
       "      <td>41.0</td>\n",
       "      <td>9.0</td>\n",
       "      <td>13.0</td>\n",
       "      <td>83.0</td>\n",
       "      <td>73.0</td>\n",
       "      <td>...</td>\n",
       "      <td>0.0</td>\n",
       "      <td>0.0</td>\n",
       "      <td>0.0</td>\n",
       "      <td>0.0</td>\n",
       "      <td>0.0</td>\n",
       "      <td>0.0</td>\n",
       "      <td>0.0</td>\n",
       "      <td>0.0</td>\n",
       "      <td>0.0</td>\n",
       "      <td>0.0</td>\n",
       "    </tr>\n",
       "    <tr>\n",
       "      <th>2</th>\n",
       "      <td>21.6</td>\n",
       "      <td>24.5</td>\n",
       "      <td>6.6</td>\n",
       "      <td>2.4</td>\n",
       "      <td>0.1</td>\n",
       "      <td>41.0</td>\n",
       "      <td>17.0</td>\n",
       "      <td>2.0</td>\n",
       "      <td>88.0</td>\n",
       "      <td>86.0</td>\n",
       "      <td>...</td>\n",
       "      <td>0.0</td>\n",
       "      <td>0.0</td>\n",
       "      <td>0.0</td>\n",
       "      <td>0.0</td>\n",
       "      <td>0.0</td>\n",
       "      <td>0.0</td>\n",
       "      <td>0.0</td>\n",
       "      <td>0.0</td>\n",
       "      <td>0.0</td>\n",
       "      <td>0.0</td>\n",
       "    </tr>\n",
       "    <tr>\n",
       "      <th>3</th>\n",
       "      <td>20.2</td>\n",
       "      <td>22.8</td>\n",
       "      <td>18.8</td>\n",
       "      <td>2.2</td>\n",
       "      <td>0.0</td>\n",
       "      <td>41.0</td>\n",
       "      <td>22.0</td>\n",
       "      <td>20.0</td>\n",
       "      <td>83.0</td>\n",
       "      <td>90.0</td>\n",
       "      <td>...</td>\n",
       "      <td>0.0</td>\n",
       "      <td>0.0</td>\n",
       "      <td>0.0</td>\n",
       "      <td>0.0</td>\n",
       "      <td>0.0</td>\n",
       "      <td>0.0</td>\n",
       "      <td>0.0</td>\n",
       "      <td>0.0</td>\n",
       "      <td>0.0</td>\n",
       "      <td>0.0</td>\n",
       "    </tr>\n",
       "    <tr>\n",
       "      <th>4</th>\n",
       "      <td>19.7</td>\n",
       "      <td>25.7</td>\n",
       "      <td>77.4</td>\n",
       "      <td>4.8</td>\n",
       "      <td>0.0</td>\n",
       "      <td>41.0</td>\n",
       "      <td>11.0</td>\n",
       "      <td>6.0</td>\n",
       "      <td>88.0</td>\n",
       "      <td>74.0</td>\n",
       "      <td>...</td>\n",
       "      <td>0.0</td>\n",
       "      <td>0.0</td>\n",
       "      <td>0.0</td>\n",
       "      <td>0.0</td>\n",
       "      <td>0.0</td>\n",
       "      <td>0.0</td>\n",
       "      <td>0.0</td>\n",
       "      <td>1.0</td>\n",
       "      <td>0.0</td>\n",
       "      <td>0.0</td>\n",
       "    </tr>\n",
       "  </tbody>\n",
       "</table>\n",
       "<p>5 rows × 67 columns</p>\n",
       "</div>"
      ],
      "text/plain": [
       "   MinTemp  MaxTemp  Rainfall  Evaporation  Sunshine  WindGustSpeed  \\\n",
       "0     19.5     22.4      15.6          6.2       0.0           41.0   \n",
       "1     19.5     25.6       6.0          3.4       2.7           41.0   \n",
       "2     21.6     24.5       6.6          2.4       0.1           41.0   \n",
       "3     20.2     22.8      18.8          2.2       0.0           41.0   \n",
       "4     19.7     25.7      77.4          4.8       0.0           41.0   \n",
       "\n",
       "   WindSpeed9am  WindSpeed3pm  Humidity9am  Humidity3pm  ...  WindDir3pm_NNW  \\\n",
       "0          17.0          20.0         92.0         84.0  ...             0.0   \n",
       "1           9.0          13.0         83.0         73.0  ...             0.0   \n",
       "2          17.0           2.0         88.0         86.0  ...             0.0   \n",
       "3          22.0          20.0         83.0         90.0  ...             0.0   \n",
       "4          11.0           6.0         88.0         74.0  ...             0.0   \n",
       "\n",
       "   WindDir3pm_NW  WindDir3pm_S  WindDir3pm_SE  WindDir3pm_SSE  WindDir3pm_SSW  \\\n",
       "0            0.0           0.0            0.0             0.0             1.0   \n",
       "1            0.0           0.0            0.0             0.0             0.0   \n",
       "2            0.0           0.0            0.0             0.0             0.0   \n",
       "3            0.0           0.0            0.0             0.0             0.0   \n",
       "4            0.0           0.0            0.0             0.0             0.0   \n",
       "\n",
       "   WindDir3pm_SW  WindDir3pm_W  WindDir3pm_WNW  WindDir3pm_WSW  \n",
       "0            0.0           0.0             0.0             0.0  \n",
       "1            0.0           0.0             0.0             0.0  \n",
       "2            0.0           0.0             0.0             0.0  \n",
       "3            0.0           0.0             0.0             0.0  \n",
       "4            0.0           1.0             0.0             0.0  \n",
       "\n",
       "[5 rows x 67 columns]"
      ]
     },
     "execution_count": 7,
     "metadata": {},
     "output_type": "execute_result"
    }
   ],
   "source": [
    "# Drop the unnecessary column 'Data'\n",
    "df_sydney_processed.drop('Date',axis=1,inplace=True)\n",
    "# assign the float data type\n",
    "df_sydney_processed = df_sydney_processed.astype(float)\n",
    "df_sydney_processed.head()"
   ]
  },
  {
   "cell_type": "code",
   "execution_count": 8,
   "id": "ce955acb",
   "metadata": {
    "execution": {
     "iopub.execute_input": "2024-02-20T08:21:33.367092Z",
     "iopub.status.busy": "2024-02-20T08:21:33.366620Z",
     "iopub.status.idle": "2024-02-20T08:21:33.375346Z",
     "shell.execute_reply": "2024-02-20T08:21:33.373985Z"
    },
    "id": "sWi6OWR5f1KI",
    "papermill": {
     "duration": 0.025016,
     "end_time": "2024-02-20T08:21:33.378256",
     "exception": false,
     "start_time": "2024-02-20T08:21:33.353240",
     "status": "completed"
    },
    "tags": []
   },
   "outputs": [],
   "source": [
    "# Get input and output\n",
    "features = df_sydney_processed.drop(columns='RainTomorrow', axis=1)\n",
    "Y = df_sydney_processed['RainTomorrow']"
   ]
  },
  {
   "cell_type": "code",
   "execution_count": 9,
   "id": "8cbd67c1",
   "metadata": {
    "execution": {
     "iopub.execute_input": "2024-02-20T08:21:33.403474Z",
     "iopub.status.busy": "2024-02-20T08:21:33.402413Z",
     "iopub.status.idle": "2024-02-20T08:21:33.413279Z",
     "shell.execute_reply": "2024-02-20T08:21:33.412113Z"
    },
    "id": "5PsjbRfngsT7",
    "papermill": {
     "duration": 0.025418,
     "end_time": "2024-02-20T08:21:33.415615",
     "exception": false,
     "start_time": "2024-02-20T08:21:33.390197",
     "status": "completed"
    },
    "tags": []
   },
   "outputs": [],
   "source": [
    "####### Performing linear regression\n",
    "\n",
    "# Split the dataset into train and test\n",
    "x_train, x_test, y_train, y_test = train_test_split(features, Y, test_size = 0.2, random_state = 10)"
   ]
  },
  {
   "cell_type": "code",
   "execution_count": 10,
   "id": "016d7f3e",
   "metadata": {
    "execution": {
     "iopub.execute_input": "2024-02-20T08:21:33.439200Z",
     "iopub.status.busy": "2024-02-20T08:21:33.438701Z",
     "iopub.status.idle": "2024-02-20T08:21:33.503608Z",
     "shell.execute_reply": "2024-02-20T08:21:33.501983Z"
    },
    "id": "RhaGnf1lh7Xy",
    "papermill": {
     "duration": 0.081927,
     "end_time": "2024-02-20T08:21:33.508292",
     "exception": false,
     "start_time": "2024-02-20T08:21:33.426365",
     "status": "completed"
    },
    "tags": []
   },
   "outputs": [
    {
     "name": "stdout",
     "output_type": "stream",
     "text": [
      "Linear Regression coefficients: [-0.02369173  0.01300554  0.00072981  0.00649077 -0.03516427  0.00423762\n",
      "  0.0018292   0.00078986  0.00095609  0.00856061  0.00769793 -0.00924424\n",
      " -0.00887454  0.01004774  0.01446555 -0.00348065 -0.05402493  0.05402493\n",
      "  0.05039419 -0.07898527  0.06640003 -0.0721012  -0.05945626 -0.08239011\n",
      " -0.0789619   0.06418738 -0.00838878  0.11105128  0.01414852  0.03851666\n",
      "  0.03625722 -0.02133122  0.00395909  0.01670037  0.04350405  0.05317842\n",
      " -0.00692976 -0.01911823 -0.01461142 -0.00594829 -0.07546046  0.04176858\n",
      " -0.00758587 -0.00980346 -0.01874997  0.00302978  0.01914623 -0.0012425\n",
      " -0.01756641  0.01638932 -0.09330032 -0.08339081 -0.01838672 -0.05191842\n",
      " -0.04092463  0.03423083  0.06883841  0.01862747  0.06892422  0.00033817\n",
      " -0.04820507  0.0755034   0.03967488  0.02636872 -0.02236214  0.02598199]\n"
     ]
    }
   ],
   "source": [
    "# Using linear model from sklearn\n",
    "LinearReg = LinearRegression()\n",
    "LinearReg.fit(x_train, y_train)\n",
    "print('Linear Regression coefficients:', LinearReg.coef_)"
   ]
  },
  {
   "cell_type": "code",
   "execution_count": 11,
   "id": "4d9ea257",
   "metadata": {
    "execution": {
     "iopub.execute_input": "2024-02-20T08:21:33.558185Z",
     "iopub.status.busy": "2024-02-20T08:21:33.557375Z",
     "iopub.status.idle": "2024-02-20T08:21:33.580254Z",
     "shell.execute_reply": "2024-02-20T08:21:33.578665Z"
    },
    "id": "aYYyxJWTjC2Z",
    "papermill": {
     "duration": 0.054509,
     "end_time": "2024-02-20T08:21:33.584335",
     "exception": false,
     "start_time": "2024-02-20T08:21:33.529826",
     "status": "completed"
    },
    "tags": []
   },
   "outputs": [],
   "source": [
    "# Predict if it will rain tomorrow\n",
    "predictions = LinearReg.predict(x_test)\n",
    "LinearRegression_MAE = metrics.mean_absolute_error(y_test, predictions)\n",
    "LinearRegression_MSE = metrics.mean_squared_error(y_test, predictions)\n",
    "LinearRegression_R2 = metrics.r2_score(y_test, predictions)"
   ]
  },
  {
   "cell_type": "code",
   "execution_count": 12,
   "id": "e674ccd0",
   "metadata": {
    "execution": {
     "iopub.execute_input": "2024-02-20T08:21:33.662605Z",
     "iopub.status.busy": "2024-02-20T08:21:33.661892Z",
     "iopub.status.idle": "2024-02-20T08:21:33.689296Z",
     "shell.execute_reply": "2024-02-20T08:21:33.687162Z"
    },
    "id": "15X-OR38jmOX",
    "papermill": {
     "duration": 0.074835,
     "end_time": "2024-02-20T08:21:33.695408",
     "exception": false,
     "start_time": "2024-02-20T08:21:33.620573",
     "status": "completed"
    },
    "tags": []
   },
   "outputs": [
    {
     "name": "stdout",
     "output_type": "stream",
     "text": [
      "        Model  Linear Reg MAE  Linear Reg MSE  Linear R2\n",
      "0  Linear Reg        0.256318        0.115721   0.427132\n"
     ]
    }
   ],
   "source": [
    "# Create a dictionary\n",
    "errors_linearReg = {\n",
    "    'Model': ['Linear Reg'],\n",
    "    'Linear Reg MAE': [LinearRegression_MAE],\n",
    "    'Linear Reg MSE': [LinearRegression_MSE],\n",
    "    'Linear R2': [LinearRegression_R2]\n",
    "}\n",
    "# Create a panda data frame\n",
    "Report_LinearReg = pd.DataFrame(errors_linearReg)\n",
    "print(Report_LinearReg)"
   ]
  },
  {
   "cell_type": "code",
   "execution_count": 13,
   "id": "348da4ab",
   "metadata": {
    "execution": {
     "iopub.execute_input": "2024-02-20T08:21:33.733869Z",
     "iopub.status.busy": "2024-02-20T08:21:33.733373Z",
     "iopub.status.idle": "2024-02-20T08:21:33.769055Z",
     "shell.execute_reply": "2024-02-20T08:21:33.767788Z"
    },
    "id": "n3t2rww6uoSs",
    "papermill": {
     "duration": 0.060495,
     "end_time": "2024-02-20T08:21:33.772640",
     "exception": false,
     "start_time": "2024-02-20T08:21:33.712145",
     "status": "completed"
    },
    "tags": []
   },
   "outputs": [
    {
     "data": {
      "text/html": [
       "<style>#sk-container-id-1 {color: black;background-color: white;}#sk-container-id-1 pre{padding: 0;}#sk-container-id-1 div.sk-toggleable {background-color: white;}#sk-container-id-1 label.sk-toggleable__label {cursor: pointer;display: block;width: 100%;margin-bottom: 0;padding: 0.3em;box-sizing: border-box;text-align: center;}#sk-container-id-1 label.sk-toggleable__label-arrow:before {content: \"▸\";float: left;margin-right: 0.25em;color: #696969;}#sk-container-id-1 label.sk-toggleable__label-arrow:hover:before {color: black;}#sk-container-id-1 div.sk-estimator:hover label.sk-toggleable__label-arrow:before {color: black;}#sk-container-id-1 div.sk-toggleable__content {max-height: 0;max-width: 0;overflow: hidden;text-align: left;background-color: #f0f8ff;}#sk-container-id-1 div.sk-toggleable__content pre {margin: 0.2em;color: black;border-radius: 0.25em;background-color: #f0f8ff;}#sk-container-id-1 input.sk-toggleable__control:checked~div.sk-toggleable__content {max-height: 200px;max-width: 100%;overflow: auto;}#sk-container-id-1 input.sk-toggleable__control:checked~label.sk-toggleable__label-arrow:before {content: \"▾\";}#sk-container-id-1 div.sk-estimator input.sk-toggleable__control:checked~label.sk-toggleable__label {background-color: #d4ebff;}#sk-container-id-1 div.sk-label input.sk-toggleable__control:checked~label.sk-toggleable__label {background-color: #d4ebff;}#sk-container-id-1 input.sk-hidden--visually {border: 0;clip: rect(1px 1px 1px 1px);clip: rect(1px, 1px, 1px, 1px);height: 1px;margin: -1px;overflow: hidden;padding: 0;position: absolute;width: 1px;}#sk-container-id-1 div.sk-estimator {font-family: monospace;background-color: #f0f8ff;border: 1px dotted black;border-radius: 0.25em;box-sizing: border-box;margin-bottom: 0.5em;}#sk-container-id-1 div.sk-estimator:hover {background-color: #d4ebff;}#sk-container-id-1 div.sk-parallel-item::after {content: \"\";width: 100%;border-bottom: 1px solid gray;flex-grow: 1;}#sk-container-id-1 div.sk-label:hover label.sk-toggleable__label {background-color: #d4ebff;}#sk-container-id-1 div.sk-serial::before {content: \"\";position: absolute;border-left: 1px solid gray;box-sizing: border-box;top: 0;bottom: 0;left: 50%;z-index: 0;}#sk-container-id-1 div.sk-serial {display: flex;flex-direction: column;align-items: center;background-color: white;padding-right: 0.2em;padding-left: 0.2em;position: relative;}#sk-container-id-1 div.sk-item {position: relative;z-index: 1;}#sk-container-id-1 div.sk-parallel {display: flex;align-items: stretch;justify-content: center;background-color: white;position: relative;}#sk-container-id-1 div.sk-item::before, #sk-container-id-1 div.sk-parallel-item::before {content: \"\";position: absolute;border-left: 1px solid gray;box-sizing: border-box;top: 0;bottom: 0;left: 50%;z-index: -1;}#sk-container-id-1 div.sk-parallel-item {display: flex;flex-direction: column;z-index: 1;position: relative;background-color: white;}#sk-container-id-1 div.sk-parallel-item:first-child::after {align-self: flex-end;width: 50%;}#sk-container-id-1 div.sk-parallel-item:last-child::after {align-self: flex-start;width: 50%;}#sk-container-id-1 div.sk-parallel-item:only-child::after {width: 0;}#sk-container-id-1 div.sk-dashed-wrapped {border: 1px dashed gray;margin: 0 0.4em 0.5em 0.4em;box-sizing: border-box;padding-bottom: 0.4em;background-color: white;}#sk-container-id-1 div.sk-label label {font-family: monospace;font-weight: bold;display: inline-block;line-height: 1.2em;}#sk-container-id-1 div.sk-label-container {text-align: center;}#sk-container-id-1 div.sk-container {/* jupyter's `normalize.less` sets `[hidden] { display: none; }` but bootstrap.min.css set `[hidden] { display: none !important; }` so we also need the `!important` here to be able to override the default hidden behavior on the sphinx rendered scikit-learn.org. See: https://github.com/scikit-learn/scikit-learn/issues/21755 */display: inline-block !important;position: relative;}#sk-container-id-1 div.sk-text-repr-fallback {display: none;}</style><div id=\"sk-container-id-1\" class=\"sk-top-container\"><div class=\"sk-text-repr-fallback\"><pre>KNeighborsClassifier(n_neighbors=4)</pre><b>In a Jupyter environment, please rerun this cell to show the HTML representation or trust the notebook. <br />On GitHub, the HTML representation is unable to render, please try loading this page with nbviewer.org.</b></div><div class=\"sk-container\" hidden><div class=\"sk-item\"><div class=\"sk-estimator sk-toggleable\"><input class=\"sk-toggleable__control sk-hidden--visually\" id=\"sk-estimator-id-1\" type=\"checkbox\" checked><label for=\"sk-estimator-id-1\" class=\"sk-toggleable__label sk-toggleable__label-arrow\">KNeighborsClassifier</label><div class=\"sk-toggleable__content\"><pre>KNeighborsClassifier(n_neighbors=4)</pre></div></div></div></div></div>"
      ],
      "text/plain": [
       "KNeighborsClassifier(n_neighbors=4)"
      ]
     },
     "execution_count": 13,
     "metadata": {},
     "output_type": "execute_result"
    }
   ],
   "source": [
    "####### Performing KNN\n",
    "\n",
    "######### Normalize the data\n",
    "scaler = preprocessing.StandardScaler().fit(x_train)\n",
    "x_train_norm = scaler.transform(x_train)\n",
    "x_test_norm = scaler.transform(x_test)\n",
    "\n",
    "# Let's start with k = 4\n",
    "k = 4\n",
    "KNN = KNeighborsClassifier(n_neighbors = k).fit(x_train_norm, y_train)\n",
    "KNN"
   ]
  },
  {
   "cell_type": "code",
   "execution_count": 14,
   "id": "6000f36f",
   "metadata": {
    "execution": {
     "iopub.execute_input": "2024-02-20T08:21:33.799924Z",
     "iopub.status.busy": "2024-02-20T08:21:33.798876Z",
     "iopub.status.idle": "2024-02-20T08:21:33.943913Z",
     "shell.execute_reply": "2024-02-20T08:21:33.942695Z"
    },
    "id": "ZCBDJFUJIB5U",
    "papermill": {
     "duration": 0.162162,
     "end_time": "2024-02-20T08:21:33.947001",
     "exception": false,
     "start_time": "2024-02-20T08:21:33.784839",
     "status": "completed"
    },
    "tags": []
   },
   "outputs": [],
   "source": [
    "# Get the predictions\n",
    "predictions = KNN.predict(x_test_norm)\n",
    "KNN_Accuracy_Score = metrics.accuracy_score(y_test, predictions)\n",
    "KNN_JaccardIndex = metrics.jaccard_score(y_test, predictions, average='macro')  # or average='micro' depending on your problem\n",
    "KNN_F1_Score = metrics.f1_score(y_test, predictions, average='macro')  # or average='micro' or 'weighted' depending on your problem"
   ]
  },
  {
   "cell_type": "code",
   "execution_count": 15,
   "id": "a5c29d64",
   "metadata": {
    "execution": {
     "iopub.execute_input": "2024-02-20T08:21:33.972869Z",
     "iopub.status.busy": "2024-02-20T08:21:33.971575Z",
     "iopub.status.idle": "2024-02-20T08:21:33.982620Z",
     "shell.execute_reply": "2024-02-20T08:21:33.981220Z"
    },
    "id": "MUMG9kj2MSaP",
    "papermill": {
     "duration": 0.02668,
     "end_time": "2024-02-20T08:21:33.985302",
     "exception": false,
     "start_time": "2024-02-20T08:21:33.958622",
     "status": "completed"
    },
    "tags": []
   },
   "outputs": [
    {
     "name": "stdout",
     "output_type": "stream",
     "text": [
      "  Model  Accuracy   Jaccard  F1 Score\n",
      "0   KNN  0.760305  0.489394  0.617749\n"
     ]
    }
   ],
   "source": [
    "# Create a dictionary\n",
    "errors_KNN = {\n",
    "    'Model': ['KNN'],\n",
    "    'Accuracy': [KNN_Accuracy_Score],\n",
    "    'Jaccard': [KNN_JaccardIndex],\n",
    "    'F1 Score': [KNN_F1_Score]\n",
    "}\n",
    "\n",
    "# Create a panda data frame\n",
    "Report_KNN = pd.DataFrame(errors_KNN)\n",
    "print(Report_KNN)"
   ]
  },
  {
   "cell_type": "code",
   "execution_count": 16,
   "id": "e5526590",
   "metadata": {
    "execution": {
     "iopub.execute_input": "2024-02-20T08:21:34.012870Z",
     "iopub.status.busy": "2024-02-20T08:21:34.011270Z",
     "iopub.status.idle": "2024-02-20T08:21:34.043040Z",
     "shell.execute_reply": "2024-02-20T08:21:34.042188Z"
    },
    "id": "8o1uzMlJM361",
    "papermill": {
     "duration": 0.049162,
     "end_time": "2024-02-20T08:21:34.046447",
     "exception": false,
     "start_time": "2024-02-20T08:21:33.997285",
     "status": "completed"
    },
    "tags": []
   },
   "outputs": [],
   "source": [
    "####### Decision Tree\n",
    "Tree = DecisionTreeClassifier(criterion=\"entropy\", max_depth = 4)\n",
    "Tree.fit(x_train, y_train)\n",
    "predictions = Tree.predict(x_test)"
   ]
  },
  {
   "cell_type": "code",
   "execution_count": 17,
   "id": "ff6a0c21",
   "metadata": {
    "execution": {
     "iopub.execute_input": "2024-02-20T08:21:34.080066Z",
     "iopub.status.busy": "2024-02-20T08:21:34.079382Z",
     "iopub.status.idle": "2024-02-20T08:21:34.092397Z",
     "shell.execute_reply": "2024-02-20T08:21:34.091223Z"
    },
    "id": "g-i54CysTEhJ",
    "papermill": {
     "duration": 0.031708,
     "end_time": "2024-02-20T08:21:34.095397",
     "exception": false,
     "start_time": "2024-02-20T08:21:34.063689",
     "status": "completed"
    },
    "tags": []
   },
   "outputs": [],
   "source": [
    "Tree_Accuracy_Score = accuracy_score(y_test, predictions)\n",
    "Tree_JaccardIndex = jaccard_score(y_test, predictions)\n",
    "Tree_F1_Score = f1_score(y_test, predictions)"
   ]
  },
  {
   "cell_type": "code",
   "execution_count": 18,
   "id": "abf75a80",
   "metadata": {
    "execution": {
     "iopub.execute_input": "2024-02-20T08:21:34.121182Z",
     "iopub.status.busy": "2024-02-20T08:21:34.120760Z",
     "iopub.status.idle": "2024-02-20T08:21:34.130586Z",
     "shell.execute_reply": "2024-02-20T08:21:34.129475Z"
    },
    "id": "ctXSULytTGa6",
    "papermill": {
     "duration": 0.025853,
     "end_time": "2024-02-20T08:21:34.133107",
     "exception": false,
     "start_time": "2024-02-20T08:21:34.107254",
     "status": "completed"
    },
    "tags": []
   },
   "outputs": [
    {
     "name": "stdout",
     "output_type": "stream",
     "text": [
      "  Model  Accuracy   Jaccard  F1 Score\n",
      "0  Tree  0.818321  0.480349  0.648968\n"
     ]
    }
   ],
   "source": [
    "# Create a dictionary\n",
    "errors_Tree = {\n",
    "    'Model': ['Tree'],\n",
    "    'Accuracy': [Tree_Accuracy_Score],\n",
    "    'Jaccard': [Tree_JaccardIndex],\n",
    "    'F1 Score': [Tree_F1_Score]\n",
    "}\n",
    "\n",
    "# Create a panda data frame\n",
    "Report_Tree = pd.DataFrame(errors_Tree)\n",
    "print(Report_Tree)"
   ]
  },
  {
   "cell_type": "code",
   "execution_count": 19,
   "id": "04d5d1d3",
   "metadata": {
    "execution": {
     "iopub.execute_input": "2024-02-20T08:21:34.159609Z",
     "iopub.status.busy": "2024-02-20T08:21:34.159212Z",
     "iopub.status.idle": "2024-02-20T08:21:34.168018Z",
     "shell.execute_reply": "2024-02-20T08:21:34.166918Z"
    },
    "id": "Ju0dYihfX01a",
    "papermill": {
     "duration": 0.025407,
     "end_time": "2024-02-20T08:21:34.170897",
     "exception": false,
     "start_time": "2024-02-20T08:21:34.145490",
     "status": "completed"
    },
    "tags": []
   },
   "outputs": [],
   "source": [
    "####### Performing linear regression\n",
    "\n",
    "# Split the dataset into train and test\n",
    "x_train, x_test, y_train, y_test = train_test_split(features, Y, test_size = 0.2, random_state = 1)"
   ]
  },
  {
   "cell_type": "code",
   "execution_count": 20,
   "id": "85a5188a",
   "metadata": {
    "execution": {
     "iopub.execute_input": "2024-02-20T08:21:34.196289Z",
     "iopub.status.busy": "2024-02-20T08:21:34.195830Z",
     "iopub.status.idle": "2024-02-20T08:21:34.288204Z",
     "shell.execute_reply": "2024-02-20T08:21:34.286869Z"
    },
    "id": "HktO6IgaTiEe",
    "papermill": {
     "duration": 0.108397,
     "end_time": "2024-02-20T08:21:34.290997",
     "exception": false,
     "start_time": "2024-02-20T08:21:34.182600",
     "status": "completed"
    },
    "tags": []
   },
   "outputs": [],
   "source": [
    "######## Logistic Regression\n",
    "LR = LogisticRegression(solver = 'liblinear').fit(x_train, y_train)"
   ]
  },
  {
   "cell_type": "code",
   "execution_count": 21,
   "id": "d4bf7860",
   "metadata": {
    "execution": {
     "iopub.execute_input": "2024-02-20T08:21:34.315832Z",
     "iopub.status.busy": "2024-02-20T08:21:34.315417Z",
     "iopub.status.idle": "2024-02-20T08:21:34.334675Z",
     "shell.execute_reply": "2024-02-20T08:21:34.333560Z"
    },
    "id": "bIQT84zXVWK_",
    "papermill": {
     "duration": 0.034692,
     "end_time": "2024-02-20T08:21:34.337152",
     "exception": false,
     "start_time": "2024-02-20T08:21:34.302460",
     "status": "completed"
    },
    "tags": []
   },
   "outputs": [],
   "source": [
    "predictions = LR.predict(x_test)\n",
    "predict_proba = LR.predict_proba(x_test)"
   ]
  },
  {
   "cell_type": "code",
   "execution_count": 22,
   "id": "b5ab3bac",
   "metadata": {
    "execution": {
     "iopub.execute_input": "2024-02-20T08:21:34.382967Z",
     "iopub.status.busy": "2024-02-20T08:21:34.380828Z",
     "iopub.status.idle": "2024-02-20T08:21:34.411253Z",
     "shell.execute_reply": "2024-02-20T08:21:34.409622Z"
    },
    "id": "fb1W944SYfPh",
    "papermill": {
     "duration": 0.06126,
     "end_time": "2024-02-20T08:21:34.415563",
     "exception": false,
     "start_time": "2024-02-20T08:21:34.354303",
     "status": "completed"
    },
    "tags": []
   },
   "outputs": [],
   "source": [
    "LR_Accuracy_Score = metrics.accuracy_score(y_test, predictions)\n",
    "LR_JaccardIndex = metrics.jaccard_score(y_test, predictions)\n",
    "LR_F1_Score = metrics.f1_score(y_test, predictions)\n",
    "LR_Log_Loss = metrics.log_loss(y_test, predict_proba)"
   ]
  },
  {
   "cell_type": "code",
   "execution_count": 23,
   "id": "fca12dc1",
   "metadata": {
    "execution": {
     "iopub.execute_input": "2024-02-20T08:21:34.460947Z",
     "iopub.status.busy": "2024-02-20T08:21:34.460522Z",
     "iopub.status.idle": "2024-02-20T08:21:36.043491Z",
     "shell.execute_reply": "2024-02-20T08:21:36.041966Z"
    },
    "id": "y_mumNnyZzLe",
    "papermill": {
     "duration": 1.606065,
     "end_time": "2024-02-20T08:21:36.046631",
     "exception": false,
     "start_time": "2024-02-20T08:21:34.440566",
     "status": "completed"
    },
    "tags": []
   },
   "outputs": [],
   "source": [
    "# Create and train the SVM model\n",
    "SVM = svm.SVC(probability=True)  # Enable probability estimates with probability=True\n",
    "SVM.fit(x_train, y_train)\n",
    "\n",
    "# Use the predict method on the testing data\n",
    "predictions = SVM.predict(x_test)\n",
    "\n",
    "# Calculate the evaluation metrics\n",
    "SVM_Accuracy_Score = metrics.accuracy_score(y_test, predictions)\n",
    "SVM_JaccardIndex = metrics.jaccard_score(y_test, predictions)\n",
    "SVM_F1_Score = metrics.f1_score(y_test, predictions)"
   ]
  },
  {
   "cell_type": "code",
   "execution_count": 24,
   "id": "5029717c",
   "metadata": {
    "execution": {
     "iopub.execute_input": "2024-02-20T08:21:36.071707Z",
     "iopub.status.busy": "2024-02-20T08:21:36.071087Z",
     "iopub.status.idle": "2024-02-20T08:21:36.080905Z",
     "shell.execute_reply": "2024-02-20T08:21:36.079386Z"
    },
    "id": "7pmEv4MTZ5CI",
    "papermill": {
     "duration": 0.025283,
     "end_time": "2024-02-20T08:21:36.083602",
     "exception": false,
     "start_time": "2024-02-20T08:21:36.058319",
     "status": "completed"
    },
    "tags": []
   },
   "outputs": [
    {
     "name": "stdout",
     "output_type": "stream",
     "text": [
      "  Model  Accuracy   Jaccard  F1 Score\n",
      "0   SVM  0.818321  0.480349  0.648968\n"
     ]
    }
   ],
   "source": [
    "errors_SVM = {\n",
    "    'Model': ['SVM'],\n",
    "    'Accuracy': [Tree_Accuracy_Score],\n",
    "    'Jaccard': [Tree_JaccardIndex],\n",
    "    'F1 Score': [Tree_F1_Score]\n",
    "}\n",
    "\n",
    "# Create a panda data frame\n",
    "Report_SVM = pd.DataFrame(errors_SVM)\n",
    "print(Report_SVM)"
   ]
  },
  {
   "cell_type": "code",
   "execution_count": 25,
   "id": "7c9b87f9",
   "metadata": {
    "execution": {
     "iopub.execute_input": "2024-02-20T08:21:36.109467Z",
     "iopub.status.busy": "2024-02-20T08:21:36.109063Z",
     "iopub.status.idle": "2024-02-20T08:21:36.116403Z",
     "shell.execute_reply": "2024-02-20T08:21:36.115349Z"
    },
    "id": "Wv-64qhba2c6",
    "papermill": {
     "duration": 0.022926,
     "end_time": "2024-02-20T08:21:36.118533",
     "exception": false,
     "start_time": "2024-02-20T08:21:36.095607",
     "status": "completed"
    },
    "tags": []
   },
   "outputs": [],
   "source": [
    "result = pd.concat([Report_LinearReg, Report_KNN, Report_Tree, Report_SVM], axis = 0)"
   ]
  },
  {
   "cell_type": "code",
   "execution_count": 26,
   "id": "e1a5693a",
   "metadata": {
    "execution": {
     "iopub.execute_input": "2024-02-20T08:21:36.144638Z",
     "iopub.status.busy": "2024-02-20T08:21:36.143889Z",
     "iopub.status.idle": "2024-02-20T08:21:36.153692Z",
     "shell.execute_reply": "2024-02-20T08:21:36.152284Z"
    },
    "id": "p2aX4Hq4dVMb",
    "papermill": {
     "duration": 0.025711,
     "end_time": "2024-02-20T08:21:36.156172",
     "exception": false,
     "start_time": "2024-02-20T08:21:36.130461",
     "status": "completed"
    },
    "tags": []
   },
   "outputs": [
    {
     "name": "stdout",
     "output_type": "stream",
     "text": [
      "        Model  Linear Reg MAE  Linear Reg MSE  Linear R2  Accuracy   Jaccard  \\\n",
      "0  Linear Reg        0.256318        0.115721   0.427132       NaN       NaN   \n",
      "0         KNN             NaN             NaN        NaN  0.760305  0.489394   \n",
      "0        Tree             NaN             NaN        NaN  0.818321  0.480349   \n",
      "0         SVM             NaN             NaN        NaN  0.818321  0.480349   \n",
      "\n",
      "   F1 Score  \n",
      "0       NaN  \n",
      "0  0.617749  \n",
      "0  0.648968  \n",
      "0  0.648968  \n"
     ]
    }
   ],
   "source": [
    "print(result)"
   ]
  }
 ],
 "metadata": {
  "colab": {
   "private_outputs": true,
   "provenance": []
  },
  "kaggle": {
   "accelerator": "none",
   "dataSources": [],
   "dockerImageVersionId": 30646,
   "isGpuEnabled": false,
   "isInternetEnabled": true,
   "language": "python",
   "sourceType": "notebook"
  },
  "kernelspec": {
   "display_name": "Python 3",
   "language": "python",
   "name": "python3"
  },
  "language_info": {
   "codemirror_mode": {
    "name": "ipython",
    "version": 3
   },
   "file_extension": ".py",
   "mimetype": "text/x-python",
   "name": "python",
   "nbconvert_exporter": "python",
   "pygments_lexer": "ipython3",
   "version": "3.10.13"
  },
  "papermill": {
   "default_parameters": {},
   "duration": 11.860646,
   "end_time": "2024-02-20T08:21:36.991923",
   "environment_variables": {},
   "exception": null,
   "input_path": "__notebook__.ipynb",
   "output_path": "__notebook__.ipynb",
   "parameters": {},
   "start_time": "2024-02-20T08:21:25.131277",
   "version": "2.5.0"
  }
 },
 "nbformat": 4,
 "nbformat_minor": 5
}
