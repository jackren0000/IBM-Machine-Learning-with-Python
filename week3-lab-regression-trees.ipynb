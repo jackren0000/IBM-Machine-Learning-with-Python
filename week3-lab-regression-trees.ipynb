{
 "cells": [
  {
   "cell_type": "markdown",
   "id": "70f1ea01",
   "metadata": {
    "papermill": {
     "duration": 0.010199,
     "end_time": "2024-02-19T09:33:10.128824",
     "exception": false,
     "start_time": "2024-02-19T09:33:10.118625",
     "status": "completed"
    },
    "tags": []
   },
   "source": [
    "<p style=\"text-align:center\">\n",
    "    <a href=\"https://skills.network\" target=\"_blank\">\n",
    "    <img src=\"https://cf-courses-data.s3.us.cloud-object-storage.appdomain.cloud/assets/logos/SN_web_lightmode.png\" width=\"200\" alt=\"Skills Network Logo\">\n",
    "    </a>\n",
    "</p>\n"
   ]
  },
  {
   "cell_type": "markdown",
   "id": "5e6d6957",
   "metadata": {
    "papermill": {
     "duration": 0.009164,
     "end_time": "2024-02-19T09:33:10.147211",
     "exception": false,
     "start_time": "2024-02-19T09:33:10.138047",
     "status": "completed"
    },
    "tags": []
   },
   "source": [
    "# **Regression Trees**\n"
   ]
  },
  {
   "cell_type": "markdown",
   "id": "b786b64e",
   "metadata": {
    "papermill": {
     "duration": 0.010057,
     "end_time": "2024-02-19T09:33:10.166526",
     "exception": false,
     "start_time": "2024-02-19T09:33:10.156469",
     "status": "completed"
    },
    "tags": []
   },
   "source": [
    "Estimated time needed: **20** minutes\n"
   ]
  },
  {
   "cell_type": "markdown",
   "id": "8b15f128",
   "metadata": {
    "papermill": {
     "duration": 0.01147,
     "end_time": "2024-02-19T09:33:10.187409",
     "exception": false,
     "start_time": "2024-02-19T09:33:10.175939",
     "status": "completed"
    },
    "tags": []
   },
   "source": [
    "In this lab you will learn how to implement regression trees using ScikitLearn. We will show what parameters are important, how to train a regression tree, and finally how to determine our regression trees accuracy.\n"
   ]
  },
  {
   "cell_type": "markdown",
   "id": "96f3d7cb",
   "metadata": {
    "papermill": {
     "duration": 0.011149,
     "end_time": "2024-02-19T09:33:10.209390",
     "exception": false,
     "start_time": "2024-02-19T09:33:10.198241",
     "status": "completed"
    },
    "tags": []
   },
   "source": [
    "## Objectives\n"
   ]
  },
  {
   "cell_type": "markdown",
   "id": "503f9b87",
   "metadata": {
    "papermill": {
     "duration": 0.008463,
     "end_time": "2024-02-19T09:33:10.229573",
     "exception": false,
     "start_time": "2024-02-19T09:33:10.221110",
     "status": "completed"
    },
    "tags": []
   },
   "source": [
    "After completing this lab you will be able to:\n"
   ]
  },
  {
   "cell_type": "markdown",
   "id": "03a8b867",
   "metadata": {
    "papermill": {
     "duration": 0.010563,
     "end_time": "2024-02-19T09:33:10.250524",
     "exception": false,
     "start_time": "2024-02-19T09:33:10.239961",
     "status": "completed"
    },
    "tags": []
   },
   "source": [
    "* Train a Regression Tree\n",
    "* Evaluate a Regression Trees Performance\n"
   ]
  },
  {
   "cell_type": "markdown",
   "id": "f9ab9636",
   "metadata": {
    "papermill": {
     "duration": 0.009692,
     "end_time": "2024-02-19T09:33:10.269543",
     "exception": false,
     "start_time": "2024-02-19T09:33:10.259851",
     "status": "completed"
    },
    "tags": []
   },
   "source": [
    "----\n"
   ]
  },
  {
   "cell_type": "markdown",
   "id": "6b464b94",
   "metadata": {
    "papermill": {
     "duration": 0.010792,
     "end_time": "2024-02-19T09:33:10.290515",
     "exception": false,
     "start_time": "2024-02-19T09:33:10.279723",
     "status": "completed"
    },
    "tags": []
   },
   "source": [
    "## Setup\n"
   ]
  },
  {
   "cell_type": "markdown",
   "id": "debcd737",
   "metadata": {
    "papermill": {
     "duration": 0.009487,
     "end_time": "2024-02-19T09:33:10.309911",
     "exception": false,
     "start_time": "2024-02-19T09:33:10.300424",
     "status": "completed"
    },
    "tags": []
   },
   "source": [
    "For this lab, we are going to be using Python and several Python libraries. Some of these libraries might be installed in your lab environment or in SN Labs. Others may need to be installed by you. The cells below will install these libraries when executed.\n"
   ]
  },
  {
   "cell_type": "code",
   "execution_count": 1,
   "id": "0333ef78",
   "metadata": {
    "execution": {
     "iopub.execute_input": "2024-02-19T09:33:10.333034Z",
     "iopub.status.busy": "2024-02-19T09:33:10.331875Z",
     "iopub.status.idle": "2024-02-19T09:33:10.338114Z",
     "shell.execute_reply": "2024-02-19T09:33:10.336944Z"
    },
    "papermill": {
     "duration": 0.020518,
     "end_time": "2024-02-19T09:33:10.340940",
     "exception": false,
     "start_time": "2024-02-19T09:33:10.320422",
     "status": "completed"
    },
    "tags": []
   },
   "outputs": [],
   "source": [
    "# Install libraries not already in the environment using pip\n",
    "#!pip install pandas==1.3.4\n",
    "#!pip install sklearn==0.20.1"
   ]
  },
  {
   "cell_type": "code",
   "execution_count": 2,
   "id": "e378c28d",
   "metadata": {
    "execution": {
     "iopub.execute_input": "2024-02-19T09:33:10.361611Z",
     "iopub.status.busy": "2024-02-19T09:33:10.361174Z",
     "iopub.status.idle": "2024-02-19T09:33:13.075632Z",
     "shell.execute_reply": "2024-02-19T09:33:13.074090Z"
    },
    "papermill": {
     "duration": 2.728619,
     "end_time": "2024-02-19T09:33:13.078805",
     "exception": false,
     "start_time": "2024-02-19T09:33:10.350186",
     "status": "completed"
    },
    "tags": []
   },
   "outputs": [],
   "source": [
    "# pandas will allow us to create a dataframe of the data so it can be used and manipulated\n",
    "import pandas as pd\n",
    "# regression Tree Algorithm\n",
    "from sklearn.tree import DecisionTreeRegressor\n",
    "# split our data into a training and testing data\n",
    "from sklearn.model_selection import train_test_split"
   ]
  },
  {
   "cell_type": "markdown",
   "id": "ed854e8a",
   "metadata": {
    "papermill": {
     "duration": 0.008383,
     "end_time": "2024-02-19T09:33:13.096193",
     "exception": false,
     "start_time": "2024-02-19T09:33:13.087810",
     "status": "completed"
    },
    "tags": []
   },
   "source": [
    "## About the Dataset\n"
   ]
  },
  {
   "cell_type": "markdown",
   "id": "82ad4e52",
   "metadata": {
    "papermill": {
     "duration": 0.008349,
     "end_time": "2024-02-19T09:33:13.113244",
     "exception": false,
     "start_time": "2024-02-19T09:33:13.104895",
     "status": "completed"
    },
    "tags": []
   },
   "source": [
    "Imagine you are a data scientist working for a real estate company that is planning to invest in Boston real estate. You have collected information about various areas of Boston and are tasked with created a model that can predict the median price of houses for that area so it can be used to make offers.\n",
    "\n",
    "The dataset had information on areas/towns not individual houses, the features are\n",
    "\n",
    "CRIM: Crime per capita\n",
    "\n",
    "ZN: Proportion of residential land zoned for lots over 25,000 sq.ft.\n",
    "\n",
    "INDUS: Proportion of non-retail business acres per town\n",
    "\n",
    "CHAS: Charles River dummy variable (= 1 if tract bounds river; 0 otherwise)\n",
    "\n",
    "NOX: Nitric oxides concentration (parts per 10 million)\n",
    "\n",
    "RM: Average number of rooms per dwelling\n",
    "\n",
    "AGE: Proportion of owner-occupied units built prior to 1940\n",
    "\n",
    "DIS: Weighted distances to ﬁve Boston employment centers\n",
    "\n",
    "RAD: Index of accessibility to radial highways\n",
    "\n",
    "TAX: Full-value property-tax rate per $10,000\n",
    "\n",
    "PTRAIO: Pupil-teacher ratio by town\n",
    "\n",
    "LSTAT: Percent lower status of the population\n",
    "\n",
    "MEDV: Median value of owner-occupied homes in $1000s\n"
   ]
  },
  {
   "cell_type": "markdown",
   "id": "6ab5ac39",
   "metadata": {
    "papermill": {
     "duration": 0.008983,
     "end_time": "2024-02-19T09:33:13.131007",
     "exception": false,
     "start_time": "2024-02-19T09:33:13.122024",
     "status": "completed"
    },
    "tags": []
   },
   "source": [
    "## Data Collection\n"
   ]
  },
  {
   "cell_type": "markdown",
   "id": "f8c25a84",
   "metadata": {
    "papermill": {
     "duration": 0.009394,
     "end_time": "2024-02-19T09:33:13.149042",
     "exception": false,
     "start_time": "2024-02-19T09:33:13.139648",
     "status": "completed"
    },
    "tags": []
   },
   "source": [
    "Lets read in the data we have downloaded\n"
   ]
  },
  {
   "cell_type": "code",
   "execution_count": 3,
   "id": "4cb6b90a",
   "metadata": {
    "execution": {
     "iopub.execute_input": "2024-02-19T09:33:13.170044Z",
     "iopub.status.busy": "2024-02-19T09:33:13.169474Z",
     "iopub.status.idle": "2024-02-19T09:33:15.241593Z",
     "shell.execute_reply": "2024-02-19T09:33:15.240155Z"
    },
    "papermill": {
     "duration": 2.086289,
     "end_time": "2024-02-19T09:33:15.244604",
     "exception": false,
     "start_time": "2024-02-19T09:33:13.158315",
     "status": "completed"
    },
    "tags": []
   },
   "outputs": [
    {
     "name": "stdout",
     "output_type": "stream",
     "text": [
      "--2024-02-19 09:33:14--  https://cf-courses-data.s3.us.cloud-object-storage.appdomain.cloud/IBMDeveloperSkillsNetwork-ML0101EN-SkillsNetwork/labs/Module%203/data/real_estate_data.csv\r\n",
      "Resolving cf-courses-data.s3.us.cloud-object-storage.appdomain.cloud (cf-courses-data.s3.us.cloud-object-storage.appdomain.cloud)... 198.23.119.245\r\n",
      "Connecting to cf-courses-data.s3.us.cloud-object-storage.appdomain.cloud (cf-courses-data.s3.us.cloud-object-storage.appdomain.cloud)|198.23.119.245|:443... connected.\r\n",
      "HTTP request sent, awaiting response... 200 OK\r\n",
      "Length: 33280 (32K) [text/csv]\r\n",
      "Saving to: 'real_estate_data.csv'\r\n",
      "\r\n",
      "real_estate_data.cs 100%[===================>]  32.50K   134KB/s    in 0.2s    \r\n",
      "\r\n",
      "2024-02-19 09:33:15 (134 KB/s) - 'real_estate_data.csv' saved [33280/33280]\r\n",
      "\r\n"
     ]
    }
   ],
   "source": [
    "!wget https://cf-courses-data.s3.us.cloud-object-storage.appdomain.cloud/IBMDeveloperSkillsNetwork-ML0101EN-SkillsNetwork/labs/Module%203/data/real_estate_data.csv\n",
    "df = pd.read_csv(\"real_estate_data.csv\")"
   ]
  },
  {
   "cell_type": "code",
   "execution_count": 4,
   "id": "74b1d684",
   "metadata": {
    "execution": {
     "iopub.execute_input": "2024-02-19T09:33:15.268039Z",
     "iopub.status.busy": "2024-02-19T09:33:15.266499Z",
     "iopub.status.idle": "2024-02-19T09:33:15.498516Z",
     "shell.execute_reply": "2024-02-19T09:33:15.497199Z"
    },
    "papermill": {
     "duration": 0.246442,
     "end_time": "2024-02-19T09:33:15.500923",
     "exception": false,
     "start_time": "2024-02-19T09:33:15.254481",
     "status": "completed"
    },
    "tags": []
   },
   "outputs": [
    {
     "name": "stdout",
     "output_type": "stream",
     "text": [
      "<class 'pandas.core.frame.DataFrame'>\n",
      "RangeIndex: 506 entries, 0 to 505\n",
      "Data columns (total 13 columns):\n",
      " #   Column   Non-Null Count  Dtype  \n",
      "---  ------   --------------  -----  \n",
      " 0   CRIM     486 non-null    float64\n",
      " 1   ZN       486 non-null    float64\n",
      " 2   INDUS    486 non-null    float64\n",
      " 3   CHAS     486 non-null    float64\n",
      " 4   NOX      506 non-null    float64\n",
      " 5   RM       506 non-null    float64\n",
      " 6   AGE      486 non-null    float64\n",
      " 7   DIS      506 non-null    float64\n",
      " 8   RAD      506 non-null    int64  \n",
      " 9   TAX      506 non-null    int64  \n",
      " 10  PTRATIO  506 non-null    float64\n",
      " 11  LSTAT    486 non-null    float64\n",
      " 12  MEDV     506 non-null    float64\n",
      "dtypes: float64(11), int64(2)\n",
      "memory usage: 51.5 KB\n"
     ]
    },
    {
     "data": {
      "text/plain": [
       "None"
      ]
     },
     "metadata": {},
     "output_type": "display_data"
    },
    {
     "data": {
      "text/html": [
       "<div>\n",
       "<style scoped>\n",
       "    .dataframe tbody tr th:only-of-type {\n",
       "        vertical-align: middle;\n",
       "    }\n",
       "\n",
       "    .dataframe tbody tr th {\n",
       "        vertical-align: top;\n",
       "    }\n",
       "\n",
       "    .dataframe thead th {\n",
       "        text-align: right;\n",
       "    }\n",
       "</style>\n",
       "<table border=\"1\" class=\"dataframe\">\n",
       "  <thead>\n",
       "    <tr style=\"text-align: right;\">\n",
       "      <th></th>\n",
       "      <th>CRIM</th>\n",
       "      <th>ZN</th>\n",
       "      <th>INDUS</th>\n",
       "      <th>CHAS</th>\n",
       "      <th>NOX</th>\n",
       "      <th>RM</th>\n",
       "      <th>AGE</th>\n",
       "      <th>DIS</th>\n",
       "      <th>RAD</th>\n",
       "      <th>TAX</th>\n",
       "      <th>PTRATIO</th>\n",
       "      <th>LSTAT</th>\n",
       "      <th>MEDV</th>\n",
       "    </tr>\n",
       "  </thead>\n",
       "  <tbody>\n",
       "    <tr>\n",
       "      <th>0</th>\n",
       "      <td>0.00632</td>\n",
       "      <td>18.0</td>\n",
       "      <td>2.31</td>\n",
       "      <td>0.0</td>\n",
       "      <td>0.538</td>\n",
       "      <td>6.575</td>\n",
       "      <td>65.2</td>\n",
       "      <td>4.0900</td>\n",
       "      <td>1</td>\n",
       "      <td>296</td>\n",
       "      <td>15.3</td>\n",
       "      <td>4.98</td>\n",
       "      <td>24.0</td>\n",
       "    </tr>\n",
       "    <tr>\n",
       "      <th>1</th>\n",
       "      <td>0.02731</td>\n",
       "      <td>0.0</td>\n",
       "      <td>7.07</td>\n",
       "      <td>0.0</td>\n",
       "      <td>0.469</td>\n",
       "      <td>6.421</td>\n",
       "      <td>78.9</td>\n",
       "      <td>4.9671</td>\n",
       "      <td>2</td>\n",
       "      <td>242</td>\n",
       "      <td>17.8</td>\n",
       "      <td>9.14</td>\n",
       "      <td>21.6</td>\n",
       "    </tr>\n",
       "    <tr>\n",
       "      <th>2</th>\n",
       "      <td>0.02729</td>\n",
       "      <td>0.0</td>\n",
       "      <td>7.07</td>\n",
       "      <td>0.0</td>\n",
       "      <td>0.469</td>\n",
       "      <td>7.185</td>\n",
       "      <td>61.1</td>\n",
       "      <td>4.9671</td>\n",
       "      <td>2</td>\n",
       "      <td>242</td>\n",
       "      <td>17.8</td>\n",
       "      <td>4.03</td>\n",
       "      <td>34.7</td>\n",
       "    </tr>\n",
       "    <tr>\n",
       "      <th>3</th>\n",
       "      <td>0.03237</td>\n",
       "      <td>0.0</td>\n",
       "      <td>2.18</td>\n",
       "      <td>0.0</td>\n",
       "      <td>0.458</td>\n",
       "      <td>6.998</td>\n",
       "      <td>45.8</td>\n",
       "      <td>6.0622</td>\n",
       "      <td>3</td>\n",
       "      <td>222</td>\n",
       "      <td>18.7</td>\n",
       "      <td>2.94</td>\n",
       "      <td>33.4</td>\n",
       "    </tr>\n",
       "    <tr>\n",
       "      <th>4</th>\n",
       "      <td>0.06905</td>\n",
       "      <td>0.0</td>\n",
       "      <td>2.18</td>\n",
       "      <td>0.0</td>\n",
       "      <td>0.458</td>\n",
       "      <td>7.147</td>\n",
       "      <td>54.2</td>\n",
       "      <td>6.0622</td>\n",
       "      <td>3</td>\n",
       "      <td>222</td>\n",
       "      <td>18.7</td>\n",
       "      <td>NaN</td>\n",
       "      <td>36.2</td>\n",
       "    </tr>\n",
       "  </tbody>\n",
       "</table>\n",
       "</div>"
      ],
      "text/plain": [
       "      CRIM    ZN  INDUS  CHAS    NOX     RM   AGE     DIS  RAD  TAX  PTRATIO  \\\n",
       "0  0.00632  18.0   2.31   0.0  0.538  6.575  65.2  4.0900    1  296     15.3   \n",
       "1  0.02731   0.0   7.07   0.0  0.469  6.421  78.9  4.9671    2  242     17.8   \n",
       "2  0.02729   0.0   7.07   0.0  0.469  7.185  61.1  4.9671    2  242     17.8   \n",
       "3  0.03237   0.0   2.18   0.0  0.458  6.998  45.8  6.0622    3  222     18.7   \n",
       "4  0.06905   0.0   2.18   0.0  0.458  7.147  54.2  6.0622    3  222     18.7   \n",
       "\n",
       "   LSTAT  MEDV  \n",
       "0   4.98  24.0  \n",
       "1   9.14  21.6  \n",
       "2   4.03  34.7  \n",
       "3   2.94  33.4  \n",
       "4    NaN  36.2  "
      ]
     },
     "metadata": {},
     "output_type": "display_data"
    },
    {
     "data": {
      "text/html": [
       "<div>\n",
       "<style scoped>\n",
       "    .dataframe tbody tr th:only-of-type {\n",
       "        vertical-align: middle;\n",
       "    }\n",
       "\n",
       "    .dataframe tbody tr th {\n",
       "        vertical-align: top;\n",
       "    }\n",
       "\n",
       "    .dataframe thead th {\n",
       "        text-align: right;\n",
       "    }\n",
       "</style>\n",
       "<table border=\"1\" class=\"dataframe\">\n",
       "  <thead>\n",
       "    <tr style=\"text-align: right;\">\n",
       "      <th></th>\n",
       "      <th>CRIM</th>\n",
       "      <th>ZN</th>\n",
       "      <th>INDUS</th>\n",
       "      <th>CHAS</th>\n",
       "      <th>NOX</th>\n",
       "      <th>RM</th>\n",
       "      <th>AGE</th>\n",
       "      <th>DIS</th>\n",
       "      <th>RAD</th>\n",
       "      <th>TAX</th>\n",
       "      <th>PTRATIO</th>\n",
       "      <th>LSTAT</th>\n",
       "      <th>MEDV</th>\n",
       "    </tr>\n",
       "  </thead>\n",
       "  <tbody>\n",
       "    <tr>\n",
       "      <th>count</th>\n",
       "      <td>486.000000</td>\n",
       "      <td>486.000000</td>\n",
       "      <td>486.000000</td>\n",
       "      <td>486.000000</td>\n",
       "      <td>506.000000</td>\n",
       "      <td>506.000000</td>\n",
       "      <td>486.000000</td>\n",
       "      <td>506.000000</td>\n",
       "      <td>506.000000</td>\n",
       "      <td>506.000000</td>\n",
       "      <td>506.000000</td>\n",
       "      <td>486.000000</td>\n",
       "      <td>506.000000</td>\n",
       "    </tr>\n",
       "    <tr>\n",
       "      <th>mean</th>\n",
       "      <td>3.611874</td>\n",
       "      <td>11.211934</td>\n",
       "      <td>11.083992</td>\n",
       "      <td>0.069959</td>\n",
       "      <td>0.554695</td>\n",
       "      <td>6.284634</td>\n",
       "      <td>68.518519</td>\n",
       "      <td>3.795043</td>\n",
       "      <td>9.549407</td>\n",
       "      <td>408.237154</td>\n",
       "      <td>18.455534</td>\n",
       "      <td>12.715432</td>\n",
       "      <td>22.532806</td>\n",
       "    </tr>\n",
       "    <tr>\n",
       "      <th>std</th>\n",
       "      <td>8.720192</td>\n",
       "      <td>23.388876</td>\n",
       "      <td>6.835896</td>\n",
       "      <td>0.255340</td>\n",
       "      <td>0.115878</td>\n",
       "      <td>0.702617</td>\n",
       "      <td>27.999513</td>\n",
       "      <td>2.105710</td>\n",
       "      <td>8.707259</td>\n",
       "      <td>168.537116</td>\n",
       "      <td>2.164946</td>\n",
       "      <td>7.155871</td>\n",
       "      <td>9.197104</td>\n",
       "    </tr>\n",
       "    <tr>\n",
       "      <th>min</th>\n",
       "      <td>0.006320</td>\n",
       "      <td>0.000000</td>\n",
       "      <td>0.460000</td>\n",
       "      <td>0.000000</td>\n",
       "      <td>0.385000</td>\n",
       "      <td>3.561000</td>\n",
       "      <td>2.900000</td>\n",
       "      <td>1.129600</td>\n",
       "      <td>1.000000</td>\n",
       "      <td>187.000000</td>\n",
       "      <td>12.600000</td>\n",
       "      <td>1.730000</td>\n",
       "      <td>5.000000</td>\n",
       "    </tr>\n",
       "    <tr>\n",
       "      <th>25%</th>\n",
       "      <td>0.081900</td>\n",
       "      <td>0.000000</td>\n",
       "      <td>5.190000</td>\n",
       "      <td>0.000000</td>\n",
       "      <td>0.449000</td>\n",
       "      <td>5.885500</td>\n",
       "      <td>45.175000</td>\n",
       "      <td>2.100175</td>\n",
       "      <td>4.000000</td>\n",
       "      <td>279.000000</td>\n",
       "      <td>17.400000</td>\n",
       "      <td>7.125000</td>\n",
       "      <td>17.025000</td>\n",
       "    </tr>\n",
       "    <tr>\n",
       "      <th>50%</th>\n",
       "      <td>0.253715</td>\n",
       "      <td>0.000000</td>\n",
       "      <td>9.690000</td>\n",
       "      <td>0.000000</td>\n",
       "      <td>0.538000</td>\n",
       "      <td>6.208500</td>\n",
       "      <td>76.800000</td>\n",
       "      <td>3.207450</td>\n",
       "      <td>5.000000</td>\n",
       "      <td>330.000000</td>\n",
       "      <td>19.050000</td>\n",
       "      <td>11.430000</td>\n",
       "      <td>21.200000</td>\n",
       "    </tr>\n",
       "    <tr>\n",
       "      <th>75%</th>\n",
       "      <td>3.560263</td>\n",
       "      <td>12.500000</td>\n",
       "      <td>18.100000</td>\n",
       "      <td>0.000000</td>\n",
       "      <td>0.624000</td>\n",
       "      <td>6.623500</td>\n",
       "      <td>93.975000</td>\n",
       "      <td>5.188425</td>\n",
       "      <td>24.000000</td>\n",
       "      <td>666.000000</td>\n",
       "      <td>20.200000</td>\n",
       "      <td>16.955000</td>\n",
       "      <td>25.000000</td>\n",
       "    </tr>\n",
       "    <tr>\n",
       "      <th>max</th>\n",
       "      <td>88.976200</td>\n",
       "      <td>100.000000</td>\n",
       "      <td>27.740000</td>\n",
       "      <td>1.000000</td>\n",
       "      <td>0.871000</td>\n",
       "      <td>8.780000</td>\n",
       "      <td>100.000000</td>\n",
       "      <td>12.126500</td>\n",
       "      <td>24.000000</td>\n",
       "      <td>711.000000</td>\n",
       "      <td>22.000000</td>\n",
       "      <td>37.970000</td>\n",
       "      <td>50.000000</td>\n",
       "    </tr>\n",
       "  </tbody>\n",
       "</table>\n",
       "</div>"
      ],
      "text/plain": [
       "             CRIM          ZN       INDUS        CHAS         NOX          RM  \\\n",
       "count  486.000000  486.000000  486.000000  486.000000  506.000000  506.000000   \n",
       "mean     3.611874   11.211934   11.083992    0.069959    0.554695    6.284634   \n",
       "std      8.720192   23.388876    6.835896    0.255340    0.115878    0.702617   \n",
       "min      0.006320    0.000000    0.460000    0.000000    0.385000    3.561000   \n",
       "25%      0.081900    0.000000    5.190000    0.000000    0.449000    5.885500   \n",
       "50%      0.253715    0.000000    9.690000    0.000000    0.538000    6.208500   \n",
       "75%      3.560263   12.500000   18.100000    0.000000    0.624000    6.623500   \n",
       "max     88.976200  100.000000   27.740000    1.000000    0.871000    8.780000   \n",
       "\n",
       "              AGE         DIS         RAD         TAX     PTRATIO       LSTAT  \\\n",
       "count  486.000000  506.000000  506.000000  506.000000  506.000000  486.000000   \n",
       "mean    68.518519    3.795043    9.549407  408.237154   18.455534   12.715432   \n",
       "std     27.999513    2.105710    8.707259  168.537116    2.164946    7.155871   \n",
       "min      2.900000    1.129600    1.000000  187.000000   12.600000    1.730000   \n",
       "25%     45.175000    2.100175    4.000000  279.000000   17.400000    7.125000   \n",
       "50%     76.800000    3.207450    5.000000  330.000000   19.050000   11.430000   \n",
       "75%     93.975000    5.188425   24.000000  666.000000   20.200000   16.955000   \n",
       "max    100.000000   12.126500   24.000000  711.000000   22.000000   37.970000   \n",
       "\n",
       "             MEDV  \n",
       "count  506.000000  \n",
       "mean    22.532806  \n",
       "std      9.197104  \n",
       "min      5.000000  \n",
       "25%     17.025000  \n",
       "50%     21.200000  \n",
       "75%     25.000000  \n",
       "max     50.000000  "
      ]
     },
     "metadata": {},
     "output_type": "display_data"
    }
   ],
   "source": [
    "display(df.info())\n",
    "display(df.head())\n",
    "display(df.describe())"
   ]
  },
  {
   "cell_type": "markdown",
   "id": "6f824613",
   "metadata": {
    "papermill": {
     "duration": 0.009859,
     "end_time": "2024-02-19T09:33:15.521528",
     "exception": false,
     "start_time": "2024-02-19T09:33:15.511669",
     "status": "completed"
    },
    "tags": []
   },
   "source": [
    "Now lets learn about the size of our data, there are 506 rows and 13 columns\n"
   ]
  },
  {
   "cell_type": "code",
   "execution_count": 5,
   "id": "52356286",
   "metadata": {
    "execution": {
     "iopub.execute_input": "2024-02-19T09:33:15.546404Z",
     "iopub.status.busy": "2024-02-19T09:33:15.544328Z",
     "iopub.status.idle": "2024-02-19T09:33:15.552607Z",
     "shell.execute_reply": "2024-02-19T09:33:15.551721Z"
    },
    "papermill": {
     "duration": 0.0228,
     "end_time": "2024-02-19T09:33:15.554812",
     "exception": false,
     "start_time": "2024-02-19T09:33:15.532012",
     "status": "completed"
    },
    "tags": []
   },
   "outputs": [
    {
     "data": {
      "text/plain": [
       "(506, 13)"
      ]
     },
     "execution_count": 5,
     "metadata": {},
     "output_type": "execute_result"
    }
   ],
   "source": [
    "df.shape"
   ]
  },
  {
   "cell_type": "markdown",
   "id": "3c6990a9",
   "metadata": {
    "papermill": {
     "duration": 0.011269,
     "end_time": "2024-02-19T09:33:15.576187",
     "exception": false,
     "start_time": "2024-02-19T09:33:15.564918",
     "status": "completed"
    },
    "tags": []
   },
   "source": [
    "Most of the data is valid, there are rows with missing values which we will deal with in pre-processing\n"
   ]
  },
  {
   "cell_type": "code",
   "execution_count": 6,
   "id": "1d5982ca",
   "metadata": {
    "execution": {
     "iopub.execute_input": "2024-02-19T09:33:15.601684Z",
     "iopub.status.busy": "2024-02-19T09:33:15.600316Z",
     "iopub.status.idle": "2024-02-19T09:33:15.612234Z",
     "shell.execute_reply": "2024-02-19T09:33:15.610986Z"
    },
    "papermill": {
     "duration": 0.026388,
     "end_time": "2024-02-19T09:33:15.614712",
     "exception": false,
     "start_time": "2024-02-19T09:33:15.588324",
     "status": "completed"
    },
    "tags": []
   },
   "outputs": [
    {
     "data": {
      "text/plain": [
       "CRIM       20\n",
       "ZN         20\n",
       "INDUS      20\n",
       "CHAS       20\n",
       "NOX         0\n",
       "RM          0\n",
       "AGE        20\n",
       "DIS         0\n",
       "RAD         0\n",
       "TAX         0\n",
       "PTRATIO     0\n",
       "LSTAT      20\n",
       "MEDV        0\n",
       "dtype: int64"
      ]
     },
     "execution_count": 6,
     "metadata": {},
     "output_type": "execute_result"
    }
   ],
   "source": [
    "df.isna().sum()"
   ]
  },
  {
   "cell_type": "markdown",
   "id": "46e98e0d",
   "metadata": {
    "papermill": {
     "duration": 0.010908,
     "end_time": "2024-02-19T09:33:15.636326",
     "exception": false,
     "start_time": "2024-02-19T09:33:15.625418",
     "status": "completed"
    },
    "tags": []
   },
   "source": [
    "## Data Preprocessing\n"
   ]
  },
  {
   "cell_type": "markdown",
   "id": "7713a4a6",
   "metadata": {
    "papermill": {
     "duration": 0.011005,
     "end_time": "2024-02-19T09:33:15.658470",
     "exception": false,
     "start_time": "2024-02-19T09:33:15.647465",
     "status": "completed"
    },
    "tags": []
   },
   "source": [
    "First lets drop the rows with missing values because we have enough data in our dataset\n"
   ]
  },
  {
   "cell_type": "code",
   "execution_count": 7,
   "id": "0794508b",
   "metadata": {
    "execution": {
     "iopub.execute_input": "2024-02-19T09:33:15.682509Z",
     "iopub.status.busy": "2024-02-19T09:33:15.682031Z",
     "iopub.status.idle": "2024-02-19T09:33:15.691995Z",
     "shell.execute_reply": "2024-02-19T09:33:15.690420Z"
    },
    "papermill": {
     "duration": 0.025446,
     "end_time": "2024-02-19T09:33:15.694847",
     "exception": false,
     "start_time": "2024-02-19T09:33:15.669401",
     "status": "completed"
    },
    "tags": []
   },
   "outputs": [],
   "source": [
    "df = df.dropna()"
   ]
  },
  {
   "cell_type": "markdown",
   "id": "91c465da",
   "metadata": {
    "papermill": {
     "duration": 0.011069,
     "end_time": "2024-02-19T09:33:15.718585",
     "exception": false,
     "start_time": "2024-02-19T09:33:15.707516",
     "status": "completed"
    },
    "tags": []
   },
   "source": [
    "Now we can see our dataset has no missing values\n"
   ]
  },
  {
   "cell_type": "code",
   "execution_count": 8,
   "id": "da6c11da",
   "metadata": {
    "execution": {
     "iopub.execute_input": "2024-02-19T09:33:15.742445Z",
     "iopub.status.busy": "2024-02-19T09:33:15.741719Z",
     "iopub.status.idle": "2024-02-19T09:33:15.751129Z",
     "shell.execute_reply": "2024-02-19T09:33:15.749823Z"
    },
    "papermill": {
     "duration": 0.02411,
     "end_time": "2024-02-19T09:33:15.753741",
     "exception": false,
     "start_time": "2024-02-19T09:33:15.729631",
     "status": "completed"
    },
    "tags": []
   },
   "outputs": [
    {
     "data": {
      "text/plain": [
       "CRIM       0\n",
       "ZN         0\n",
       "INDUS      0\n",
       "CHAS       0\n",
       "NOX        0\n",
       "RM         0\n",
       "AGE        0\n",
       "DIS        0\n",
       "RAD        0\n",
       "TAX        0\n",
       "PTRATIO    0\n",
       "LSTAT      0\n",
       "MEDV       0\n",
       "dtype: int64"
      ]
     },
     "execution_count": 8,
     "metadata": {},
     "output_type": "execute_result"
    }
   ],
   "source": [
    "df.isna().sum()"
   ]
  },
  {
   "cell_type": "markdown",
   "id": "00181826",
   "metadata": {
    "papermill": {
     "duration": 0.01078,
     "end_time": "2024-02-19T09:33:15.776146",
     "exception": false,
     "start_time": "2024-02-19T09:33:15.765366",
     "status": "completed"
    },
    "tags": []
   },
   "source": [
    "Lets split the dataset into our features and what we are predicting (target)\n"
   ]
  },
  {
   "cell_type": "code",
   "execution_count": 9,
   "id": "af9db7c1",
   "metadata": {
    "execution": {
     "iopub.execute_input": "2024-02-19T09:33:15.800370Z",
     "iopub.status.busy": "2024-02-19T09:33:15.799948Z",
     "iopub.status.idle": "2024-02-19T09:33:15.806731Z",
     "shell.execute_reply": "2024-02-19T09:33:15.805274Z"
    },
    "papermill": {
     "duration": 0.022315,
     "end_time": "2024-02-19T09:33:15.810214",
     "exception": false,
     "start_time": "2024-02-19T09:33:15.787899",
     "status": "completed"
    },
    "tags": []
   },
   "outputs": [],
   "source": [
    "X = df.drop([\"MEDV\"], axis=1)\n",
    "Y = df[\"MEDV\"]"
   ]
  },
  {
   "cell_type": "code",
   "execution_count": 10,
   "id": "548b7a80",
   "metadata": {
    "execution": {
     "iopub.execute_input": "2024-02-19T09:33:15.833935Z",
     "iopub.status.busy": "2024-02-19T09:33:15.833514Z",
     "iopub.status.idle": "2024-02-19T09:33:15.853987Z",
     "shell.execute_reply": "2024-02-19T09:33:15.852752Z"
    },
    "papermill": {
     "duration": 0.034833,
     "end_time": "2024-02-19T09:33:15.856299",
     "exception": false,
     "start_time": "2024-02-19T09:33:15.821466",
     "status": "completed"
    },
    "tags": []
   },
   "outputs": [
    {
     "data": {
      "text/html": [
       "<div>\n",
       "<style scoped>\n",
       "    .dataframe tbody tr th:only-of-type {\n",
       "        vertical-align: middle;\n",
       "    }\n",
       "\n",
       "    .dataframe tbody tr th {\n",
       "        vertical-align: top;\n",
       "    }\n",
       "\n",
       "    .dataframe thead th {\n",
       "        text-align: right;\n",
       "    }\n",
       "</style>\n",
       "<table border=\"1\" class=\"dataframe\">\n",
       "  <thead>\n",
       "    <tr style=\"text-align: right;\">\n",
       "      <th></th>\n",
       "      <th>CRIM</th>\n",
       "      <th>ZN</th>\n",
       "      <th>INDUS</th>\n",
       "      <th>CHAS</th>\n",
       "      <th>NOX</th>\n",
       "      <th>RM</th>\n",
       "      <th>AGE</th>\n",
       "      <th>DIS</th>\n",
       "      <th>RAD</th>\n",
       "      <th>TAX</th>\n",
       "      <th>PTRATIO</th>\n",
       "      <th>LSTAT</th>\n",
       "    </tr>\n",
       "  </thead>\n",
       "  <tbody>\n",
       "    <tr>\n",
       "      <th>0</th>\n",
       "      <td>0.00632</td>\n",
       "      <td>18.0</td>\n",
       "      <td>2.31</td>\n",
       "      <td>0.0</td>\n",
       "      <td>0.538</td>\n",
       "      <td>6.575</td>\n",
       "      <td>65.2</td>\n",
       "      <td>4.0900</td>\n",
       "      <td>1</td>\n",
       "      <td>296</td>\n",
       "      <td>15.3</td>\n",
       "      <td>4.98</td>\n",
       "    </tr>\n",
       "    <tr>\n",
       "      <th>1</th>\n",
       "      <td>0.02731</td>\n",
       "      <td>0.0</td>\n",
       "      <td>7.07</td>\n",
       "      <td>0.0</td>\n",
       "      <td>0.469</td>\n",
       "      <td>6.421</td>\n",
       "      <td>78.9</td>\n",
       "      <td>4.9671</td>\n",
       "      <td>2</td>\n",
       "      <td>242</td>\n",
       "      <td>17.8</td>\n",
       "      <td>9.14</td>\n",
       "    </tr>\n",
       "    <tr>\n",
       "      <th>2</th>\n",
       "      <td>0.02729</td>\n",
       "      <td>0.0</td>\n",
       "      <td>7.07</td>\n",
       "      <td>0.0</td>\n",
       "      <td>0.469</td>\n",
       "      <td>7.185</td>\n",
       "      <td>61.1</td>\n",
       "      <td>4.9671</td>\n",
       "      <td>2</td>\n",
       "      <td>242</td>\n",
       "      <td>17.8</td>\n",
       "      <td>4.03</td>\n",
       "    </tr>\n",
       "    <tr>\n",
       "      <th>3</th>\n",
       "      <td>0.03237</td>\n",
       "      <td>0.0</td>\n",
       "      <td>2.18</td>\n",
       "      <td>0.0</td>\n",
       "      <td>0.458</td>\n",
       "      <td>6.998</td>\n",
       "      <td>45.8</td>\n",
       "      <td>6.0622</td>\n",
       "      <td>3</td>\n",
       "      <td>222</td>\n",
       "      <td>18.7</td>\n",
       "      <td>2.94</td>\n",
       "    </tr>\n",
       "    <tr>\n",
       "      <th>5</th>\n",
       "      <td>0.02985</td>\n",
       "      <td>0.0</td>\n",
       "      <td>2.18</td>\n",
       "      <td>0.0</td>\n",
       "      <td>0.458</td>\n",
       "      <td>6.430</td>\n",
       "      <td>58.7</td>\n",
       "      <td>6.0622</td>\n",
       "      <td>3</td>\n",
       "      <td>222</td>\n",
       "      <td>18.7</td>\n",
       "      <td>5.21</td>\n",
       "    </tr>\n",
       "  </tbody>\n",
       "</table>\n",
       "</div>"
      ],
      "text/plain": [
       "      CRIM    ZN  INDUS  CHAS    NOX     RM   AGE     DIS  RAD  TAX  PTRATIO  \\\n",
       "0  0.00632  18.0   2.31   0.0  0.538  6.575  65.2  4.0900    1  296     15.3   \n",
       "1  0.02731   0.0   7.07   0.0  0.469  6.421  78.9  4.9671    2  242     17.8   \n",
       "2  0.02729   0.0   7.07   0.0  0.469  7.185  61.1  4.9671    2  242     17.8   \n",
       "3  0.03237   0.0   2.18   0.0  0.458  6.998  45.8  6.0622    3  222     18.7   \n",
       "5  0.02985   0.0   2.18   0.0  0.458  6.430  58.7  6.0622    3  222     18.7   \n",
       "\n",
       "   LSTAT  \n",
       "0   4.98  \n",
       "1   9.14  \n",
       "2   4.03  \n",
       "3   2.94  \n",
       "5   5.21  "
      ]
     },
     "execution_count": 10,
     "metadata": {},
     "output_type": "execute_result"
    }
   ],
   "source": [
    "X.head()"
   ]
  },
  {
   "cell_type": "code",
   "execution_count": 11,
   "id": "f098a9b8",
   "metadata": {
    "execution": {
     "iopub.execute_input": "2024-02-19T09:33:15.880555Z",
     "iopub.status.busy": "2024-02-19T09:33:15.879718Z",
     "iopub.status.idle": "2024-02-19T09:33:15.888696Z",
     "shell.execute_reply": "2024-02-19T09:33:15.887598Z"
    },
    "papermill": {
     "duration": 0.023883,
     "end_time": "2024-02-19T09:33:15.891018",
     "exception": false,
     "start_time": "2024-02-19T09:33:15.867135",
     "status": "completed"
    },
    "tags": []
   },
   "outputs": [
    {
     "data": {
      "text/plain": [
       "0    24.0\n",
       "1    21.6\n",
       "2    34.7\n",
       "3    33.4\n",
       "5    28.7\n",
       "Name: MEDV, dtype: float64"
      ]
     },
     "execution_count": 11,
     "metadata": {},
     "output_type": "execute_result"
    }
   ],
   "source": [
    "Y.head()"
   ]
  },
  {
   "cell_type": "markdown",
   "id": "b07e5ef1",
   "metadata": {
    "papermill": {
     "duration": 0.010962,
     "end_time": "2024-02-19T09:33:15.913905",
     "exception": false,
     "start_time": "2024-02-19T09:33:15.902943",
     "status": "completed"
    },
    "tags": []
   },
   "source": [
    "Finally lets split our data into a training and testing dataset using `train_test_split` from `sklearn.model_selection`\n"
   ]
  },
  {
   "cell_type": "code",
   "execution_count": 12,
   "id": "8a3a88fd",
   "metadata": {
    "execution": {
     "iopub.execute_input": "2024-02-19T09:33:15.939615Z",
     "iopub.status.busy": "2024-02-19T09:33:15.939235Z",
     "iopub.status.idle": "2024-02-19T09:33:15.948379Z",
     "shell.execute_reply": "2024-02-19T09:33:15.946804Z"
    },
    "papermill": {
     "duration": 0.025833,
     "end_time": "2024-02-19T09:33:15.951606",
     "exception": false,
     "start_time": "2024-02-19T09:33:15.925773",
     "status": "completed"
    },
    "tags": []
   },
   "outputs": [],
   "source": [
    "X_train, X_test, Y_train, Y_test = train_test_split(X, Y, test_size=.2, random_state=1)"
   ]
  },
  {
   "cell_type": "markdown",
   "id": "cd5b2f78",
   "metadata": {
    "papermill": {
     "duration": 0.011884,
     "end_time": "2024-02-19T09:33:15.974933",
     "exception": false,
     "start_time": "2024-02-19T09:33:15.963049",
     "status": "completed"
    },
    "tags": []
   },
   "source": [
    "## Create Regression Tree\n"
   ]
  },
  {
   "cell_type": "markdown",
   "id": "b7e9e6da",
   "metadata": {
    "papermill": {
     "duration": 0.07734,
     "end_time": "2024-02-19T09:33:16.063605",
     "exception": false,
     "start_time": "2024-02-19T09:33:15.986265",
     "status": "completed"
    },
    "tags": []
   },
   "source": [
    "Regression Trees are implemented using `DecisionTreeRegressor` from `sklearn.tree`\n",
    "\n",
    "The important parameters of `DecisionTreeRegressor` are\n",
    "\n",
    "`criterion`: {\"mse\", \"friedman_mse\", \"mae\", \"poisson\"} - The function used to measure error\n",
    "\n",
    "`max_depth` - The max depth the tree can be\n",
    "\n",
    "`min_samples_split` - The minimum number of samples required to split a node\n",
    "\n",
    "`min_samples_leaf` - The minimum number of samples that a leaf can contain\n",
    "\n",
    "`max_features`: {\"auto\", \"sqrt\", \"log2\"} - The number of feature we examine looking for the best one, used to speed up training\n"
   ]
  },
  {
   "cell_type": "markdown",
   "id": "00e1ac49",
   "metadata": {
    "papermill": {
     "duration": 0.013737,
     "end_time": "2024-02-19T09:33:16.091303",
     "exception": false,
     "start_time": "2024-02-19T09:33:16.077566",
     "status": "completed"
    },
    "tags": []
   },
   "source": [
    "First lets start by creating a `DecisionTreeRegressor` object,  setting the `criterion` parameter to `mse` for  Mean Squared Error\n"
   ]
  },
  {
   "cell_type": "code",
   "execution_count": 13,
   "id": "b5387143",
   "metadata": {
    "execution": {
     "iopub.execute_input": "2024-02-19T09:33:16.122612Z",
     "iopub.status.busy": "2024-02-19T09:33:16.122169Z",
     "iopub.status.idle": "2024-02-19T09:33:16.128211Z",
     "shell.execute_reply": "2024-02-19T09:33:16.127078Z"
    },
    "papermill": {
     "duration": 0.026325,
     "end_time": "2024-02-19T09:33:16.131646",
     "exception": false,
     "start_time": "2024-02-19T09:33:16.105321",
     "status": "completed"
    },
    "tags": []
   },
   "outputs": [],
   "source": [
    "regression_tree = DecisionTreeRegressor(criterion='squared_error')"
   ]
  },
  {
   "cell_type": "markdown",
   "id": "5ad9f515",
   "metadata": {
    "papermill": {
     "duration": 0.012575,
     "end_time": "2024-02-19T09:33:16.156904",
     "exception": false,
     "start_time": "2024-02-19T09:33:16.144329",
     "status": "completed"
    },
    "tags": []
   },
   "source": [
    "## Training\n"
   ]
  },
  {
   "cell_type": "markdown",
   "id": "14957e50",
   "metadata": {
    "papermill": {
     "duration": 0.015096,
     "end_time": "2024-02-19T09:33:16.191591",
     "exception": false,
     "start_time": "2024-02-19T09:33:16.176495",
     "status": "completed"
    },
    "tags": []
   },
   "source": [
    "Now lets train our model using the `fit` method on the `DecisionTreeRegressor` object providing our training data\n"
   ]
  },
  {
   "cell_type": "code",
   "execution_count": 14,
   "id": "64f5c766",
   "metadata": {
    "execution": {
     "iopub.execute_input": "2024-02-19T09:33:16.225820Z",
     "iopub.status.busy": "2024-02-19T09:33:16.225394Z",
     "iopub.status.idle": "2024-02-19T09:33:16.245968Z",
     "shell.execute_reply": "2024-02-19T09:33:16.244402Z"
    },
    "papermill": {
     "duration": 0.042487,
     "end_time": "2024-02-19T09:33:16.248861",
     "exception": false,
     "start_time": "2024-02-19T09:33:16.206374",
     "status": "completed"
    },
    "tags": []
   },
   "outputs": [
    {
     "data": {
      "text/html": [
       "<style>#sk-container-id-1 {color: black;background-color: white;}#sk-container-id-1 pre{padding: 0;}#sk-container-id-1 div.sk-toggleable {background-color: white;}#sk-container-id-1 label.sk-toggleable__label {cursor: pointer;display: block;width: 100%;margin-bottom: 0;padding: 0.3em;box-sizing: border-box;text-align: center;}#sk-container-id-1 label.sk-toggleable__label-arrow:before {content: \"▸\";float: left;margin-right: 0.25em;color: #696969;}#sk-container-id-1 label.sk-toggleable__label-arrow:hover:before {color: black;}#sk-container-id-1 div.sk-estimator:hover label.sk-toggleable__label-arrow:before {color: black;}#sk-container-id-1 div.sk-toggleable__content {max-height: 0;max-width: 0;overflow: hidden;text-align: left;background-color: #f0f8ff;}#sk-container-id-1 div.sk-toggleable__content pre {margin: 0.2em;color: black;border-radius: 0.25em;background-color: #f0f8ff;}#sk-container-id-1 input.sk-toggleable__control:checked~div.sk-toggleable__content {max-height: 200px;max-width: 100%;overflow: auto;}#sk-container-id-1 input.sk-toggleable__control:checked~label.sk-toggleable__label-arrow:before {content: \"▾\";}#sk-container-id-1 div.sk-estimator input.sk-toggleable__control:checked~label.sk-toggleable__label {background-color: #d4ebff;}#sk-container-id-1 div.sk-label input.sk-toggleable__control:checked~label.sk-toggleable__label {background-color: #d4ebff;}#sk-container-id-1 input.sk-hidden--visually {border: 0;clip: rect(1px 1px 1px 1px);clip: rect(1px, 1px, 1px, 1px);height: 1px;margin: -1px;overflow: hidden;padding: 0;position: absolute;width: 1px;}#sk-container-id-1 div.sk-estimator {font-family: monospace;background-color: #f0f8ff;border: 1px dotted black;border-radius: 0.25em;box-sizing: border-box;margin-bottom: 0.5em;}#sk-container-id-1 div.sk-estimator:hover {background-color: #d4ebff;}#sk-container-id-1 div.sk-parallel-item::after {content: \"\";width: 100%;border-bottom: 1px solid gray;flex-grow: 1;}#sk-container-id-1 div.sk-label:hover label.sk-toggleable__label {background-color: #d4ebff;}#sk-container-id-1 div.sk-serial::before {content: \"\";position: absolute;border-left: 1px solid gray;box-sizing: border-box;top: 0;bottom: 0;left: 50%;z-index: 0;}#sk-container-id-1 div.sk-serial {display: flex;flex-direction: column;align-items: center;background-color: white;padding-right: 0.2em;padding-left: 0.2em;position: relative;}#sk-container-id-1 div.sk-item {position: relative;z-index: 1;}#sk-container-id-1 div.sk-parallel {display: flex;align-items: stretch;justify-content: center;background-color: white;position: relative;}#sk-container-id-1 div.sk-item::before, #sk-container-id-1 div.sk-parallel-item::before {content: \"\";position: absolute;border-left: 1px solid gray;box-sizing: border-box;top: 0;bottom: 0;left: 50%;z-index: -1;}#sk-container-id-1 div.sk-parallel-item {display: flex;flex-direction: column;z-index: 1;position: relative;background-color: white;}#sk-container-id-1 div.sk-parallel-item:first-child::after {align-self: flex-end;width: 50%;}#sk-container-id-1 div.sk-parallel-item:last-child::after {align-self: flex-start;width: 50%;}#sk-container-id-1 div.sk-parallel-item:only-child::after {width: 0;}#sk-container-id-1 div.sk-dashed-wrapped {border: 1px dashed gray;margin: 0 0.4em 0.5em 0.4em;box-sizing: border-box;padding-bottom: 0.4em;background-color: white;}#sk-container-id-1 div.sk-label label {font-family: monospace;font-weight: bold;display: inline-block;line-height: 1.2em;}#sk-container-id-1 div.sk-label-container {text-align: center;}#sk-container-id-1 div.sk-container {/* jupyter's `normalize.less` sets `[hidden] { display: none; }` but bootstrap.min.css set `[hidden] { display: none !important; }` so we also need the `!important` here to be able to override the default hidden behavior on the sphinx rendered scikit-learn.org. See: https://github.com/scikit-learn/scikit-learn/issues/21755 */display: inline-block !important;position: relative;}#sk-container-id-1 div.sk-text-repr-fallback {display: none;}</style><div id=\"sk-container-id-1\" class=\"sk-top-container\"><div class=\"sk-text-repr-fallback\"><pre>DecisionTreeRegressor()</pre><b>In a Jupyter environment, please rerun this cell to show the HTML representation or trust the notebook. <br />On GitHub, the HTML representation is unable to render, please try loading this page with nbviewer.org.</b></div><div class=\"sk-container\" hidden><div class=\"sk-item\"><div class=\"sk-estimator sk-toggleable\"><input class=\"sk-toggleable__control sk-hidden--visually\" id=\"sk-estimator-id-1\" type=\"checkbox\" checked><label for=\"sk-estimator-id-1\" class=\"sk-toggleable__label sk-toggleable__label-arrow\">DecisionTreeRegressor</label><div class=\"sk-toggleable__content\"><pre>DecisionTreeRegressor()</pre></div></div></div></div></div>"
      ],
      "text/plain": [
       "DecisionTreeRegressor()"
      ]
     },
     "execution_count": 14,
     "metadata": {},
     "output_type": "execute_result"
    }
   ],
   "source": [
    "regression_tree.fit(X_train, Y_train)"
   ]
  },
  {
   "cell_type": "markdown",
   "id": "7334acfb",
   "metadata": {
    "papermill": {
     "duration": 0.012094,
     "end_time": "2024-02-19T09:33:16.273618",
     "exception": false,
     "start_time": "2024-02-19T09:33:16.261524",
     "status": "completed"
    },
    "tags": []
   },
   "source": [
    "## Evaluation\n"
   ]
  },
  {
   "cell_type": "markdown",
   "id": "1daa41b6",
   "metadata": {
    "papermill": {
     "duration": 0.011043,
     "end_time": "2024-02-19T09:33:16.297174",
     "exception": false,
     "start_time": "2024-02-19T09:33:16.286131",
     "status": "completed"
    },
    "tags": []
   },
   "source": [
    "To evaluate our dataset we will use the `score` method of the `DecisionTreeRegressor` object providing our testing data, this number is the $R^2$ value which indicates the coefficient of determination\n"
   ]
  },
  {
   "cell_type": "code",
   "execution_count": 15,
   "id": "dfbb6fbf",
   "metadata": {
    "execution": {
     "iopub.execute_input": "2024-02-19T09:33:16.322713Z",
     "iopub.status.busy": "2024-02-19T09:33:16.322323Z",
     "iopub.status.idle": "2024-02-19T09:33:16.332221Z",
     "shell.execute_reply": "2024-02-19T09:33:16.330949Z"
    },
    "papermill": {
     "duration": 0.02642,
     "end_time": "2024-02-19T09:33:16.334773",
     "exception": false,
     "start_time": "2024-02-19T09:33:16.308353",
     "status": "completed"
    },
    "tags": []
   },
   "outputs": [
    {
     "data": {
      "text/plain": [
       "0.7470398302842851"
      ]
     },
     "execution_count": 15,
     "metadata": {},
     "output_type": "execute_result"
    }
   ],
   "source": [
    "regression_tree.score(X_test, Y_test)"
   ]
  },
  {
   "cell_type": "markdown",
   "id": "312f7977",
   "metadata": {
    "papermill": {
     "duration": 0.011034,
     "end_time": "2024-02-19T09:33:16.357550",
     "exception": false,
     "start_time": "2024-02-19T09:33:16.346516",
     "status": "completed"
    },
    "tags": []
   },
   "source": [
    "We can also find the average error in our testing set which is the average error in median home value prediction\n"
   ]
  },
  {
   "cell_type": "code",
   "execution_count": 16,
   "id": "f1920601",
   "metadata": {
    "execution": {
     "iopub.execute_input": "2024-02-19T09:33:16.383433Z",
     "iopub.status.busy": "2024-02-19T09:33:16.383047Z",
     "iopub.status.idle": "2024-02-19T09:33:16.394638Z",
     "shell.execute_reply": "2024-02-19T09:33:16.392473Z"
    },
    "papermill": {
     "duration": 0.029997,
     "end_time": "2024-02-19T09:33:16.399210",
     "exception": false,
     "start_time": "2024-02-19T09:33:16.369213",
     "status": "completed"
    },
    "tags": []
   },
   "outputs": [
    {
     "name": "stdout",
     "output_type": "stream",
     "text": [
      "$ 3093.6708860759486\n"
     ]
    }
   ],
   "source": [
    "prediction = regression_tree.predict(X_test)\n",
    "\n",
    "print(\"$\",(prediction - Y_test).abs().mean()*1000)"
   ]
  },
  {
   "cell_type": "markdown",
   "id": "de2f44a8",
   "metadata": {
    "papermill": {
     "duration": 0.012677,
     "end_time": "2024-02-19T09:33:16.427231",
     "exception": false,
     "start_time": "2024-02-19T09:33:16.414554",
     "status": "completed"
    },
    "tags": []
   },
   "source": [
    "## Excercise\n"
   ]
  },
  {
   "cell_type": "markdown",
   "id": "47fda14a",
   "metadata": {
    "papermill": {
     "duration": 0.011463,
     "end_time": "2024-02-19T09:33:16.450767",
     "exception": false,
     "start_time": "2024-02-19T09:33:16.439304",
     "status": "completed"
    },
    "tags": []
   },
   "source": [
    "Train a regression tree using the `criterion` `mae` then report its $R^2$ value and average error\n"
   ]
  },
  {
   "cell_type": "code",
   "execution_count": 17,
   "id": "553f7b06",
   "metadata": {
    "execution": {
     "iopub.execute_input": "2024-02-19T09:33:16.476443Z",
     "iopub.status.busy": "2024-02-19T09:33:16.475598Z",
     "iopub.status.idle": "2024-02-19T09:33:16.508850Z",
     "shell.execute_reply": "2024-02-19T09:33:16.507778Z"
    },
    "papermill": {
     "duration": 0.048813,
     "end_time": "2024-02-19T09:33:16.511150",
     "exception": false,
     "start_time": "2024-02-19T09:33:16.462337",
     "status": "completed"
    },
    "tags": []
   },
   "outputs": [
    {
     "name": "stdout",
     "output_type": "stream",
     "text": [
      "0.8721866048386057\n",
      "$ 2577.215189873418\n"
     ]
    }
   ],
   "source": [
    "regression_tree = DecisionTreeRegressor(criterion = \"absolute_error\")\n",
    "\n",
    "regression_tree.fit(X_train, Y_train)\n",
    "\n",
    "print(regression_tree.score(X_test, Y_test))\n",
    "\n",
    "prediction = regression_tree.predict(X_test)\n",
    "\n",
    "print(\"$\",(prediction - Y_test).abs().mean()*1000)"
   ]
  }
 ],
 "metadata": {
  "kaggle": {
   "accelerator": "none",
   "dataSources": [],
   "dockerImageVersionId": 30646,
   "isGpuEnabled": false,
   "isInternetEnabled": true,
   "language": "python",
   "sourceType": "notebook"
  },
  "kernelspec": {
   "display_name": "Python 3",
   "language": "python",
   "name": "python3"
  },
  "language_info": {
   "codemirror_mode": {
    "name": "ipython",
    "version": 3
   },
   "file_extension": ".py",
   "mimetype": "text/x-python",
   "name": "python",
   "nbconvert_exporter": "python",
   "pygments_lexer": "ipython3",
   "version": "3.10.13"
  },
  "papermill": {
   "default_parameters": {},
   "duration": 10.336455,
   "end_time": "2024-02-19T09:33:17.346750",
   "environment_variables": {},
   "exception": null,
   "input_path": "__notebook__.ipynb",
   "output_path": "__notebook__.ipynb",
   "parameters": {},
   "start_time": "2024-02-19T09:33:07.010295",
   "version": "2.5.0"
  }
 },
 "nbformat": 4,
 "nbformat_minor": 5
}
