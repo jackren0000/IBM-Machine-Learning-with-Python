{
 "cells": [
  {
   "cell_type": "markdown",
   "id": "560fe3f8",
   "metadata": {
    "papermill": {
     "duration": 0.009081,
     "end_time": "2024-02-19T07:25:58.173264",
     "exception": false,
     "start_time": "2024-02-19T07:25:58.164183",
     "status": "completed"
    },
    "tags": []
   },
   "source": [
    "<p style=\"text-align:center\">\n",
    "    <a href=\"https://skills.network\" target=\"_blank\">\n",
    "    <img src=\"https://cf-courses-data.s3.us.cloud-object-storage.appdomain.cloud/assets/logos/SN_web_lightmode.png\" width=\"200\" alt=\"Skills Network Logo\">\n",
    "    </a>\n",
    "</p>\n",
    "\n",
    "\n",
    "# Simple Linear Regression\n",
    "\n",
    "\n",
    "Estimated time needed: **15** minutes\n",
    "    \n",
    "\n",
    "## Objectives\n",
    "\n",
    "After completing this lab you will be able to:\n",
    "\n",
    "* Use scikit-learn to implement simple Linear Regression\n",
    "* Create a model, train it, test it and use the model\n"
   ]
  },
  {
   "cell_type": "markdown",
   "id": "df42f0a4",
   "metadata": {
    "papermill": {
     "duration": 0.009321,
     "end_time": "2024-02-19T07:25:58.191812",
     "exception": false,
     "start_time": "2024-02-19T07:25:58.182491",
     "status": "completed"
    },
    "tags": []
   },
   "source": [
    "### Importing Needed packages\n"
   ]
  },
  {
   "cell_type": "code",
   "execution_count": 1,
   "id": "cbdeab3c",
   "metadata": {
    "execution": {
     "iopub.execute_input": "2024-02-19T07:25:58.211188Z",
     "iopub.status.busy": "2024-02-19T07:25:58.210772Z",
     "iopub.status.idle": "2024-02-19T07:26:01.085392Z",
     "shell.execute_reply": "2024-02-19T07:26:01.083795Z"
    },
    "papermill": {
     "duration": 2.887846,
     "end_time": "2024-02-19T07:26:01.088317",
     "exception": false,
     "start_time": "2024-02-19T07:25:58.200471",
     "status": "completed"
    },
    "tags": []
   },
   "outputs": [],
   "source": [
    "import matplotlib.pyplot as plt\n",
    "import pandas as pd\n",
    "import numpy as np\n",
    "from sklearn import linear_model\n",
    "from sklearn.metrics import r2_score\n",
    "# Jupyter Notenook magic command used for alter the behavior of the notebook\n",
    "# here 'inline' specifies that matplotlib plots should be displayed within \n",
    "# Jupyter Notebook cell instead of a separte window\n",
    "%matplotlib inline"
   ]
  },
  {
   "cell_type": "markdown",
   "id": "20a35da8",
   "metadata": {
    "papermill": {
     "duration": 0.008168,
     "end_time": "2024-02-19T07:26:01.105282",
     "exception": false,
     "start_time": "2024-02-19T07:26:01.097114",
     "status": "completed"
    },
    "tags": []
   },
   "source": [
    "## Data Collection\n",
    "To download the data, we will use !wget to download it from IBM Object Storage.\n"
   ]
  },
  {
   "cell_type": "code",
   "execution_count": 2,
   "id": "2235b728",
   "metadata": {
    "execution": {
     "iopub.execute_input": "2024-02-19T07:26:01.124350Z",
     "iopub.status.busy": "2024-02-19T07:26:01.123741Z",
     "iopub.status.idle": "2024-02-19T07:26:03.982915Z",
     "shell.execute_reply": "2024-02-19T07:26:03.981299Z"
    },
    "papermill": {
     "duration": 2.87295,
     "end_time": "2024-02-19T07:26:03.986692",
     "exception": false,
     "start_time": "2024-02-19T07:26:01.113742",
     "status": "completed"
    },
    "tags": []
   },
   "outputs": [
    {
     "name": "stdout",
     "output_type": "stream",
     "text": [
      "--2024-02-19 07:26:02--  https://cf-courses-data.s3.us.cloud-object-storage.appdomain.cloud/IBMDeveloperSkillsNetwork-ML0101EN-SkillsNetwork/labs/Module%202/data/FuelConsumptionCo2.csv\r\n",
      "Resolving cf-courses-data.s3.us.cloud-object-storage.appdomain.cloud (cf-courses-data.s3.us.cloud-object-storage.appdomain.cloud)... 169.63.118.104\r\n",
      "Connecting to cf-courses-data.s3.us.cloud-object-storage.appdomain.cloud (cf-courses-data.s3.us.cloud-object-storage.appdomain.cloud)|169.63.118.104|:443... connected.\r\n",
      "HTTP request sent, awaiting response... 200 OK\r\n",
      "Length: 72629 (71K) [text/csv]\r\n",
      "Saving to: 'FuelConsumption.csv'\r\n",
      "\r\n",
      "FuelConsumption.csv 100%[===================>]  70.93K   118KB/s    in 0.6s    \r\n",
      "\r\n",
      "2024-02-19 07:26:03 (118 KB/s) - 'FuelConsumption.csv' saved [72629/72629]\r\n",
      "\r\n"
     ]
    }
   ],
   "source": [
    "# using wget utility to download file into the name 'FuelConsumption.csv'\n",
    "!wget -O FuelConsumption.csv https://cf-courses-data.s3.us.cloud-object-storage.appdomain.cloud/IBMDeveloperSkillsNetwork-ML0101EN-SkillsNetwork/labs/Module%202/data/FuelConsumptionCo2.csv"
   ]
  },
  {
   "cell_type": "markdown",
   "id": "b6d679ad",
   "metadata": {
    "papermill": {
     "duration": 0.009623,
     "end_time": "2024-02-19T07:26:04.006924",
     "exception": false,
     "start_time": "2024-02-19T07:26:03.997301",
     "status": "completed"
    },
    "tags": []
   },
   "source": [
    "\n",
    "## Data Exploration\n",
    "\n",
    "### `FuelConsumption.csv`:\n",
    "We have downloaded a fuel consumption dataset, **`FuelConsumption.csv`**, which contains model-specific fuel consumption ratings and estimated carbon dioxide emissions for new light-duty vehicles for retail sale in Canada. [Dataset source](http://open.canada.ca/data/en/dataset/98f1a129-f628-4ce4-b24d-6f16bf24dd64)\n",
    "\n",
    "- **MODELYEAR** e.g. 2014\n",
    "- **MAKE** e.g. Acura\n",
    "- **MODEL** e.g. ILX\n",
    "- **VEHICLE CLASS** e.g. SUV\n",
    "- **ENGINE SIZE** e.g. 4.7\n",
    "- **CYLINDERS** e.g 6\n",
    "- **TRANSMISSION** e.g. A6\n",
    "- **FUEL CONSUMPTION in CITY(L/100 km)** e.g. 9.9\n",
    "- **FUEL CONSUMPTION in HWY (L/100 km)** e.g. 8.9\n",
    "- **FUEL CONSUMPTION COMB (L/100 km)** e.g. 9.2\n",
    "- **CO2 EMISSIONS (g/km)** e.g. 182   --> low --> 0\n"
   ]
  },
  {
   "cell_type": "code",
   "execution_count": 3,
   "id": "cfcecf38",
   "metadata": {
    "execution": {
     "iopub.execute_input": "2024-02-19T07:26:04.029715Z",
     "iopub.status.busy": "2024-02-19T07:26:04.029182Z",
     "iopub.status.idle": "2024-02-19T07:26:04.157745Z",
     "shell.execute_reply": "2024-02-19T07:26:04.156406Z"
    },
    "papermill": {
     "duration": 0.144191,
     "end_time": "2024-02-19T07:26:04.161338",
     "exception": false,
     "start_time": "2024-02-19T07:26:04.017147",
     "status": "completed"
    },
    "tags": []
   },
   "outputs": [
    {
     "name": "stdout",
     "output_type": "stream",
     "text": [
      "<class 'pandas.core.frame.DataFrame'>\n",
      "RangeIndex: 1067 entries, 0 to 1066\n",
      "Data columns (total 13 columns):\n",
      " #   Column                    Non-Null Count  Dtype  \n",
      "---  ------                    --------------  -----  \n",
      " 0   MODELYEAR                 1067 non-null   int64  \n",
      " 1   MAKE                      1067 non-null   object \n",
      " 2   MODEL                     1067 non-null   object \n",
      " 3   VEHICLECLASS              1067 non-null   object \n",
      " 4   ENGINESIZE                1067 non-null   float64\n",
      " 5   CYLINDERS                 1067 non-null   int64  \n",
      " 6   TRANSMISSION              1067 non-null   object \n",
      " 7   FUELTYPE                  1067 non-null   object \n",
      " 8   FUELCONSUMPTION_CITY      1067 non-null   float64\n",
      " 9   FUELCONSUMPTION_HWY       1067 non-null   float64\n",
      " 10  FUELCONSUMPTION_COMB      1067 non-null   float64\n",
      " 11  FUELCONSUMPTION_COMB_MPG  1067 non-null   int64  \n",
      " 12  CO2EMISSIONS              1067 non-null   int64  \n",
      "dtypes: float64(4), int64(4), object(5)\n",
      "memory usage: 108.5+ KB\n"
     ]
    },
    {
     "data": {
      "text/plain": [
       "None"
      ]
     },
     "metadata": {},
     "output_type": "display_data"
    },
    {
     "data": {
      "text/html": [
       "<div>\n",
       "<style scoped>\n",
       "    .dataframe tbody tr th:only-of-type {\n",
       "        vertical-align: middle;\n",
       "    }\n",
       "\n",
       "    .dataframe tbody tr th {\n",
       "        vertical-align: top;\n",
       "    }\n",
       "\n",
       "    .dataframe thead th {\n",
       "        text-align: right;\n",
       "    }\n",
       "</style>\n",
       "<table border=\"1\" class=\"dataframe\">\n",
       "  <thead>\n",
       "    <tr style=\"text-align: right;\">\n",
       "      <th></th>\n",
       "      <th>MODELYEAR</th>\n",
       "      <th>MAKE</th>\n",
       "      <th>MODEL</th>\n",
       "      <th>VEHICLECLASS</th>\n",
       "      <th>ENGINESIZE</th>\n",
       "      <th>CYLINDERS</th>\n",
       "      <th>TRANSMISSION</th>\n",
       "      <th>FUELTYPE</th>\n",
       "      <th>FUELCONSUMPTION_CITY</th>\n",
       "      <th>FUELCONSUMPTION_HWY</th>\n",
       "      <th>FUELCONSUMPTION_COMB</th>\n",
       "      <th>FUELCONSUMPTION_COMB_MPG</th>\n",
       "      <th>CO2EMISSIONS</th>\n",
       "    </tr>\n",
       "  </thead>\n",
       "  <tbody>\n",
       "    <tr>\n",
       "      <th>0</th>\n",
       "      <td>2014</td>\n",
       "      <td>ACURA</td>\n",
       "      <td>ILX</td>\n",
       "      <td>COMPACT</td>\n",
       "      <td>2.0</td>\n",
       "      <td>4</td>\n",
       "      <td>AS5</td>\n",
       "      <td>Z</td>\n",
       "      <td>9.9</td>\n",
       "      <td>6.7</td>\n",
       "      <td>8.5</td>\n",
       "      <td>33</td>\n",
       "      <td>196</td>\n",
       "    </tr>\n",
       "    <tr>\n",
       "      <th>1</th>\n",
       "      <td>2014</td>\n",
       "      <td>ACURA</td>\n",
       "      <td>ILX</td>\n",
       "      <td>COMPACT</td>\n",
       "      <td>2.4</td>\n",
       "      <td>4</td>\n",
       "      <td>M6</td>\n",
       "      <td>Z</td>\n",
       "      <td>11.2</td>\n",
       "      <td>7.7</td>\n",
       "      <td>9.6</td>\n",
       "      <td>29</td>\n",
       "      <td>221</td>\n",
       "    </tr>\n",
       "    <tr>\n",
       "      <th>2</th>\n",
       "      <td>2014</td>\n",
       "      <td>ACURA</td>\n",
       "      <td>ILX HYBRID</td>\n",
       "      <td>COMPACT</td>\n",
       "      <td>1.5</td>\n",
       "      <td>4</td>\n",
       "      <td>AV7</td>\n",
       "      <td>Z</td>\n",
       "      <td>6.0</td>\n",
       "      <td>5.8</td>\n",
       "      <td>5.9</td>\n",
       "      <td>48</td>\n",
       "      <td>136</td>\n",
       "    </tr>\n",
       "    <tr>\n",
       "      <th>3</th>\n",
       "      <td>2014</td>\n",
       "      <td>ACURA</td>\n",
       "      <td>MDX 4WD</td>\n",
       "      <td>SUV - SMALL</td>\n",
       "      <td>3.5</td>\n",
       "      <td>6</td>\n",
       "      <td>AS6</td>\n",
       "      <td>Z</td>\n",
       "      <td>12.7</td>\n",
       "      <td>9.1</td>\n",
       "      <td>11.1</td>\n",
       "      <td>25</td>\n",
       "      <td>255</td>\n",
       "    </tr>\n",
       "    <tr>\n",
       "      <th>4</th>\n",
       "      <td>2014</td>\n",
       "      <td>ACURA</td>\n",
       "      <td>RDX AWD</td>\n",
       "      <td>SUV - SMALL</td>\n",
       "      <td>3.5</td>\n",
       "      <td>6</td>\n",
       "      <td>AS6</td>\n",
       "      <td>Z</td>\n",
       "      <td>12.1</td>\n",
       "      <td>8.7</td>\n",
       "      <td>10.6</td>\n",
       "      <td>27</td>\n",
       "      <td>244</td>\n",
       "    </tr>\n",
       "  </tbody>\n",
       "</table>\n",
       "</div>"
      ],
      "text/plain": [
       "   MODELYEAR   MAKE       MODEL VEHICLECLASS  ENGINESIZE  CYLINDERS  \\\n",
       "0       2014  ACURA         ILX      COMPACT         2.0          4   \n",
       "1       2014  ACURA         ILX      COMPACT         2.4          4   \n",
       "2       2014  ACURA  ILX HYBRID      COMPACT         1.5          4   \n",
       "3       2014  ACURA     MDX 4WD  SUV - SMALL         3.5          6   \n",
       "4       2014  ACURA     RDX AWD  SUV - SMALL         3.5          6   \n",
       "\n",
       "  TRANSMISSION FUELTYPE  FUELCONSUMPTION_CITY  FUELCONSUMPTION_HWY  \\\n",
       "0          AS5        Z                   9.9                  6.7   \n",
       "1           M6        Z                  11.2                  7.7   \n",
       "2          AV7        Z                   6.0                  5.8   \n",
       "3          AS6        Z                  12.7                  9.1   \n",
       "4          AS6        Z                  12.1                  8.7   \n",
       "\n",
       "   FUELCONSUMPTION_COMB  FUELCONSUMPTION_COMB_MPG  CO2EMISSIONS  \n",
       "0                   8.5                        33           196  \n",
       "1                   9.6                        29           221  \n",
       "2                   5.9                        48           136  \n",
       "3                  11.1                        25           255  \n",
       "4                  10.6                        27           244  "
      ]
     },
     "metadata": {},
     "output_type": "display_data"
    },
    {
     "data": {
      "text/html": [
       "<div>\n",
       "<style scoped>\n",
       "    .dataframe tbody tr th:only-of-type {\n",
       "        vertical-align: middle;\n",
       "    }\n",
       "\n",
       "    .dataframe tbody tr th {\n",
       "        vertical-align: top;\n",
       "    }\n",
       "\n",
       "    .dataframe thead th {\n",
       "        text-align: right;\n",
       "    }\n",
       "</style>\n",
       "<table border=\"1\" class=\"dataframe\">\n",
       "  <thead>\n",
       "    <tr style=\"text-align: right;\">\n",
       "      <th></th>\n",
       "      <th>MODELYEAR</th>\n",
       "      <th>ENGINESIZE</th>\n",
       "      <th>CYLINDERS</th>\n",
       "      <th>FUELCONSUMPTION_CITY</th>\n",
       "      <th>FUELCONSUMPTION_HWY</th>\n",
       "      <th>FUELCONSUMPTION_COMB</th>\n",
       "      <th>FUELCONSUMPTION_COMB_MPG</th>\n",
       "      <th>CO2EMISSIONS</th>\n",
       "    </tr>\n",
       "  </thead>\n",
       "  <tbody>\n",
       "    <tr>\n",
       "      <th>count</th>\n",
       "      <td>1067.0</td>\n",
       "      <td>1067.000000</td>\n",
       "      <td>1067.000000</td>\n",
       "      <td>1067.000000</td>\n",
       "      <td>1067.000000</td>\n",
       "      <td>1067.000000</td>\n",
       "      <td>1067.000000</td>\n",
       "      <td>1067.000000</td>\n",
       "    </tr>\n",
       "    <tr>\n",
       "      <th>mean</th>\n",
       "      <td>2014.0</td>\n",
       "      <td>3.346298</td>\n",
       "      <td>5.794752</td>\n",
       "      <td>13.296532</td>\n",
       "      <td>9.474602</td>\n",
       "      <td>11.580881</td>\n",
       "      <td>26.441425</td>\n",
       "      <td>256.228679</td>\n",
       "    </tr>\n",
       "    <tr>\n",
       "      <th>std</th>\n",
       "      <td>0.0</td>\n",
       "      <td>1.415895</td>\n",
       "      <td>1.797447</td>\n",
       "      <td>4.101253</td>\n",
       "      <td>2.794510</td>\n",
       "      <td>3.485595</td>\n",
       "      <td>7.468702</td>\n",
       "      <td>63.372304</td>\n",
       "    </tr>\n",
       "    <tr>\n",
       "      <th>min</th>\n",
       "      <td>2014.0</td>\n",
       "      <td>1.000000</td>\n",
       "      <td>3.000000</td>\n",
       "      <td>4.600000</td>\n",
       "      <td>4.900000</td>\n",
       "      <td>4.700000</td>\n",
       "      <td>11.000000</td>\n",
       "      <td>108.000000</td>\n",
       "    </tr>\n",
       "    <tr>\n",
       "      <th>25%</th>\n",
       "      <td>2014.0</td>\n",
       "      <td>2.000000</td>\n",
       "      <td>4.000000</td>\n",
       "      <td>10.250000</td>\n",
       "      <td>7.500000</td>\n",
       "      <td>9.000000</td>\n",
       "      <td>21.000000</td>\n",
       "      <td>207.000000</td>\n",
       "    </tr>\n",
       "    <tr>\n",
       "      <th>50%</th>\n",
       "      <td>2014.0</td>\n",
       "      <td>3.400000</td>\n",
       "      <td>6.000000</td>\n",
       "      <td>12.600000</td>\n",
       "      <td>8.800000</td>\n",
       "      <td>10.900000</td>\n",
       "      <td>26.000000</td>\n",
       "      <td>251.000000</td>\n",
       "    </tr>\n",
       "    <tr>\n",
       "      <th>75%</th>\n",
       "      <td>2014.0</td>\n",
       "      <td>4.300000</td>\n",
       "      <td>8.000000</td>\n",
       "      <td>15.550000</td>\n",
       "      <td>10.850000</td>\n",
       "      <td>13.350000</td>\n",
       "      <td>31.000000</td>\n",
       "      <td>294.000000</td>\n",
       "    </tr>\n",
       "    <tr>\n",
       "      <th>max</th>\n",
       "      <td>2014.0</td>\n",
       "      <td>8.400000</td>\n",
       "      <td>12.000000</td>\n",
       "      <td>30.200000</td>\n",
       "      <td>20.500000</td>\n",
       "      <td>25.800000</td>\n",
       "      <td>60.000000</td>\n",
       "      <td>488.000000</td>\n",
       "    </tr>\n",
       "  </tbody>\n",
       "</table>\n",
       "</div>"
      ],
      "text/plain": [
       "       MODELYEAR   ENGINESIZE    CYLINDERS  FUELCONSUMPTION_CITY  \\\n",
       "count     1067.0  1067.000000  1067.000000           1067.000000   \n",
       "mean      2014.0     3.346298     5.794752             13.296532   \n",
       "std          0.0     1.415895     1.797447              4.101253   \n",
       "min       2014.0     1.000000     3.000000              4.600000   \n",
       "25%       2014.0     2.000000     4.000000             10.250000   \n",
       "50%       2014.0     3.400000     6.000000             12.600000   \n",
       "75%       2014.0     4.300000     8.000000             15.550000   \n",
       "max       2014.0     8.400000    12.000000             30.200000   \n",
       "\n",
       "       FUELCONSUMPTION_HWY  FUELCONSUMPTION_COMB  FUELCONSUMPTION_COMB_MPG  \\\n",
       "count          1067.000000           1067.000000               1067.000000   \n",
       "mean              9.474602             11.580881                 26.441425   \n",
       "std               2.794510              3.485595                  7.468702   \n",
       "min               4.900000              4.700000                 11.000000   \n",
       "25%               7.500000              9.000000                 21.000000   \n",
       "50%               8.800000             10.900000                 26.000000   \n",
       "75%              10.850000             13.350000                 31.000000   \n",
       "max              20.500000             25.800000                 60.000000   \n",
       "\n",
       "       CO2EMISSIONS  \n",
       "count   1067.000000  \n",
       "mean     256.228679  \n",
       "std       63.372304  \n",
       "min      108.000000  \n",
       "25%      207.000000  \n",
       "50%      251.000000  \n",
       "75%      294.000000  \n",
       "max      488.000000  "
      ]
     },
     "metadata": {},
     "output_type": "display_data"
    }
   ],
   "source": [
    "df = pd.read_csv(\"FuelConsumption.csv\")\n",
    "\n",
    "# gain insight of the dataset\n",
    "# display concise summary\n",
    "display(df.info())\n",
    "# display head rows\n",
    "display(df.head())\n",
    "# display statistic information\n",
    "display(df.describe())"
   ]
  },
  {
   "cell_type": "code",
   "execution_count": 4,
   "id": "7686c920",
   "metadata": {
    "execution": {
     "iopub.execute_input": "2024-02-19T07:26:04.187339Z",
     "iopub.status.busy": "2024-02-19T07:26:04.186406Z",
     "iopub.status.idle": "2024-02-19T07:26:05.210855Z",
     "shell.execute_reply": "2024-02-19T07:26:05.209604Z"
    },
    "papermill": {
     "duration": 1.041181,
     "end_time": "2024-02-19T07:26:05.213806",
     "exception": false,
     "start_time": "2024-02-19T07:26:04.172625",
     "status": "completed"
    },
    "tags": []
   },
   "outputs": [
    {
     "data": {
      "image/png": "[encoded data removed]",
      "text/plain": [
       "<Figure size 640x480 with 4 Axes>"
      ]
     },
     "metadata": {},
     "output_type": "display_data"
    }
   ],
   "source": [
    "# select several numerical columns to visualize\n",
    "viz = df[['CYLINDERS','ENGINESIZE','CO2EMISSIONS','FUELCONSUMPTION_COMB']]\n",
    "# create a histogram for each numerical column in viz DataFrame\n",
    "# a histogram is a graphical representation of the distribution of numerical data\n",
    "viz.hist()\n",
    "plt.show()"
   ]
  },
  {
   "cell_type": "markdown",
   "id": "1b170e37",
   "metadata": {
    "papermill": {
     "duration": 0.011768,
     "end_time": "2024-02-19T07:26:05.237829",
     "exception": false,
     "start_time": "2024-02-19T07:26:05.226061",
     "status": "completed"
    },
    "tags": []
   },
   "source": [
    "Now, let's plot each of these features against the Emission, to see how linear their relationship is:\n"
   ]
  },
  {
   "cell_type": "code",
   "execution_count": 5,
   "id": "188b3e88",
   "metadata": {
    "execution": {
     "iopub.execute_input": "2024-02-19T07:26:05.262750Z",
     "iopub.status.busy": "2024-02-19T07:26:05.262083Z",
     "iopub.status.idle": "2024-02-19T07:26:05.490153Z",
     "shell.execute_reply": "2024-02-19T07:26:05.488861Z"
    },
    "papermill": {
     "duration": 0.24373,
     "end_time": "2024-02-19T07:26:05.492828",
     "exception": false,
     "start_time": "2024-02-19T07:26:05.249098",
     "status": "completed"
    },
    "tags": []
   },
   "outputs": [
    {
     "data": {
      "image/png": "[encoded data removed]",
      "text/plain": [
       "<Figure size 640x480 with 1 Axes>"
      ]
     },
     "metadata": {},
     "output_type": "display_data"
    }
   ],
   "source": [
    "plt.scatter(df.FUELCONSUMPTION_COMB, df.CO2EMISSIONS,  color='blue')\n",
    "plt.xlabel(\"FUELCONSUMPTION_COMB\")\n",
    "plt.ylabel(\"Emission\")\n",
    "plt.show()"
   ]
  },
  {
   "cell_type": "code",
   "execution_count": 6,
   "id": "2f54ea3d",
   "metadata": {
    "execution": {
     "iopub.execute_input": "2024-02-19T07:26:05.518548Z",
     "iopub.status.busy": "2024-02-19T07:26:05.518160Z",
     "iopub.status.idle": "2024-02-19T07:26:05.746213Z",
     "shell.execute_reply": "2024-02-19T07:26:05.744804Z"
    },
    "papermill": {
     "duration": 0.243928,
     "end_time": "2024-02-19T07:26:05.749037",
     "exception": false,
     "start_time": "2024-02-19T07:26:05.505109",
     "status": "completed"
    },
    "tags": []
   },
   "outputs": [
    {
     "data": {
      "image/png": "[encoded data removed]",
      "text/plain": [
       "<Figure size 640x480 with 1 Axes>"
      ]
     },
     "metadata": {},
     "output_type": "display_data"
    }
   ],
   "source": [
    "plt.scatter(df.ENGINESIZE, df.CO2EMISSIONS,  color='blue')\n",
    "plt.xlabel(\"Engine size\")\n",
    "plt.ylabel(\"Emission\")\n",
    "plt.show()"
   ]
  },
  {
   "cell_type": "code",
   "execution_count": 7,
   "id": "6b2a8f52",
   "metadata": {
    "execution": {
     "iopub.execute_input": "2024-02-19T07:26:05.775919Z",
     "iopub.status.busy": "2024-02-19T07:26:05.775531Z",
     "iopub.status.idle": "2024-02-19T07:26:05.983251Z",
     "shell.execute_reply": "2024-02-19T07:26:05.982075Z"
    },
    "papermill": {
     "duration": 0.224226,
     "end_time": "2024-02-19T07:26:05.985795",
     "exception": false,
     "start_time": "2024-02-19T07:26:05.761569",
     "status": "completed"
    },
    "tags": []
   },
   "outputs": [
    {
     "data": {
      "image/png": "[encoded data removed]",
      "text/plain": [
       "<Figure size 640x480 with 1 Axes>"
      ]
     },
     "metadata": {},
     "output_type": "display_data"
    }
   ],
   "source": [
    "plt.scatter(df.CYLINDERS, df.CO2EMISSIONS,  color='blue')\n",
    "plt.xlabel(\"Cylinders\")\n",
    "plt.ylabel(\"Emission\")\n",
    "plt.show()"
   ]
  },
  {
   "cell_type": "markdown",
   "id": "fc37d64a",
   "metadata": {
    "papermill": {
     "duration": 0.01384,
     "end_time": "2024-02-19T07:26:06.012745",
     "exception": false,
     "start_time": "2024-02-19T07:26:05.998905",
     "status": "completed"
    },
    "tags": []
   },
   "source": [
    "## Data Preprocessing\n",
    "#### Creating train and test dataset\n",
    "Train/Test Split involves splitting the dataset into training and testing (evaluation) sets that are mutually exclusive. After which, you train with the training set and test with the testing set. \n",
    "This will provide a more accurate evaluation on out-of-sample accuracy because the testing dataset is not part of the dataset that have been used to train the model. Therefore, it gives us a better understanding of how well our model generalizes on new data.\n",
    "\n",
    "This means that we know the outcome of each data point in the testing dataset, making it great to test with! Since this data has not been used to train the model, the model has no knowledge of the outcome of these data points. So, in essence, it is truly an out-of-sample testing.\n",
    "\n",
    "Let's split our dataset into train and test sets. 80% of the entire dataset will be used for training and 20% for testing. We create a mask to select random rows using __np.random.rand()__ function: \n"
   ]
  },
  {
   "cell_type": "code",
   "execution_count": 8,
   "id": "915609a8",
   "metadata": {
    "execution": {
     "iopub.execute_input": "2024-02-19T07:26:06.040181Z",
     "iopub.status.busy": "2024-02-19T07:26:06.039755Z",
     "iopub.status.idle": "2024-02-19T07:26:06.048998Z",
     "shell.execute_reply": "2024-02-19T07:26:06.047817Z"
    },
    "papermill": {
     "duration": 0.025949,
     "end_time": "2024-02-19T07:26:06.051684",
     "exception": false,
     "start_time": "2024-02-19T07:26:06.025735",
     "status": "completed"
    },
    "tags": []
   },
   "outputs": [],
   "source": [
    "# generate an array of random numbers which has the same length as df,\n",
    "# then create bollean musk\n",
    "msk = np.random.rand(len(df)) < 0.8\n",
    "# train contains 80% of the data\n",
    "train = df[msk]\n",
    "# test contains the rest 20% data\n",
    "test = df[~msk]\n",
    "\n",
    "# alternative using train_test_split() from sklearn"
   ]
  },
  {
   "cell_type": "markdown",
   "id": "11865332",
   "metadata": {
    "papermill": {
     "duration": 0.012598,
     "end_time": "2024-02-19T07:26:06.077121",
     "exception": false,
     "start_time": "2024-02-19T07:26:06.064523",
     "status": "completed"
    },
    "tags": []
   },
   "source": [
    "## Data Modeling\n",
    "### Simple Regression Model\n",
    "Linear Regression fits a linear model with coefficients B = (B1, ..., Bn) to minimize the 'residual sum of squares' between the actual value y in the dataset, and the predicted value yhat using linear approximation. \n"
   ]
  },
  {
   "cell_type": "code",
   "execution_count": 9,
   "id": "205998ab",
   "metadata": {
    "execution": {
     "iopub.execute_input": "2024-02-19T07:26:06.104469Z",
     "iopub.status.busy": "2024-02-19T07:26:06.104005Z",
     "iopub.status.idle": "2024-02-19T07:26:06.129506Z",
     "shell.execute_reply": "2024-02-19T07:26:06.128070Z"
    },
    "papermill": {
     "duration": 0.042238,
     "end_time": "2024-02-19T07:26:06.132045",
     "exception": false,
     "start_time": "2024-02-19T07:26:06.089807",
     "status": "completed"
    },
    "tags": []
   },
   "outputs": [
    {
     "name": "stdout",
     "output_type": "stream",
     "text": [
      "Coefficients:  [[39.13764772]]\n",
      "Intercept:  [125.86383123]\n"
     ]
    }
   ],
   "source": [
    "# initialize the model\n",
    "regr = linear_model.LinearRegression()\n",
    "train_X = train[['ENGINESIZE']].values\n",
    "train_y = train[['CO2EMISSIONS']].values\n",
    "regr.fit(train_X, train_y)\n",
    "# print the coefficients\n",
    "print ('Coefficients: ', regr.coef_)\n",
    "# print the interception\n",
    "print ('Intercept: ',regr.intercept_)"
   ]
  },
  {
   "cell_type": "markdown",
   "id": "9de99948",
   "metadata": {
    "papermill": {
     "duration": 0.012572,
     "end_time": "2024-02-19T07:26:06.157641",
     "exception": false,
     "start_time": "2024-02-19T07:26:06.145069",
     "status": "completed"
    },
    "tags": []
   },
   "source": [
    "As mentioned before, __Coefficient__ and __Intercept__ in the simple linear regression, are the parameters of the fit line. \n",
    "Given that it is a simple linear regression, with only 2 parameters, and knowing that the parameters are the intercept and slope of the line, sklearn can estimate them directly from our data. \n",
    "Notice that all of the data must be available to traverse and calculate the parameters.\n"
   ]
  },
  {
   "cell_type": "code",
   "execution_count": 10,
   "id": "069fa4a0",
   "metadata": {
    "execution": {
     "iopub.execute_input": "2024-02-19T07:26:06.187879Z",
     "iopub.status.busy": "2024-02-19T07:26:06.186677Z",
     "iopub.status.idle": "2024-02-19T07:26:06.417432Z",
     "shell.execute_reply": "2024-02-19T07:26:06.416114Z"
    },
    "papermill": {
     "duration": 0.249862,
     "end_time": "2024-02-19T07:26:06.420394",
     "exception": false,
     "start_time": "2024-02-19T07:26:06.170532",
     "status": "completed"
    },
    "tags": []
   },
   "outputs": [
    {
     "data": {
      "image/png": "[encoded data removed]",
      "text/plain": [
       "<Figure size 640x480 with 1 Axes>"
      ]
     },
     "metadata": {},
     "output_type": "display_data"
    }
   ],
   "source": [
    "# plot the results\n",
    "plt.scatter(train.ENGINESIZE, train.CO2EMISSIONS,  color='blue')\n",
    "plt.plot(train_X, regr.coef_[0][0]*train_X + regr.intercept_[0], '-r')\n",
    "plt.xlabel(\"Engine size\")\n",
    "plt.ylabel(\"Emission\")\n",
    "plt.show()"
   ]
  },
  {
   "cell_type": "markdown",
   "id": "4c6a4e60",
   "metadata": {
    "papermill": {
     "duration": 0.013769,
     "end_time": "2024-02-19T07:26:06.448263",
     "exception": false,
     "start_time": "2024-02-19T07:26:06.434494",
     "status": "completed"
    },
    "tags": []
   },
   "source": [
    "#### Evaluation\n",
    "We compare the actual values and predicted values to calculate the accuracy of a regression model. Evaluation metrics provide a key role in the development of a model, as it provides insight to areas that require improvement.\n",
    "\n",
    "There are different model evaluation metrics, lets use MSE here to calculate the accuracy of our model based on the test set: \n",
    "* Mean Absolute Error: It is the mean of the absolute value of the errors. This is the easiest of the metrics to understand since it’s just average error.\n",
    "\n",
    "* Mean Squared Error (MSE): Mean Squared Error (MSE) is the mean of the squared error. It’s more popular than Mean Absolute Error because the focus is geared more towards large errors. This is due to the squared term exponentially increasing larger errors in comparison to smaller ones.\n",
    "\n",
    "* Root Mean Squared Error (RMSE). \n",
    "\n",
    "* R-squared is not an error, but rather a popular metric to measure the performance of your regression model. It represents how close the data points are to the fitted regression line. The higher the R-squared value, the better the model fits your data. The best possible score is 1.0 and it can be negative (because the model can be arbitrarily worse).\n"
   ]
  },
  {
   "cell_type": "code",
   "execution_count": 11,
   "id": "35683da3",
   "metadata": {
    "execution": {
     "iopub.execute_input": "2024-02-19T07:26:06.478042Z",
     "iopub.status.busy": "2024-02-19T07:26:06.477091Z",
     "iopub.status.idle": "2024-02-19T07:26:06.487866Z",
     "shell.execute_reply": "2024-02-19T07:26:06.486444Z"
    },
    "papermill": {
     "duration": 0.030224,
     "end_time": "2024-02-19T07:26:06.492436",
     "exception": false,
     "start_time": "2024-02-19T07:26:06.462212",
     "status": "completed"
    },
    "tags": []
   },
   "outputs": [
    {
     "name": "stdout",
     "output_type": "stream",
     "text": [
      "Mean absolute error: 23.94\n",
      "Residual sum of squares (MSE): 1016.57\n",
      "R2-score: 0.74\n"
     ]
    }
   ],
   "source": [
    "test_X = test[['ENGINESIZE']].values\n",
    "test_y = test[['CO2EMISSIONS']].values\n",
    "test_y_ = regr.predict(test_X)\n",
    "\n",
    "print(\"Mean absolute error: %.2f\" % np.mean(np.absolute(test_y_ - test_y)))\n",
    "print(\"Residual sum of squares (MSE): %.2f\" % np.mean((test_y_ - test_y) ** 2))\n",
    "print(\"R2-score: %.2f\" % r2_score(test_y , test_y_) )"
   ]
  },
  {
   "cell_type": "markdown",
   "id": "e77437d5",
   "metadata": {
    "papermill": {
     "duration": 0.013591,
     "end_time": "2024-02-19T07:26:06.520236",
     "exception": false,
     "start_time": "2024-02-19T07:26:06.506645",
     "status": "completed"
    },
    "tags": []
   },
   "source": [
    "## Exercise\n"
   ]
  },
  {
   "cell_type": "markdown",
   "id": "8d60f725",
   "metadata": {
    "papermill": {
     "duration": 0.013359,
     "end_time": "2024-02-19T07:26:06.547400",
     "exception": false,
     "start_time": "2024-02-19T07:26:06.534041",
     "status": "completed"
    },
    "tags": []
   },
   "source": [
    "Lets see what the evaluation metrics are if we trained a regression model using the `FUELCONSUMPTION_COMB` feature.\n",
    "\n",
    "Start by selecting `FUELCONSUMPTION_COMB` as the train_x data from the `train` dataframe, then select `FUELCONSUMPTION_COMB` as the test_x data from the `test` dataframe\n"
   ]
  },
  {
   "cell_type": "code",
   "execution_count": 12,
   "id": "74bf7e58",
   "metadata": {
    "execution": {
     "iopub.execute_input": "2024-02-19T07:26:06.577559Z",
     "iopub.status.busy": "2024-02-19T07:26:06.577121Z",
     "iopub.status.idle": "2024-02-19T07:26:06.592138Z",
     "shell.execute_reply": "2024-02-19T07:26:06.590747Z"
    },
    "papermill": {
     "duration": 0.032824,
     "end_time": "2024-02-19T07:26:06.594470",
     "exception": false,
     "start_time": "2024-02-19T07:26:06.561646",
     "status": "completed"
    },
    "tags": []
   },
   "outputs": [
    {
     "name": "stdout",
     "output_type": "stream",
     "text": [
      "Coefficients:  [[16.6177486]]\n",
      "Intercept:  [64.74110681]\n",
      "Mean absolute error: 20.69\n",
      "Residual sum of squares (MSE): 900.00\n",
      "R2-score: 0.77\n"
     ]
    }
   ],
   "source": [
    "# initialize the model\n",
    "regr = linear_model.LinearRegression()\n",
    "train_X = train[['FUELCONSUMPTION_COMB']].values\n",
    "train_y = train[['CO2EMISSIONS']].values\n",
    "regr.fit(train_X, train_y)\n",
    "# print the coefficients\n",
    "print ('Coefficients: ', regr.coef_)\n",
    "# print the interception\n",
    "print ('Intercept: ',regr.intercept_)\n",
    "\n",
    "test_X = test[['FUELCONSUMPTION_COMB']].values\n",
    "test_y = test[['CO2EMISSIONS']].values\n",
    "test_y_ = regr.predict(test_X)\n",
    "\n",
    "print(\"Mean absolute error: %.2f\" % np.mean(np.absolute(test_y_ - test_y)))\n",
    "print(\"Residual sum of squares (MSE): %.2f\" % np.mean((test_y_ - test_y) ** 2))\n",
    "print(\"R2-score: %.2f\" % r2_score(test_y , test_y_) )"
   ]
  },
  {
   "cell_type": "markdown",
   "id": "5f6ed614",
   "metadata": {
    "papermill": {
     "duration": 0.013447,
     "end_time": "2024-02-19T07:26:06.621562",
     "exception": false,
     "start_time": "2024-02-19T07:26:06.608115",
     "status": "completed"
    },
    "tags": []
   },
   "source": [
    "We can see that the MAE is much worse when we train using `ENGINESIZE` than `FUELCONSUMPTION_COMB`\n"
   ]
  },
  {
   "cell_type": "markdown",
   "id": "c078c222",
   "metadata": {
    "papermill": {
     "duration": 0.013485,
     "end_time": "2024-02-19T07:26:06.649140",
     "exception": false,
     "start_time": "2024-02-19T07:26:06.635655",
     "status": "completed"
    },
    "tags": []
   },
   "source": [
    "## Multiple Linear Regression\n",
    "In reality, there are multiple variables that impact the co2emission. When more than one independent variable is present, the process is called multiple linear regression. An example of multiple linear regression is predicting co2emission using the features FUELCONSUMPTION_COMB, EngineSize and Cylinders of cars. The good thing here is that multiple linear regression model is the extension of the simple linear regression model."
   ]
  },
  {
   "cell_type": "code",
   "execution_count": 13,
   "id": "f3e25944",
   "metadata": {
    "execution": {
     "iopub.execute_input": "2024-02-19T07:26:06.678646Z",
     "iopub.status.busy": "2024-02-19T07:26:06.678178Z",
     "iopub.status.idle": "2024-02-19T07:26:06.699638Z",
     "shell.execute_reply": "2024-02-19T07:26:06.698049Z"
    },
    "papermill": {
     "duration": 0.039017,
     "end_time": "2024-02-19T07:26:06.702065",
     "exception": false,
     "start_time": "2024-02-19T07:26:06.663048",
     "status": "completed"
    },
    "tags": []
   },
   "outputs": [
    {
     "name": "stdout",
     "output_type": "stream",
     "text": [
      "Coefficients:  [[10.83827507  7.2790039   9.84537617]]\n",
      "Intercept:  [64.44172458]\n"
     ]
    }
   ],
   "source": [
    "regr = linear_model.LinearRegression()\n",
    "x = np.array(train[['ENGINESIZE','CYLINDERS','FUELCONSUMPTION_COMB']])\n",
    "y = np.array(train[['CO2EMISSIONS']])\n",
    "regr.fit (x, y)\n",
    "# print the coefficients\n",
    "print ('Coefficients: ', regr.coef_)\n",
    "# print the interception\n",
    "print ('Intercept: ',regr.intercept_)"
   ]
  },
  {
   "cell_type": "markdown",
   "id": "837e8950",
   "metadata": {
    "papermill": {
     "duration": 0.013592,
     "end_time": "2024-02-19T07:26:06.729947",
     "exception": false,
     "start_time": "2024-02-19T07:26:06.716355",
     "status": "completed"
    },
    "tags": []
   },
   "source": [
    "As mentioned before, __Coefficient__ and __Intercept__  are the parameters of the fitted line. \n",
    "Given that it is a multiple linear regression model with 3 parameters and that the parameters are the intercept and coefficients of the hyperplane, sklearn can estimate them from our data. Scikit-learn uses plain Ordinary Least Squares method to solve this problem.\n",
    "\n",
    "#### Ordinary Least Squares (OLS)\n",
    "OLS is a method for estimating the unknown parameters in a linear regression model. OLS chooses the parameters of a linear function of a set of explanatory variables by minimizing the sum of the squares of the differences between the target dependent variable and those predicted by the linear function. In other words, it tries to minimizes the sum of squared errors (SSE) or mean squared error (MSE) between the target variable (y) and our predicted output ($\\hat{y}$) over all samples in the dataset.\n",
    "\n",
    "OLS can find the best parameters using of the following methods:\n",
    "* Solving the model parameters analytically using closed-form equations\n",
    "* Using an optimization algorithm (Gradient Descent, Stochastic Gradient Descent, Newton’s Method, etc.)\n"
   ]
  },
  {
   "cell_type": "code",
   "execution_count": 14,
   "id": "b9378fdc",
   "metadata": {
    "execution": {
     "iopub.execute_input": "2024-02-19T07:26:06.759335Z",
     "iopub.status.busy": "2024-02-19T07:26:06.758943Z",
     "iopub.status.idle": "2024-02-19T07:26:06.773920Z",
     "shell.execute_reply": "2024-02-19T07:26:06.773076Z"
    },
    "papermill": {
     "duration": 0.033546,
     "end_time": "2024-02-19T07:26:06.777306",
     "exception": false,
     "start_time": "2024-02-19T07:26:06.743760",
     "status": "completed"
    },
    "tags": []
   },
   "outputs": [
    {
     "name": "stdout",
     "output_type": "stream",
     "text": [
      "Mean Squared Error (MSE) : 553.84\n",
      "Variance score: 0.86\n"
     ]
    },
    {
     "name": "stderr",
     "output_type": "stream",
     "text": [
      "/opt/conda/lib/python3.10/site-packages/sklearn/base.py:432: UserWarning: X has feature names, but LinearRegression was fitted without feature names\n",
      "  warnings.warn(\n"
     ]
    }
   ],
   "source": [
    "y_hat= regr.predict(test[['ENGINESIZE','CYLINDERS','FUELCONSUMPTION_COMB']])\n",
    "x = np.array(test[['ENGINESIZE','CYLINDERS','FUELCONSUMPTION_COMB']])\n",
    "y = np.array(test[['CO2EMISSIONS']])\n",
    "print(\"Mean Squared Error (MSE) : %.2f\"\n",
    "      % np.mean((y_hat - y) ** 2))\n",
    "\n",
    "# explained variance score: 1 is perfect prediction\n",
    "print('Variance score: %.2f' % regr.score(x, y))"
   ]
  },
  {
   "cell_type": "markdown",
   "id": "250c4f1b",
   "metadata": {
    "papermill": {
     "duration": 0.013611,
     "end_time": "2024-02-19T07:26:06.804974",
     "exception": false,
     "start_time": "2024-02-19T07:26:06.791363",
     "status": "completed"
    },
    "tags": []
   },
   "source": [
    "<h2>Want to learn more?</h2>\n",
    "\n",
    "IBM SPSS Modeler is a comprehensive analytics platform that has many machine learning algorithms. It has been designed to bring predictive intelligence to decisions made by individuals, by groups, by systems – by your enterprise as a whole. A free trial is available through this course, available here: <a href=\"https://www.ibm.com/analytics/spss-statistics-software?utm_medium=Exinfluencer&utm_source=Exinfluencer&utm_content=000026UJ&utm_term=10006555&utm_id=NA-SkillsNetwork-Channel-SkillsNetworkCoursesIBMDeveloperSkillsNetworkML0101ENSkillsNetwork1047-2023-01-01\">SPSS Modeler</a>\n",
    "\n",
    "Also, you can use Watson Studio to run these notebooks faster with bigger datasets. Watson Studio is IBM's leading cloud solution for data scientists, built by data scientists. With Jupyter notebooks, RStudio, Apache Spark and popular libraries pre-packaged in the cloud, Watson Studio enables data scientists to collaborate on their projects without having to install anything. Join the fast-growing community of Watson Studio users today with a free account at <a href=\"https://www.ibm.com/cloud/watson-studio?utm_medium=Exinfluencer&utm_source=Exinfluencer&utm_content=000026UJ&utm_term=10006555&utm_id=NA-SkillsNetwork-Channel-SkillsNetworkCoursesIBMDeveloperSkillsNetworkML0101ENSkillsNetwork1047-2023-01-01\">Watson Studio</a>\n",
    "\n"
   ]
  }
 ],
 "metadata": {
  "kaggle": {
   "accelerator": "none",
   "dataSources": [],
   "dockerImageVersionId": 30646,
   "isGpuEnabled": false,
   "isInternetEnabled": true,
   "language": "python",
   "sourceType": "notebook"
  },
  "kernelspec": {
   "display_name": "Python 3",
   "language": "python",
   "name": "python3"
  },
  "language_info": {
   "codemirror_mode": {
    "name": "ipython",
    "version": 3
   },
   "file_extension": ".py",
   "mimetype": "text/x-python",
   "name": "python",
   "nbconvert_exporter": "python",
   "pygments_lexer": "ipython3",
   "version": "3.10.13"
  },
  "papermill": {
   "default_parameters": {},
   "duration": 12.475072,
   "end_time": "2024-02-19T07:26:07.539876",
   "environment_variables": {},
   "exception": null,
   "input_path": "__notebook__.ipynb",
   "output_path": "__notebook__.ipynb",
   "parameters": {},
   "start_time": "2024-02-19T07:25:55.064804",
   "version": "2.5.0"
  }
 },
 "nbformat": 4,
 "nbformat_minor": 5
}
