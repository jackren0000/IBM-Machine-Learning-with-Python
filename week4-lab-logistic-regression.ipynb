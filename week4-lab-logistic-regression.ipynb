{
 "cells": [
  {
   "cell_type": "markdown",
   "id": "afbad343",
   "metadata": {
    "button": false,
    "new_sheet": false,
    "papermill": {
     "duration": 0.01269,
     "end_time": "2024-02-19T20:08:29.683410",
     "exception": false,
     "start_time": "2024-02-19T20:08:29.670720",
     "status": "completed"
    },
    "run_control": {
     "read_only": false
    },
    "tags": []
   },
   "source": [
    "<p style=\"text-align:center\">\n",
    "    <a href=\"https://skills.network/?utm_medium=Exinfluencer&utm_source=Exinfluencer&utm_content=000026UJ&utm_term=10006555&utm_id=NA-SkillsNetwork-Channel-SkillsNetworkCoursesIBMDeveloperSkillsNetworkML0101ENSkillsNetwork1047-2023-01-01\">\n",
    "    <img src=\"https://cf-courses-data.s3.us.cloud-object-storage.appdomain.cloud/assets/logos/SN_web_lightmode.png\" width=\"200\" alt=\"Skills Network Logo\"  />\n",
    "    </a>\n",
    "</p>\n",
    "\n",
    "\n",
    "# Logistic Regression with Python\n",
    "\n",
    "\n",
    "Estimated time needed: **25** minutes\n",
    "    \n",
    "\n",
    "## Objectives\n",
    "\n",
    "After completing this lab you will be able to:\n",
    "\n",
    "* Use scikit Logistic Regression to classify\n",
    "* Understand confusion matrix\n"
   ]
  },
  {
   "cell_type": "markdown",
   "id": "037e87ea",
   "metadata": {
    "papermill": {
     "duration": 0.012392,
     "end_time": "2024-02-19T20:08:29.709365",
     "exception": false,
     "start_time": "2024-02-19T20:08:29.696973",
     "status": "completed"
    },
    "tags": []
   },
   "source": [
    "In this notebook, you will learn Logistic Regression, and then, you'll create a model for a telecommunication company, to predict when its customers will leave for a competitor, so that they can take some action to retain the customers.\n"
   ]
  },
  {
   "cell_type": "markdown",
   "id": "e762ddd1",
   "metadata": {
    "button": false,
    "new_sheet": false,
    "papermill": {
     "duration": 0.012,
     "end_time": "2024-02-19T20:08:29.733644",
     "exception": false,
     "start_time": "2024-02-19T20:08:29.721644",
     "status": "completed"
    },
    "run_control": {
     "read_only": false
    },
    "tags": []
   },
   "source": [
    "<a id=\"ref1\"></a>\n",
    "## What is the difference between Linear and Logistic Regression?\n",
    "\n",
    "While Linear Regression is suited for estimating continuous values (e.g. estimating house price), it is not the best tool for predicting the class of an observed data point. In order to estimate the class of a data point, we need some sort of guidance on what would be the <b>most probable class</b> for that data point. For this, we use <b>Logistic Regression</b>.\n",
    "\n",
    "<div class=\"alert alert-success alertsuccess\" style=\"margin-top: 20px\">\n",
    "<font size = 3><strong>Recall linear regression:</strong></font>\n",
    "<br>\n",
    "<br>\n",
    "    As you know, <b>Linear regression</b> finds a function that relates a continuous dependent variable, <b>y</b>, to some predictors (independent variables $x_1$, $x_2$, etc.). For example, simple linear regression assumes a function of the form:\n",
    "<br><br>\n",
    "$$\n",
    "y = \\theta_0 + \\theta_1  x_1 + \\theta_2  x_2 + \\cdots\n",
    "$$\n",
    "<br>\n",
    "and finds the values of parameters $\\theta_0, \\theta_1, \\theta_2$, etc, where the term $\\theta_0$ is the \"intercept\". It can be generally shown as:\n",
    "<br><br>\n",
    "$$\n",
    "ℎ_\\theta(𝑥) = \\theta^TX\n",
    "$$\n",
    "<p></p>\n",
    "\n",
    "</div>\n",
    "\n",
    "Logistic Regression is a variation of Linear Regression, used when the observed dependent variable, <b>y</b>, is categorical. It produces a formula that predicts the probability of the class label as a function of the independent variables.\n",
    "\n",
    "Logistic regression fits a special s-shaped curve by taking the linear regression function and transforming the numeric estimate into a probability with the following function, which is called the sigmoid function 𝜎:\n",
    "\n",
    "$$\n",
    "ℎ_\\theta(𝑥) = \\sigma({\\theta^TX}) =  \\frac {e^{(\\theta_0 + \\theta_1  x_1 + \\theta_2  x_2 +...)}}{1 + e^{(\\theta_0 + \\theta_1  x_1 + \\theta_2  x_2 +\\cdots)}}\n",
    "$$\n",
    "Or:\n",
    "$$\n",
    "ProbabilityOfaClass_1 =  P(Y=1|X) = \\sigma({\\theta^TX}) = \\frac{e^{\\theta^TX}}{1+e^{\\theta^TX}} \n",
    "$$\n",
    "\n",
    "In this equation, ${\\theta^TX}$ is the regression result (the sum of the variables weighted by the coefficients), `exp` is the exponential function and $\\sigma(\\theta^TX)$ is the sigmoid or [logistic function](http://en.wikipedia.org/wiki/Logistic_function?utm_medium=Exinfluencer&utm_source=Exinfluencer&utm_content=000026UJ&utm_term=10006555&utm_id=NA-SkillsNetwork-Channel-SkillsNetworkCoursesIBMDeveloperSkillsNetworkML0101ENSkillsNetwork1047-2023-01-01), also called logistic curve. It is a common \"S\" shape (sigmoid curve).\n",
    "\n",
    "So, briefly, Logistic Regression passes the input through the logistic/sigmoid but then treats the result as a probability:\n",
    "\n",
    "<img src=\"https://cf-courses-data.s3.us.cloud-object-storage.appdomain.cloud/IBMDeveloperSkillsNetwork-ML0101EN-SkillsNetwork/labs/Module%203/images/mod_ID_24_final.png\" width=\"400\" align=\"center\">\n",
    "\n",
    "\n",
    "The objective of the __Logistic Regression__ algorithm, is to find the best parameters θ, for $ℎ_\\theta(𝑥)$ = $\\sigma({\\theta^TX})$, in such a way that the model best predicts the class of each case.\n"
   ]
  },
  {
   "cell_type": "markdown",
   "id": "04ba4f70",
   "metadata": {
    "papermill": {
     "duration": 0.012865,
     "end_time": "2024-02-19T20:08:29.758861",
     "exception": false,
     "start_time": "2024-02-19T20:08:29.745996",
     "status": "completed"
    },
    "tags": []
   },
   "source": [
    "### Customer churn with Logistic Regression\n",
    "A telecommunications company is concerned about the number of customers leaving their land-line business for cable competitors. They need to understand who is leaving. Imagine that you are an analyst at this company and you have to find out who is leaving and why.\n"
   ]
  },
  {
   "cell_type": "markdown",
   "id": "5bf194d0",
   "metadata": {
    "button": false,
    "new_sheet": false,
    "papermill": {
     "duration": 0.011942,
     "end_time": "2024-02-19T20:08:29.783107",
     "exception": false,
     "start_time": "2024-02-19T20:08:29.771165",
     "status": "completed"
    },
    "run_control": {
     "read_only": false
    },
    "tags": []
   },
   "source": [
    "Let's first import required libraries:\n"
   ]
  },
  {
   "cell_type": "code",
   "execution_count": 1,
   "id": "ae0769e9",
   "metadata": {
    "button": false,
    "execution": {
     "iopub.execute_input": "2024-02-19T20:08:29.809437Z",
     "iopub.status.busy": "2024-02-19T20:08:29.809038Z",
     "iopub.status.idle": "2024-02-19T20:08:32.414201Z",
     "shell.execute_reply": "2024-02-19T20:08:32.412975Z"
    },
    "new_sheet": false,
    "papermill": {
     "duration": 2.622012,
     "end_time": "2024-02-19T20:08:32.417371",
     "exception": false,
     "start_time": "2024-02-19T20:08:29.795359",
     "status": "completed"
    },
    "run_control": {
     "read_only": false
    },
    "tags": []
   },
   "outputs": [],
   "source": [
    "import pandas as pd \n",
    "import numpy as np  \n",
    "import matplotlib.pyplot as plt  \n",
    "# split data into train and test sets\n",
    "from sklearn.model_selection import train_test_split\n",
    "# feature scaling\n",
    "from sklearn.preprocessing import StandardScaler  \n",
    "# logistic regression model\n",
    "from sklearn.linear_model import LogisticRegression\n",
    "# evaluation metric: confusion matrix\n",
    "from sklearn.metrics import confusion_matrix\n",
    "# evaluation metric: Jaccard score\n",
    "from sklearn.metrics import jaccard_score  \n",
    "# evaluation metric: precision, recall, f1-score\n",
    "from sklearn.metrics import classification_report \n",
    "# advanced iteration tools\n",
    "import itertools  \n",
    "# cross entrop loss\n",
    "from sklearn.metrics import log_loss"
   ]
  },
  {
   "cell_type": "markdown",
   "id": "d9046c0d",
   "metadata": {
    "button": false,
    "new_sheet": false,
    "papermill": {
     "duration": 0.012792,
     "end_time": "2024-02-19T20:08:32.443186",
     "exception": false,
     "start_time": "2024-02-19T20:08:32.430394",
     "status": "completed"
    },
    "run_control": {
     "read_only": false
    },
    "tags": []
   },
   "source": [
    "<h2 id=\"about_dataset\">About the dataset</h2>\n",
    "We will use a telecommunications dataset for predicting customer churn. This is a historical customer dataset where each row represents one customer. The data is relatively easy to understand, and you may uncover insights you can use immediately. Typically it is less expensive to keep customers than acquire new ones, so the focus of this analysis is to predict the customers who will stay with the company. \n",
    "\n",
    "\n",
    "This data set provides information to help you predict what behavior will help you to retain customers. You can analyze all relevant customer data and develop focused customer retention programs.\n",
    "\n",
    "\n",
    "\n",
    "The dataset includes information about:\n",
    "\n",
    "- Customers who left within the last month – the column is called Churn\n",
    "- Services that each customer has signed up for – phone, multiple lines, internet, online security, online backup, device protection, tech support, and streaming TV and movies\n",
    "- Customer account information – how long they had been a customer, contract, payment method, paperless billing, monthly charges, and total charges\n",
    "- Demographic info about customers – gender, age range, and if they have partners and dependents\n"
   ]
  },
  {
   "cell_type": "markdown",
   "id": "494eb9dd",
   "metadata": {
    "button": false,
    "new_sheet": false,
    "papermill": {
     "duration": 0.012571,
     "end_time": "2024-02-19T20:08:32.469874",
     "exception": false,
     "start_time": "2024-02-19T20:08:32.457303",
     "status": "completed"
    },
    "run_control": {
     "read_only": false
    },
    "tags": []
   },
   "source": [
    "###  Load the Telco Churn data \n",
    "Telco Churn is a hypothetical data file that concerns a telecommunications company's efforts to reduce turnover in its customer base. Each case corresponds to a separate customer and it records various demographic and service usage information. Before you can work with the data, you must use the URL to get the ChurnData.csv.\n",
    "\n",
    "To download the data, we will use `!wget` to download it from IBM Object Storage.\n"
   ]
  },
  {
   "cell_type": "code",
   "execution_count": 2,
   "id": "6a575fa1",
   "metadata": {
    "button": false,
    "execution": {
     "iopub.execute_input": "2024-02-19T20:08:32.497473Z",
     "iopub.status.busy": "2024-02-19T20:08:32.496943Z",
     "iopub.status.idle": "2024-02-19T20:08:33.898604Z",
     "shell.execute_reply": "2024-02-19T20:08:33.897024Z"
    },
    "new_sheet": false,
    "papermill": {
     "duration": 1.419012,
     "end_time": "2024-02-19T20:08:33.901618",
     "exception": false,
     "start_time": "2024-02-19T20:08:32.482606",
     "status": "completed"
    },
    "run_control": {
     "read_only": false
    },
    "tags": []
   },
   "outputs": [
    {
     "name": "stdout",
     "output_type": "stream",
     "text": [
      "--2024-02-19 20:08:33--  https://cf-courses-data.s3.us.cloud-object-storage.appdomain.cloud/IBMDeveloperSkillsNetwork-ML0101EN-SkillsNetwork/labs/Module%203/data/ChurnData.csv\r\n",
      "Resolving cf-courses-data.s3.us.cloud-object-storage.appdomain.cloud (cf-courses-data.s3.us.cloud-object-storage.appdomain.cloud)... 169.45.118.108\r\n",
      "Connecting to cf-courses-data.s3.us.cloud-object-storage.appdomain.cloud (cf-courses-data.s3.us.cloud-object-storage.appdomain.cloud)|169.45.118.108|:443... connected.\r\n",
      "HTTP request sent, awaiting response... 200 OK\r\n",
      "Length: 35943 (35K) [text/csv]\r\n",
      "Saving to: 'ChurnData.csv'\r\n",
      "\r\n",
      "ChurnData.csv       100%[===================>]  35.10K  --.-KB/s    in 0.02s   \r\n",
      "\r\n",
      "2024-02-19 20:08:33 (1.70 MB/s) - 'ChurnData.csv' saved [35943/35943]\r\n",
      "\r\n"
     ]
    }
   ],
   "source": [
    "# download the data\n",
    "!wget -O ChurnData.csv https://cf-courses-data.s3.us.cloud-object-storage.appdomain.cloud/IBMDeveloperSkillsNetwork-ML0101EN-SkillsNetwork/labs/Module%203/data/ChurnData.csv"
   ]
  },
  {
   "cell_type": "markdown",
   "id": "c28d14c3",
   "metadata": {
    "papermill": {
     "duration": 0.013515,
     "end_time": "2024-02-19T20:08:33.928894",
     "exception": false,
     "start_time": "2024-02-19T20:08:33.915379",
     "status": "completed"
    },
    "tags": []
   },
   "source": [
    "__Did you know?__ When it comes to Machine Learning, you will likely be working with large datasets. As a business, where can you host your data? IBM is offering a unique opportunity for businesses, with 10 Tb of IBM Cloud Object Storage: [Sign up now for free](http://cocl.us/ML0101EN-IBM-Offer-CC)\n"
   ]
  },
  {
   "cell_type": "markdown",
   "id": "92d63d2f",
   "metadata": {
    "button": false,
    "new_sheet": false,
    "papermill": {
     "duration": 0.013179,
     "end_time": "2024-02-19T20:08:33.955097",
     "exception": false,
     "start_time": "2024-02-19T20:08:33.941918",
     "status": "completed"
    },
    "run_control": {
     "read_only": false
    },
    "tags": []
   },
   "source": [
    "## Load Data From CSV File  \n"
   ]
  },
  {
   "cell_type": "code",
   "execution_count": 3,
   "id": "134e0b04",
   "metadata": {
    "button": false,
    "execution": {
     "iopub.execute_input": "2024-02-19T20:08:33.983551Z",
     "iopub.status.busy": "2024-02-19T20:08:33.983087Z",
     "iopub.status.idle": "2024-02-19T20:08:34.038320Z",
     "shell.execute_reply": "2024-02-19T20:08:34.037132Z"
    },
    "new_sheet": false,
    "papermill": {
     "duration": 0.072342,
     "end_time": "2024-02-19T20:08:34.040728",
     "exception": false,
     "start_time": "2024-02-19T20:08:33.968386",
     "status": "completed"
    },
    "run_control": {
     "read_only": false
    },
    "tags": []
   },
   "outputs": [
    {
     "data": {
      "text/html": [
       "<div>\n",
       "<style scoped>\n",
       "    .dataframe tbody tr th:only-of-type {\n",
       "        vertical-align: middle;\n",
       "    }\n",
       "\n",
       "    .dataframe tbody tr th {\n",
       "        vertical-align: top;\n",
       "    }\n",
       "\n",
       "    .dataframe thead th {\n",
       "        text-align: right;\n",
       "    }\n",
       "</style>\n",
       "<table border=\"1\" class=\"dataframe\">\n",
       "  <thead>\n",
       "    <tr style=\"text-align: right;\">\n",
       "      <th></th>\n",
       "      <th>tenure</th>\n",
       "      <th>age</th>\n",
       "      <th>address</th>\n",
       "      <th>income</th>\n",
       "      <th>ed</th>\n",
       "      <th>employ</th>\n",
       "      <th>equip</th>\n",
       "      <th>callcard</th>\n",
       "      <th>wireless</th>\n",
       "      <th>longmon</th>\n",
       "      <th>...</th>\n",
       "      <th>pager</th>\n",
       "      <th>internet</th>\n",
       "      <th>callwait</th>\n",
       "      <th>confer</th>\n",
       "      <th>ebill</th>\n",
       "      <th>loglong</th>\n",
       "      <th>logtoll</th>\n",
       "      <th>lninc</th>\n",
       "      <th>custcat</th>\n",
       "      <th>churn</th>\n",
       "    </tr>\n",
       "  </thead>\n",
       "  <tbody>\n",
       "    <tr>\n",
       "      <th>0</th>\n",
       "      <td>11.0</td>\n",
       "      <td>33.0</td>\n",
       "      <td>7.0</td>\n",
       "      <td>136.0</td>\n",
       "      <td>5.0</td>\n",
       "      <td>5.0</td>\n",
       "      <td>0.0</td>\n",
       "      <td>1.0</td>\n",
       "      <td>1.0</td>\n",
       "      <td>4.40</td>\n",
       "      <td>...</td>\n",
       "      <td>1.0</td>\n",
       "      <td>0.0</td>\n",
       "      <td>1.0</td>\n",
       "      <td>1.0</td>\n",
       "      <td>0.0</td>\n",
       "      <td>1.482</td>\n",
       "      <td>3.033</td>\n",
       "      <td>4.913</td>\n",
       "      <td>4.0</td>\n",
       "      <td>1.0</td>\n",
       "    </tr>\n",
       "    <tr>\n",
       "      <th>1</th>\n",
       "      <td>33.0</td>\n",
       "      <td>33.0</td>\n",
       "      <td>12.0</td>\n",
       "      <td>33.0</td>\n",
       "      <td>2.0</td>\n",
       "      <td>0.0</td>\n",
       "      <td>0.0</td>\n",
       "      <td>0.0</td>\n",
       "      <td>0.0</td>\n",
       "      <td>9.45</td>\n",
       "      <td>...</td>\n",
       "      <td>0.0</td>\n",
       "      <td>0.0</td>\n",
       "      <td>0.0</td>\n",
       "      <td>0.0</td>\n",
       "      <td>0.0</td>\n",
       "      <td>2.246</td>\n",
       "      <td>3.240</td>\n",
       "      <td>3.497</td>\n",
       "      <td>1.0</td>\n",
       "      <td>1.0</td>\n",
       "    </tr>\n",
       "    <tr>\n",
       "      <th>2</th>\n",
       "      <td>23.0</td>\n",
       "      <td>30.0</td>\n",
       "      <td>9.0</td>\n",
       "      <td>30.0</td>\n",
       "      <td>1.0</td>\n",
       "      <td>2.0</td>\n",
       "      <td>0.0</td>\n",
       "      <td>0.0</td>\n",
       "      <td>0.0</td>\n",
       "      <td>6.30</td>\n",
       "      <td>...</td>\n",
       "      <td>0.0</td>\n",
       "      <td>0.0</td>\n",
       "      <td>0.0</td>\n",
       "      <td>1.0</td>\n",
       "      <td>0.0</td>\n",
       "      <td>1.841</td>\n",
       "      <td>3.240</td>\n",
       "      <td>3.401</td>\n",
       "      <td>3.0</td>\n",
       "      <td>0.0</td>\n",
       "    </tr>\n",
       "    <tr>\n",
       "      <th>3</th>\n",
       "      <td>38.0</td>\n",
       "      <td>35.0</td>\n",
       "      <td>5.0</td>\n",
       "      <td>76.0</td>\n",
       "      <td>2.0</td>\n",
       "      <td>10.0</td>\n",
       "      <td>1.0</td>\n",
       "      <td>1.0</td>\n",
       "      <td>1.0</td>\n",
       "      <td>6.05</td>\n",
       "      <td>...</td>\n",
       "      <td>1.0</td>\n",
       "      <td>1.0</td>\n",
       "      <td>1.0</td>\n",
       "      <td>1.0</td>\n",
       "      <td>1.0</td>\n",
       "      <td>1.800</td>\n",
       "      <td>3.807</td>\n",
       "      <td>4.331</td>\n",
       "      <td>4.0</td>\n",
       "      <td>0.0</td>\n",
       "    </tr>\n",
       "    <tr>\n",
       "      <th>4</th>\n",
       "      <td>7.0</td>\n",
       "      <td>35.0</td>\n",
       "      <td>14.0</td>\n",
       "      <td>80.0</td>\n",
       "      <td>2.0</td>\n",
       "      <td>15.0</td>\n",
       "      <td>0.0</td>\n",
       "      <td>1.0</td>\n",
       "      <td>0.0</td>\n",
       "      <td>7.10</td>\n",
       "      <td>...</td>\n",
       "      <td>0.0</td>\n",
       "      <td>0.0</td>\n",
       "      <td>1.0</td>\n",
       "      <td>1.0</td>\n",
       "      <td>0.0</td>\n",
       "      <td>1.960</td>\n",
       "      <td>3.091</td>\n",
       "      <td>4.382</td>\n",
       "      <td>3.0</td>\n",
       "      <td>0.0</td>\n",
       "    </tr>\n",
       "  </tbody>\n",
       "</table>\n",
       "<p>5 rows × 28 columns</p>\n",
       "</div>"
      ],
      "text/plain": [
       "   tenure   age  address  income   ed  employ  equip  callcard  wireless  \\\n",
       "0    11.0  33.0      7.0   136.0  5.0     5.0    0.0       1.0       1.0   \n",
       "1    33.0  33.0     12.0    33.0  2.0     0.0    0.0       0.0       0.0   \n",
       "2    23.0  30.0      9.0    30.0  1.0     2.0    0.0       0.0       0.0   \n",
       "3    38.0  35.0      5.0    76.0  2.0    10.0    1.0       1.0       1.0   \n",
       "4     7.0  35.0     14.0    80.0  2.0    15.0    0.0       1.0       0.0   \n",
       "\n",
       "   longmon  ...  pager  internet  callwait  confer  ebill  loglong  logtoll  \\\n",
       "0     4.40  ...    1.0       0.0       1.0     1.0    0.0    1.482    3.033   \n",
       "1     9.45  ...    0.0       0.0       0.0     0.0    0.0    2.246    3.240   \n",
       "2     6.30  ...    0.0       0.0       0.0     1.0    0.0    1.841    3.240   \n",
       "3     6.05  ...    1.0       1.0       1.0     1.0    1.0    1.800    3.807   \n",
       "4     7.10  ...    0.0       0.0       1.0     1.0    0.0    1.960    3.091   \n",
       "\n",
       "   lninc  custcat  churn  \n",
       "0  4.913      4.0    1.0  \n",
       "1  3.497      1.0    1.0  \n",
       "2  3.401      3.0    0.0  \n",
       "3  4.331      4.0    0.0  \n",
       "4  4.382      3.0    0.0  \n",
       "\n",
       "[5 rows x 28 columns]"
      ]
     },
     "execution_count": 3,
     "metadata": {},
     "output_type": "execute_result"
    }
   ],
   "source": [
    "churn_df = pd.read_csv(\"ChurnData.csv\")\n",
    "churn_df.head()"
   ]
  },
  {
   "cell_type": "markdown",
   "id": "bb044cf0",
   "metadata": {
    "papermill": {
     "duration": 0.012911,
     "end_time": "2024-02-19T20:08:34.067031",
     "exception": false,
     "start_time": "2024-02-19T20:08:34.054120",
     "status": "completed"
    },
    "tags": []
   },
   "source": [
    "<h2 id=\"preprocessing\">Data preprocessing and selection</h2>\n"
   ]
  },
  {
   "cell_type": "markdown",
   "id": "23bc6900",
   "metadata": {
    "papermill": {
     "duration": 0.013401,
     "end_time": "2024-02-19T20:08:34.094280",
     "exception": false,
     "start_time": "2024-02-19T20:08:34.080879",
     "status": "completed"
    },
    "tags": []
   },
   "source": [
    "Let's select some features for the modeling. Also, we change the target data type to be an integer, as it is a requirement by the skitlearn algorithm:\n"
   ]
  },
  {
   "cell_type": "code",
   "execution_count": 4,
   "id": "5442cd9a",
   "metadata": {
    "execution": {
     "iopub.execute_input": "2024-02-19T20:08:34.123040Z",
     "iopub.status.busy": "2024-02-19T20:08:34.122604Z",
     "iopub.status.idle": "2024-02-19T20:08:34.155990Z",
     "shell.execute_reply": "2024-02-19T20:08:34.154700Z"
    },
    "papermill": {
     "duration": 0.050652,
     "end_time": "2024-02-19T20:08:34.158633",
     "exception": false,
     "start_time": "2024-02-19T20:08:34.107981",
     "status": "completed"
    },
    "tags": []
   },
   "outputs": [
    {
     "data": {
      "text/html": [
       "<div>\n",
       "<style scoped>\n",
       "    .dataframe tbody tr th:only-of-type {\n",
       "        vertical-align: middle;\n",
       "    }\n",
       "\n",
       "    .dataframe tbody tr th {\n",
       "        vertical-align: top;\n",
       "    }\n",
       "\n",
       "    .dataframe thead th {\n",
       "        text-align: right;\n",
       "    }\n",
       "</style>\n",
       "<table border=\"1\" class=\"dataframe\">\n",
       "  <thead>\n",
       "    <tr style=\"text-align: right;\">\n",
       "      <th></th>\n",
       "      <th>tenure</th>\n",
       "      <th>age</th>\n",
       "      <th>address</th>\n",
       "      <th>income</th>\n",
       "      <th>ed</th>\n",
       "      <th>employ</th>\n",
       "      <th>equip</th>\n",
       "      <th>callcard</th>\n",
       "      <th>wireless</th>\n",
       "      <th>churn</th>\n",
       "    </tr>\n",
       "  </thead>\n",
       "  <tbody>\n",
       "    <tr>\n",
       "      <th>0</th>\n",
       "      <td>11.0</td>\n",
       "      <td>33.0</td>\n",
       "      <td>7.0</td>\n",
       "      <td>136.0</td>\n",
       "      <td>5.0</td>\n",
       "      <td>5.0</td>\n",
       "      <td>0.0</td>\n",
       "      <td>1.0</td>\n",
       "      <td>1.0</td>\n",
       "      <td>1</td>\n",
       "    </tr>\n",
       "    <tr>\n",
       "      <th>1</th>\n",
       "      <td>33.0</td>\n",
       "      <td>33.0</td>\n",
       "      <td>12.0</td>\n",
       "      <td>33.0</td>\n",
       "      <td>2.0</td>\n",
       "      <td>0.0</td>\n",
       "      <td>0.0</td>\n",
       "      <td>0.0</td>\n",
       "      <td>0.0</td>\n",
       "      <td>1</td>\n",
       "    </tr>\n",
       "    <tr>\n",
       "      <th>2</th>\n",
       "      <td>23.0</td>\n",
       "      <td>30.0</td>\n",
       "      <td>9.0</td>\n",
       "      <td>30.0</td>\n",
       "      <td>1.0</td>\n",
       "      <td>2.0</td>\n",
       "      <td>0.0</td>\n",
       "      <td>0.0</td>\n",
       "      <td>0.0</td>\n",
       "      <td>0</td>\n",
       "    </tr>\n",
       "    <tr>\n",
       "      <th>3</th>\n",
       "      <td>38.0</td>\n",
       "      <td>35.0</td>\n",
       "      <td>5.0</td>\n",
       "      <td>76.0</td>\n",
       "      <td>2.0</td>\n",
       "      <td>10.0</td>\n",
       "      <td>1.0</td>\n",
       "      <td>1.0</td>\n",
       "      <td>1.0</td>\n",
       "      <td>0</td>\n",
       "    </tr>\n",
       "    <tr>\n",
       "      <th>4</th>\n",
       "      <td>7.0</td>\n",
       "      <td>35.0</td>\n",
       "      <td>14.0</td>\n",
       "      <td>80.0</td>\n",
       "      <td>2.0</td>\n",
       "      <td>15.0</td>\n",
       "      <td>0.0</td>\n",
       "      <td>1.0</td>\n",
       "      <td>0.0</td>\n",
       "      <td>0</td>\n",
       "    </tr>\n",
       "  </tbody>\n",
       "</table>\n",
       "</div>"
      ],
      "text/plain": [
       "   tenure   age  address  income   ed  employ  equip  callcard  wireless  \\\n",
       "0    11.0  33.0      7.0   136.0  5.0     5.0    0.0       1.0       1.0   \n",
       "1    33.0  33.0     12.0    33.0  2.0     0.0    0.0       0.0       0.0   \n",
       "2    23.0  30.0      9.0    30.0  1.0     2.0    0.0       0.0       0.0   \n",
       "3    38.0  35.0      5.0    76.0  2.0    10.0    1.0       1.0       1.0   \n",
       "4     7.0  35.0     14.0    80.0  2.0    15.0    0.0       1.0       0.0   \n",
       "\n",
       "   churn  \n",
       "0      1  \n",
       "1      1  \n",
       "2      0  \n",
       "3      0  \n",
       "4      0  "
      ]
     },
     "execution_count": 4,
     "metadata": {},
     "output_type": "execute_result"
    }
   ],
   "source": [
    "churn_df = churn_df[['tenure', 'age', 'address', 'income', 'ed', 'employ', 'equip',   'callcard', 'wireless','churn']]\n",
    "churn_df['churn'] = churn_df['churn'].astype('int')\n",
    "churn_df.head()"
   ]
  },
  {
   "cell_type": "markdown",
   "id": "a4735ef2",
   "metadata": {
    "papermill": {
     "duration": 0.01359,
     "end_time": "2024-02-19T20:08:34.186255",
     "exception": false,
     "start_time": "2024-02-19T20:08:34.172665",
     "status": "completed"
    },
    "tags": []
   },
   "source": [
    "Let's define X, and y for our dataset:\n"
   ]
  },
  {
   "cell_type": "code",
   "execution_count": 5,
   "id": "dd28b85c",
   "metadata": {
    "execution": {
     "iopub.execute_input": "2024-02-19T20:08:34.216687Z",
     "iopub.status.busy": "2024-02-19T20:08:34.216255Z",
     "iopub.status.idle": "2024-02-19T20:08:34.226859Z",
     "shell.execute_reply": "2024-02-19T20:08:34.225747Z"
    },
    "papermill": {
     "duration": 0.029146,
     "end_time": "2024-02-19T20:08:34.229606",
     "exception": false,
     "start_time": "2024-02-19T20:08:34.200460",
     "status": "completed"
    },
    "tags": []
   },
   "outputs": [
    {
     "data": {
      "text/plain": [
       "array([[ 11.,  33.,   7., 136.,   5.,   5.,   0.],\n",
       "       [ 33.,  33.,  12.,  33.,   2.,   0.,   0.],\n",
       "       [ 23.,  30.,   9.,  30.,   1.,   2.,   0.],\n",
       "       [ 38.,  35.,   5.,  76.,   2.,  10.,   1.],\n",
       "       [  7.,  35.,  14.,  80.,   2.,  15.,   0.]])"
      ]
     },
     "execution_count": 5,
     "metadata": {},
     "output_type": "execute_result"
    }
   ],
   "source": [
    "X = np.array(churn_df[['tenure', 'age', 'address', 'income', 'ed', 'employ', 'equip']])\n",
    "X[0:5]"
   ]
  },
  {
   "cell_type": "code",
   "execution_count": 6,
   "id": "e0bb3c65",
   "metadata": {
    "execution": {
     "iopub.execute_input": "2024-02-19T20:08:34.259168Z",
     "iopub.status.busy": "2024-02-19T20:08:34.258746Z",
     "iopub.status.idle": "2024-02-19T20:08:34.266438Z",
     "shell.execute_reply": "2024-02-19T20:08:34.265277Z"
    },
    "papermill": {
     "duration": 0.025249,
     "end_time": "2024-02-19T20:08:34.268861",
     "exception": false,
     "start_time": "2024-02-19T20:08:34.243612",
     "status": "completed"
    },
    "tags": []
   },
   "outputs": [
    {
     "data": {
      "text/plain": [
       "array([1, 1, 0, 0, 0])"
      ]
     },
     "execution_count": 6,
     "metadata": {},
     "output_type": "execute_result"
    }
   ],
   "source": [
    "y = np.asarray(churn_df['churn'])\n",
    "y [0:5]"
   ]
  },
  {
   "cell_type": "markdown",
   "id": "1e7edbf1",
   "metadata": {
    "papermill": {
     "duration": 0.014097,
     "end_time": "2024-02-19T20:08:34.296853",
     "exception": false,
     "start_time": "2024-02-19T20:08:34.282756",
     "status": "completed"
    },
    "tags": []
   },
   "source": [
    "Also, we normalize the dataset:\n"
   ]
  },
  {
   "cell_type": "code",
   "execution_count": 7,
   "id": "1fb535ca",
   "metadata": {
    "execution": {
     "iopub.execute_input": "2024-02-19T20:08:34.327523Z",
     "iopub.status.busy": "2024-02-19T20:08:34.326472Z",
     "iopub.status.idle": "2024-02-19T20:08:34.336328Z",
     "shell.execute_reply": "2024-02-19T20:08:34.335162Z"
    },
    "papermill": {
     "duration": 0.027721,
     "end_time": "2024-02-19T20:08:34.338723",
     "exception": false,
     "start_time": "2024-02-19T20:08:34.311002",
     "status": "completed"
    },
    "tags": []
   },
   "outputs": [
    {
     "data": {
      "text/plain": [
       "array([[-1.13518441, -0.62595491, -0.4588971 ,  0.4751423 ,  1.6961288 ,\n",
       "        -0.58477841, -0.85972695],\n",
       "       [-0.11604313, -0.62595491,  0.03454064, -0.32886061, -0.6433592 ,\n",
       "        -1.14437497, -0.85972695],\n",
       "       [-0.57928917, -0.85594447, -0.261522  , -0.35227817, -1.42318853,\n",
       "        -0.92053635, -0.85972695],\n",
       "       [ 0.11557989, -0.47262854, -0.65627219,  0.00679109, -0.6433592 ,\n",
       "        -0.02518185,  1.16316   ],\n",
       "       [-1.32048283, -0.47262854,  0.23191574,  0.03801451, -0.6433592 ,\n",
       "         0.53441472, -0.85972695]])"
      ]
     },
     "execution_count": 7,
     "metadata": {},
     "output_type": "execute_result"
    }
   ],
   "source": [
    "X = StandardScaler().fit(X).transform(X)\n",
    "X[0:5]"
   ]
  },
  {
   "cell_type": "markdown",
   "id": "33ac9e26",
   "metadata": {
    "papermill": {
     "duration": 0.014158,
     "end_time": "2024-02-19T20:08:34.368013",
     "exception": false,
     "start_time": "2024-02-19T20:08:34.353855",
     "status": "completed"
    },
    "tags": []
   },
   "source": [
    "## Train/Test dataset\n"
   ]
  },
  {
   "cell_type": "markdown",
   "id": "a93d6e59",
   "metadata": {
    "papermill": {
     "duration": 0.015704,
     "end_time": "2024-02-19T20:08:34.398569",
     "exception": false,
     "start_time": "2024-02-19T20:08:34.382865",
     "status": "completed"
    },
    "tags": []
   },
   "source": [
    "We split our dataset into train and test set:\n"
   ]
  },
  {
   "cell_type": "code",
   "execution_count": 8,
   "id": "0e001421",
   "metadata": {
    "execution": {
     "iopub.execute_input": "2024-02-19T20:08:34.429680Z",
     "iopub.status.busy": "2024-02-19T20:08:34.429016Z",
     "iopub.status.idle": "2024-02-19T20:08:34.436990Z",
     "shell.execute_reply": "2024-02-19T20:08:34.435791Z"
    },
    "papermill": {
     "duration": 0.026884,
     "end_time": "2024-02-19T20:08:34.440602",
     "exception": false,
     "start_time": "2024-02-19T20:08:34.413718",
     "status": "completed"
    },
    "tags": []
   },
   "outputs": [
    {
     "name": "stdout",
     "output_type": "stream",
     "text": [
      "Train set: (160, 7) (160,)\n",
      "Test set: (40, 7) (40,)\n"
     ]
    }
   ],
   "source": [
    "X_train, X_test, y_train, y_test = train_test_split( X, y, test_size=0.2, random_state=4)\n",
    "print ('Train set:', X_train.shape,  y_train.shape)\n",
    "print ('Test set:', X_test.shape,  y_test.shape)"
   ]
  },
  {
   "cell_type": "markdown",
   "id": "f7c31dfe",
   "metadata": {
    "papermill": {
     "duration": 0.01416,
     "end_time": "2024-02-19T20:08:34.469141",
     "exception": false,
     "start_time": "2024-02-19T20:08:34.454981",
     "status": "completed"
    },
    "tags": []
   },
   "source": [
    "<h2 id=\"modeling\">Modeling (Logistic Regression with Scikit-learn)</h2>\n"
   ]
  },
  {
   "cell_type": "markdown",
   "id": "b88f4eb2",
   "metadata": {
    "papermill": {
     "duration": 0.013992,
     "end_time": "2024-02-19T20:08:34.497685",
     "exception": false,
     "start_time": "2024-02-19T20:08:34.483693",
     "status": "completed"
    },
    "tags": []
   },
   "source": [
    "Let's build our model using __LogisticRegression__ from the Scikit-learn package. This function implements logistic regression and can use different numerical optimizers to find parameters, including ‘newton-cg’, ‘lbfgs’, ‘liblinear’, ‘sag’, ‘saga’ solvers. You can find extensive information about the pros and cons of these optimizers if you search it in the internet.\n",
    "\n",
    "The version of Logistic Regression in Scikit-learn, support regularization. Regularization is a technique used to solve the overfitting problem of machine learning models.\n",
    "__C__ parameter indicates __inverse of regularization strength__ which must be a positive float. Smaller values specify stronger regularization. \n",
    "Now let's fit our model with train set:\n"
   ]
  },
  {
   "cell_type": "code",
   "execution_count": 9,
   "id": "b69f66be",
   "metadata": {
    "execution": {
     "iopub.execute_input": "2024-02-19T20:08:34.528404Z",
     "iopub.status.busy": "2024-02-19T20:08:34.528012Z",
     "iopub.status.idle": "2024-02-19T20:08:34.538313Z",
     "shell.execute_reply": "2024-02-19T20:08:34.537365Z"
    },
    "papermill": {
     "duration": 0.028264,
     "end_time": "2024-02-19T20:08:34.540726",
     "exception": false,
     "start_time": "2024-02-19T20:08:34.512462",
     "status": "completed"
    },
    "tags": []
   },
   "outputs": [],
   "source": [
    "# C=0.01: this is the inverse of regularization strength which is used to prevent overfitting\n",
    "# the solver parameter specifies which algorithm to use for optimization\n",
    "LR = LogisticRegression(C=0.01, solver='liblinear').fit(X_train,y_train)"
   ]
  },
  {
   "cell_type": "markdown",
   "id": "d27e94d8",
   "metadata": {
    "papermill": {
     "duration": 0.01448,
     "end_time": "2024-02-19T20:08:34.570362",
     "exception": false,
     "start_time": "2024-02-19T20:08:34.555882",
     "status": "completed"
    },
    "tags": []
   },
   "source": [
    "Now we can predict using our test set:\n"
   ]
  },
  {
   "cell_type": "code",
   "execution_count": 10,
   "id": "6b61619a",
   "metadata": {
    "execution": {
     "iopub.execute_input": "2024-02-19T20:08:34.601772Z",
     "iopub.status.busy": "2024-02-19T20:08:34.601035Z",
     "iopub.status.idle": "2024-02-19T20:08:34.605989Z",
     "shell.execute_reply": "2024-02-19T20:08:34.605046Z"
    },
    "papermill": {
     "duration": 0.023215,
     "end_time": "2024-02-19T20:08:34.608565",
     "exception": false,
     "start_time": "2024-02-19T20:08:34.585350",
     "status": "completed"
    },
    "tags": []
   },
   "outputs": [],
   "source": [
    "yhat = LR.predict(X_test)"
   ]
  },
  {
   "cell_type": "markdown",
   "id": "eea2f9b3",
   "metadata": {
    "papermill": {
     "duration": 0.014709,
     "end_time": "2024-02-19T20:08:34.637735",
     "exception": false,
     "start_time": "2024-02-19T20:08:34.623026",
     "status": "completed"
    },
    "tags": []
   },
   "source": [
    "__predict_proba__  returns estimates for all classes, ordered by the label of classes. So, the first column is the probability of class 0, P(Y=0|X), and second column is probability of class 1, P(Y=1|X):\n"
   ]
  },
  {
   "cell_type": "code",
   "execution_count": 11,
   "id": "162ed10f",
   "metadata": {
    "execution": {
     "iopub.execute_input": "2024-02-19T20:08:34.669039Z",
     "iopub.status.busy": "2024-02-19T20:08:34.668608Z",
     "iopub.status.idle": "2024-02-19T20:08:34.675253Z",
     "shell.execute_reply": "2024-02-19T20:08:34.673256Z"
    },
    "papermill": {
     "duration": 0.026518,
     "end_time": "2024-02-19T20:08:34.679448",
     "exception": false,
     "start_time": "2024-02-19T20:08:34.652930",
     "status": "completed"
    },
    "tags": []
   },
   "outputs": [],
   "source": [
    "yhat_prob = LR.predict_proba(X_test)"
   ]
  },
  {
   "cell_type": "markdown",
   "id": "f1ca8ec0",
   "metadata": {
    "papermill": {
     "duration": 0.019336,
     "end_time": "2024-02-19T20:08:34.716583",
     "exception": false,
     "start_time": "2024-02-19T20:08:34.697247",
     "status": "completed"
    },
    "tags": []
   },
   "source": [
    "<h2 id=\"evaluation\">Evaluation</h2>\n"
   ]
  },
  {
   "cell_type": "markdown",
   "id": "0384d7b7",
   "metadata": {
    "papermill": {
     "duration": 0.015102,
     "end_time": "2024-02-19T20:08:34.749315",
     "exception": false,
     "start_time": "2024-02-19T20:08:34.734213",
     "status": "completed"
    },
    "tags": []
   },
   "source": [
    "### jaccard index\n",
    "Let's try the jaccard index for accuracy evaluation. we can define jaccard as the size of the intersection divided by the size of the union of the two label sets. If the entire set of predicted labels for a sample strictly matches with the true set of labels, then the subset accuracy is 1.0; otherwise it is 0.0.\n",
    "\n"
   ]
  },
  {
   "cell_type": "code",
   "execution_count": 12,
   "id": "01447fcf",
   "metadata": {
    "execution": {
     "iopub.execute_input": "2024-02-19T20:08:34.779829Z",
     "iopub.status.busy": "2024-02-19T20:08:34.779381Z",
     "iopub.status.idle": "2024-02-19T20:08:34.791964Z",
     "shell.execute_reply": "2024-02-19T20:08:34.790397Z"
    },
    "papermill": {
     "duration": 0.030651,
     "end_time": "2024-02-19T20:08:34.794662",
     "exception": false,
     "start_time": "2024-02-19T20:08:34.764011",
     "status": "completed"
    },
    "tags": []
   },
   "outputs": [
    {
     "data": {
      "text/plain": [
       "0.7058823529411765"
      ]
     },
     "execution_count": 12,
     "metadata": {},
     "output_type": "execute_result"
    }
   ],
   "source": [
    "# Jaccard score is a statistic used in understanding the similarities between two sets\n",
    "# the Jaccard score is useful when you want to know how well the positive instances are being predicted\n",
    "# it is particularly useful for imbalanced datasets\n",
    "jaccard_score(y_test, yhat, pos_label=0)"
   ]
  },
  {
   "cell_type": "markdown",
   "id": "db3957ae",
   "metadata": {
    "papermill": {
     "duration": 0.01436,
     "end_time": "2024-02-19T20:08:34.823921",
     "exception": false,
     "start_time": "2024-02-19T20:08:34.809561",
     "status": "completed"
    },
    "tags": []
   },
   "source": [
    "### confusion matrix\n",
    "Another way of looking at the accuracy of the classifier is to look at __confusion matrix__.\n"
   ]
  },
  {
   "cell_type": "code",
   "execution_count": 13,
   "id": "d5471a40",
   "metadata": {
    "execution": {
     "iopub.execute_input": "2024-02-19T20:08:34.863280Z",
     "iopub.status.busy": "2024-02-19T20:08:34.862788Z",
     "iopub.status.idle": "2024-02-19T20:08:34.885484Z",
     "shell.execute_reply": "2024-02-19T20:08:34.884019Z"
    },
    "papermill": {
     "duration": 0.045253,
     "end_time": "2024-02-19T20:08:34.888655",
     "exception": false,
     "start_time": "2024-02-19T20:08:34.843402",
     "status": "completed"
    },
    "tags": []
   },
   "outputs": [
    {
     "name": "stdout",
     "output_type": "stream",
     "text": [
      "[[ 6  9]\n",
      " [ 1 24]]\n"
     ]
    }
   ],
   "source": [
    "# define the function to plot the confusion matrix\n",
    "def plot_confusion_matrix(cm, classes,\n",
    "                          normalize=False,\n",
    "                          title='Confusion matrix',\n",
    "                          cmap=plt.cm.Blues):\n",
    "    \"\"\"\n",
    "    this function prints and plots the confusion matrix.\n",
    "    normalization can be applied by setting `normalize=True`.\n",
    "    \"\"\"\n",
    "    # normalize the confusion matrix if required\n",
    "    if normalize:\n",
    "        cm = cm.astype('float') / cm.sum(axis=1)[:, np.newaxis]\n",
    "        print(\"normalized confusion matrix\")\n",
    "    else:\n",
    "        print('confusion matrix, without normalization')\n",
    "\n",
    "    # print the confusion matrix\n",
    "    print(cm)\n",
    "\n",
    "    # plot the confusion matrix as an image\n",
    "    plt.imshow(cm, interpolation='nearest', cmap=cmap)\n",
    "    # set the title of the plot\n",
    "    plt.title(title)\n",
    "    # add a color bar to indicate the scale\n",
    "    plt.colorbar()\n",
    "    # define the tick marks based on the class labels\n",
    "    tick_marks = np.arange(len(classes))\n",
    "    # set the tick labels on the x-axis with a rotation for better readability\n",
    "    plt.xticks(tick_marks, classes, rotation=45)\n",
    "    # set the tick labels on the y-axis\n",
    "    plt.yticks(tick_marks, classes)\n",
    "\n",
    "    # set the text format inside the confusion matrix cells\n",
    "    fmt = '.2f' if normalize else 'd'\n",
    "    # determine the threshold for changing cell text color for better readability\n",
    "    thresh = cm.max() / 2.\n",
    "    # iterate over the confusion matrix cells to place the text\n",
    "    for i, j in itertools.product(range(cm.shape[0]), range(cm.shape[1])):\n",
    "        plt.text(j, i, format(cm[i, j], fmt),\n",
    "                 horizontalalignment=\"center\",\n",
    "                 # set the text color depending on the cell background for readability\n",
    "                 color=\"white\" if cm[i, j] > thresh else \"black\")\n",
    "\n",
    "    # adjust the layout to prevent clipping of tick-labels\n",
    "    plt.tight_layout()\n",
    "    # label the y-axis as 'true label'\n",
    "    plt.ylabel('True label')\n",
    "    # label the x-axis as 'predicted label'\n",
    "    plt.xlabel('Predicted label')\n",
    "\n",
    "print(confusion_matrix(y_test, yhat, labels=[1,0]))"
   ]
  },
  {
   "cell_type": "code",
   "execution_count": 14,
   "id": "6786439d",
   "metadata": {
    "execution": {
     "iopub.execute_input": "2024-02-19T20:08:34.930914Z",
     "iopub.status.busy": "2024-02-19T20:08:34.930467Z",
     "iopub.status.idle": "2024-02-19T20:08:35.388121Z",
     "shell.execute_reply": "2024-02-19T20:08:35.386888Z"
    },
    "papermill": {
     "duration": 0.480938,
     "end_time": "2024-02-19T20:08:35.390936",
     "exception": false,
     "start_time": "2024-02-19T20:08:34.909998",
     "status": "completed"
    },
    "tags": []
   },
   "outputs": [
    {
     "name": "stdout",
     "output_type": "stream",
     "text": [
      "confusion matrix, without normalization\n",
      "[[ 6  9]\n",
      " [ 1 24]]\n"
     ]
    },
    {
     "data": {
      "image/png": "[encoded data removed]",
      "text/plain": [
       "<Figure size 640x480 with 2 Axes>"
      ]
     },
     "metadata": {},
     "output_type": "display_data"
    }
   ],
   "source": [
    "# compute confusion matrix\n",
    "cnf_matrix = confusion_matrix(y_test, yhat, labels=[1,0])\n",
    "np.set_printoptions(precision=2)\n",
    "\n",
    "\n",
    "# plot non-normalized confusion matrix\n",
    "plt.figure()\n",
    "plot_confusion_matrix(cnf_matrix, classes=['churn=1','churn=0'],normalize= False,  title='Confusion matrix')"
   ]
  },
  {
   "cell_type": "markdown",
   "id": "f95c233d",
   "metadata": {
    "papermill": {
     "duration": 0.015716,
     "end_time": "2024-02-19T20:08:35.422092",
     "exception": false,
     "start_time": "2024-02-19T20:08:35.406376",
     "status": "completed"
    },
    "tags": []
   },
   "source": [
    "Let's look at first row. The first row is for customers whose actual churn value in the test set is 1.\n",
    "As you can calculate, out of 40 customers, the churn value of 15 of them is 1. \n",
    "Out of these 15 cases, the classifier correctly predicted 6 of them as 1, and 9 of them as 0. \n",
    "\n",
    "This means, for 6 customers, the actual churn value was 1 in test set and classifier also correctly predicted those as 1. However, while the actual label of 9 customers was 1, the classifier predicted those as 0, which is not very good. We can consider it as the error of the model for first row.\n",
    "\n",
    "What about the customers with churn value 0? Lets look at the second row.\n",
    "It looks like  there were 25 customers whom their churn value were 0. \n",
    "\n",
    "\n",
    "The classifier correctly predicted 24 of them as 0, and one of them wrongly as 1. So, it has done a good job in predicting the customers with churn value 0. A good thing about the confusion matrix is that it shows the model’s ability to correctly predict or separate the classes.  In a specific case of the binary classifier, such as this example,  we can interpret these numbers as the count of true positives, false positives, true negatives, and false negatives. \n"
   ]
  },
  {
   "cell_type": "code",
   "execution_count": 15,
   "id": "09634f4e",
   "metadata": {
    "execution": {
     "iopub.execute_input": "2024-02-19T20:08:35.456935Z",
     "iopub.status.busy": "2024-02-19T20:08:35.455770Z",
     "iopub.status.idle": "2024-02-19T20:08:35.471199Z",
     "shell.execute_reply": "2024-02-19T20:08:35.470047Z"
    },
    "papermill": {
     "duration": 0.034727,
     "end_time": "2024-02-19T20:08:35.473730",
     "exception": false,
     "start_time": "2024-02-19T20:08:35.439003",
     "status": "completed"
    },
    "tags": []
   },
   "outputs": [
    {
     "name": "stdout",
     "output_type": "stream",
     "text": [
      "              precision    recall  f1-score   support\n",
      "\n",
      "           0       0.73      0.96      0.83        25\n",
      "           1       0.86      0.40      0.55        15\n",
      "\n",
      "    accuracy                           0.75        40\n",
      "   macro avg       0.79      0.68      0.69        40\n",
      "weighted avg       0.78      0.75      0.72        40\n",
      "\n"
     ]
    }
   ],
   "source": [
    "print (classification_report(y_test, yhat))"
   ]
  },
  {
   "cell_type": "markdown",
   "id": "43d17a7c",
   "metadata": {
    "papermill": {
     "duration": 0.015218,
     "end_time": "2024-02-19T20:08:35.565745",
     "exception": false,
     "start_time": "2024-02-19T20:08:35.550527",
     "status": "completed"
    },
    "tags": []
   },
   "source": [
    "Based on the count of each section, we can calculate precision and recall of each label:\n",
    "\n",
    "\n",
    "- __Precision__ is a measure of the accuracy provided that a class label has been predicted. It is defined by: precision = TP / (TP + FP)\n",
    "\n",
    "- __Recall__ is the true positive rate. It is defined as: Recall =  TP / (TP + FN)\n",
    "\n",
    "    \n",
    "So, we can calculate the precision and recall of each class.\n",
    "\n",
    "__F1 score:__\n",
    "Now we are in the position to calculate the F1 scores for each label based on the precision and recall of that label. \n",
    "\n",
    "The F1 score is the harmonic average of the precision and recall, where an F1 score reaches its best value at 1 (perfect precision and recall) and worst at 0. It is a good way to show that a classifer has a good value for both recall and precision.\n",
    "\n",
    "\n",
    "Finally, we can tell the average accuracy for this classifier is the average of the F1-score for both labels, which is 0.72 in our case.\n"
   ]
  },
  {
   "cell_type": "markdown",
   "id": "2dd477fc",
   "metadata": {
    "papermill": {
     "duration": 0.015015,
     "end_time": "2024-02-19T20:08:35.596250",
     "exception": false,
     "start_time": "2024-02-19T20:08:35.581235",
     "status": "completed"
    },
    "tags": []
   },
   "source": [
    "### log loss (cross-entrop loss)\n",
    "Now, let's try __log loss__ for evaluation. In logistic regression, the output can be the probability of customer churn is yes (or equals to 1). This probability is a value between 0 and 1.\n",
    "Log loss( Logarithmic loss) measures the performance of a classifier where the predicted output is a probability value between 0 and 1. \n"
   ]
  },
  {
   "cell_type": "code",
   "execution_count": 16,
   "id": "7bfca0bc",
   "metadata": {
    "execution": {
     "iopub.execute_input": "2024-02-19T20:08:35.629663Z",
     "iopub.status.busy": "2024-02-19T20:08:35.629231Z",
     "iopub.status.idle": "2024-02-19T20:08:35.641247Z",
     "shell.execute_reply": "2024-02-19T20:08:35.640050Z"
    },
    "papermill": {
     "duration": 0.032087,
     "end_time": "2024-02-19T20:08:35.643716",
     "exception": false,
     "start_time": "2024-02-19T20:08:35.611629",
     "status": "completed"
    },
    "tags": []
   },
   "outputs": [
    {
     "data": {
      "text/plain": [
       "0.6017092478101185"
      ]
     },
     "execution_count": 16,
     "metadata": {},
     "output_type": "execute_result"
    }
   ],
   "source": [
    "log_loss(y_test, yhat_prob)"
   ]
  },
  {
   "cell_type": "markdown",
   "id": "bdaecde4",
   "metadata": {
    "papermill": {
     "duration": 0.01594,
     "end_time": "2024-02-19T20:08:35.675322",
     "exception": false,
     "start_time": "2024-02-19T20:08:35.659382",
     "status": "completed"
    },
    "tags": []
   },
   "source": [
    "Try to build Logistic Regression model again for the same dataset, but this time, use different __solver__ and __regularization__ values? What is new __logLoss__ value?\n"
   ]
  },
  {
   "cell_type": "code",
   "execution_count": 17,
   "id": "bb12a4b2",
   "metadata": {
    "execution": {
     "iopub.execute_input": "2024-02-19T20:08:35.709372Z",
     "iopub.status.busy": "2024-02-19T20:08:35.708735Z",
     "iopub.status.idle": "2024-02-19T20:08:35.718296Z",
     "shell.execute_reply": "2024-02-19T20:08:35.717350Z"
    },
    "papermill": {
     "duration": 0.029516,
     "end_time": "2024-02-19T20:08:35.720646",
     "exception": false,
     "start_time": "2024-02-19T20:08:35.691130",
     "status": "completed"
    },
    "tags": []
   },
   "outputs": [
    {
     "name": "stdout",
     "output_type": "stream",
     "text": [
      "LogLoss: : 0.61\n"
     ]
    }
   ],
   "source": [
    "LR2 = LogisticRegression(C=0.01, solver='sag').fit(X_train,y_train)\n",
    "yhat_prob2 = LR2.predict_proba(X_test)\n",
    "print (\"LogLoss: : %.2f\" % log_loss(y_test, yhat_prob2))"
   ]
  },
  {
   "cell_type": "markdown",
   "id": "36c8e5ef",
   "metadata": {
    "button": false,
    "new_sheet": false,
    "papermill": {
     "duration": 0.015834,
     "end_time": "2024-02-19T20:08:35.754509",
     "exception": false,
     "start_time": "2024-02-19T20:08:35.738675",
     "status": "completed"
    },
    "run_control": {
     "read_only": false
    },
    "tags": []
   },
   "source": [
    "<h2>Want to learn more?</h2>\n",
    "\n",
    "IBM SPSS Modeler is a comprehensive analytics platform that has many machine learning algorithms. It has been designed to bring predictive intelligence to decisions made by individuals, by groups, by systems – by your enterprise as a whole. A free trial is available through this course, available here: <a href=\"https://www.ibm.com/analytics/spss-statistics-software?utm_medium=Exinfluencer&utm_source=Exinfluencer&utm_content=000026UJ&utm_term=10006555&utm_id=NA-SkillsNetwork-Channel-SkillsNetworkCoursesIBMDeveloperSkillsNetworkML0101ENSkillsNetwork1047-2023-01-01\">SPSS Modeler</a>\n",
    "\n",
    "Also, you can use Watson Studio to run these notebooks faster with bigger datasets. Watson Studio is IBM's leading cloud solution for data scientists, built by data scientists. With Jupyter notebooks, RStudio, Apache Spark and popular libraries pre-packaged in the cloud, Watson Studio enables data scientists to collaborate on their projects without having to install anything. Join the fast-growing community of Watson Studio users today with a free account at <a href=\"https://www.ibm.com/cloud/watson-studio?utm_medium=Exinfluencer&utm_source=Exinfluencer&utm_content=000026UJ&utm_term=10006555&utm_id=NA-SkillsNetwork-Channel-SkillsNetworkCoursesIBMDeveloperSkillsNetworkML0101ENSkillsNetwork1047-2023-01-01\">Watson Studio</a>\n",
    "\n"
   ]
  }
 ],
 "metadata": {
  "kaggle": {
   "accelerator": "none",
   "dataSources": [],
   "dockerImageVersionId": 30646,
   "isGpuEnabled": false,
   "isInternetEnabled": true,
   "language": "python",
   "sourceType": "notebook"
  },
  "kernelspec": {
   "display_name": "Python 3",
   "language": "python",
   "name": "python3"
  },
  "language_info": {
   "codemirror_mode": {
    "name": "ipython",
    "version": 3
   },
   "file_extension": ".py",
   "mimetype": "text/x-python",
   "name": "python",
   "nbconvert_exporter": "python",
   "pygments_lexer": "ipython3",
   "version": "3.10.13"
  },
  "papermill": {
   "default_parameters": {},
   "duration": 9.917382,
   "end_time": "2024-02-19T20:08:36.391653",
   "environment_variables": {},
   "exception": null,
   "input_path": "__notebook__.ipynb",
   "output_path": "__notebook__.ipynb",
   "parameters": {},
   "start_time": "2024-02-19T20:08:26.474271",
   "version": "2.5.0"
  }
 },
 "nbformat": 4,
 "nbformat_minor": 5
}
