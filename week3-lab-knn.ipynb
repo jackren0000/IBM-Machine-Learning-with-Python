{
 "cells": [
  {
   "cell_type": "markdown",
   "id": "1398feb9",
   "metadata": {
    "button": false,
    "new_sheet": false,
    "papermill": {
     "duration": 0.014038,
     "end_time": "2024-02-19T08:13:16.757383",
     "exception": false,
     "start_time": "2024-02-19T08:13:16.743345",
     "status": "completed"
    },
    "run_control": {
     "read_only": false
    },
    "tags": []
   },
   "source": [
    "<p style=\"text-align:center\">\n",
    "    <a href=\"https://skills.network/?utm_medium=Exinfluencer&utm_source=Exinfluencer&utm_content=000026UJ&utm_term=10006555&utm_id=NA-SkillsNetwork-Channel-SkillsNetworkCoursesIBMDeveloperSkillsNetworkML0101ENSkillsNetwork20718538-2022-01-01\">\n",
    "    <img src=\"https://cf-courses-data.s3.us.cloud-object-storage.appdomain.cloud/assets/logos/SN_web_lightmode.png\" width=\"200\" alt=\"Skills Network Logo\"  />\n",
    "    </a>\n",
    "</p>\n",
    "\n",
    "# K-Nearest Neighbors\n",
    "\n",
    "Estimated time needed: **25** minutes\n",
    "\n",
    "## Objectives\n",
    "\n",
    "After completing this lab you will be able to:\n",
    "\n",
    "*   Use K Nearest neighbors to classify data\n"
   ]
  },
  {
   "cell_type": "markdown",
   "id": "a9bbb3c6",
   "metadata": {
    "button": false,
    "new_sheet": false,
    "papermill": {
     "duration": 0.011925,
     "end_time": "2024-02-19T08:13:16.779699",
     "exception": false,
     "start_time": "2024-02-19T08:13:16.767774",
     "status": "completed"
    },
    "run_control": {
     "read_only": false
    },
    "tags": []
   },
   "source": [
    "**K-Nearest Neighbors** is a supervised learning algorithm. Where the data is 'trained' with data points corresponding to their classification. To predict the class of a given data point, it takes into account the classes of the 'K' nearest data points and chooses the class in which the majority of the 'K' nearest data points belong to as the predicted class.\n"
   ]
  },
  {
   "cell_type": "markdown",
   "id": "55440847",
   "metadata": {
    "button": false,
    "new_sheet": false,
    "papermill": {
     "duration": 0.009318,
     "end_time": "2024-02-19T08:13:16.800229",
     "exception": false,
     "start_time": "2024-02-19T08:13:16.790911",
     "status": "completed"
    },
    "run_control": {
     "read_only": false
    },
    "tags": []
   },
   "source": [
    "### Here's an visualization of the K-Nearest Neighbors algorithm.\n",
    "\n",
    "<img src=\"https://cf-courses-data.s3.us.cloud-object-storage.appdomain.cloud/IBMDeveloperSkillsNetwork-ML0101EN-SkillsNetwork/labs/Module%203/images/KNN_Diagram.png\">\n"
   ]
  },
  {
   "cell_type": "markdown",
   "id": "88b4d3fd",
   "metadata": {
    "button": false,
    "new_sheet": false,
    "papermill": {
     "duration": 0.009416,
     "end_time": "2024-02-19T08:13:16.819177",
     "exception": false,
     "start_time": "2024-02-19T08:13:16.809761",
     "status": "completed"
    },
    "run_control": {
     "read_only": false
    },
    "tags": []
   },
   "source": [
    "In this case, we have data points of Class A and B. We want to predict what the star (test data point) is. If we consider a k value of 3 (3 nearest data points), we will obtain a prediction of Class B. Yet if we consider a k value of 6, we will obtain a prediction of Class A.\n"
   ]
  },
  {
   "cell_type": "markdown",
   "id": "983f9bfc",
   "metadata": {
    "button": false,
    "new_sheet": false,
    "papermill": {
     "duration": 0.01,
     "end_time": "2024-02-19T08:13:16.841231",
     "exception": false,
     "start_time": "2024-02-19T08:13:16.831231",
     "status": "completed"
    },
    "run_control": {
     "read_only": false
    },
    "tags": []
   },
   "source": [
    "In this sense, it is important to consider the value of k. Hopefully from this diagram, you should get a sense of what the K-Nearest Neighbors algorithm is. It considers the 'K' Nearest Neighbors (data points) when it predicts the classification of the test point.\n"
   ]
  },
  {
   "cell_type": "code",
   "execution_count": 1,
   "id": "c7bcdcce",
   "metadata": {
    "button": false,
    "execution": {
     "iopub.execute_input": "2024-02-19T08:13:16.865543Z",
     "iopub.status.busy": "2024-02-19T08:13:16.865166Z",
     "iopub.status.idle": "2024-02-19T08:13:20.375347Z",
     "shell.execute_reply": "2024-02-19T08:13:20.373679Z"
    },
    "new_sheet": false,
    "papermill": {
     "duration": 3.525461,
     "end_time": "2024-02-19T08:13:20.378345",
     "exception": false,
     "start_time": "2024-02-19T08:13:16.852884",
     "status": "completed"
    },
    "run_control": {
     "read_only": false
    },
    "tags": []
   },
   "outputs": [],
   "source": [
    "import numpy as np\n",
    "import matplotlib.pyplot as plt\n",
    "import pandas as pd\n",
    "import numpy as np\n",
    "# KNN from scikit learn for classification\n",
    "from sklearn.neighbors import KNeighborsClassifier\n",
    "# import model evaluation metrics\n",
    "from sklearn.metrics import accuracy_score, classification_report, confusion_matrix\n",
    "# import StandardScaler class to normalize the data\n",
    "from sklearn.preprocessing import StandardScaler\n",
    "from sklearn.model_selection import train_test_split\n",
    "\n",
    "%matplotlib inline"
   ]
  },
  {
   "cell_type": "markdown",
   "id": "35c1b3a4",
   "metadata": {
    "button": false,
    "new_sheet": false,
    "papermill": {
     "duration": 0.009772,
     "end_time": "2024-02-19T08:13:20.397727",
     "exception": false,
     "start_time": "2024-02-19T08:13:20.387955",
     "status": "completed"
    },
    "run_control": {
     "read_only": false
    },
    "tags": []
   },
   "source": [
    "<div id=\"about_dataset\">\n",
    "    <h2>About the dataset</h2>\n",
    "</div>\n"
   ]
  },
  {
   "cell_type": "markdown",
   "id": "98ec6d42",
   "metadata": {
    "button": false,
    "new_sheet": false,
    "papermill": {
     "duration": 0.010597,
     "end_time": "2024-02-19T08:13:20.418202",
     "exception": false,
     "start_time": "2024-02-19T08:13:20.407605",
     "status": "completed"
    },
    "run_control": {
     "read_only": false
    },
    "tags": []
   },
   "source": [
    "Imagine a telecommunications provider has segmented its customer base by service usage patterns, categorizing the customers into four groups. If demographic data can be used to predict group membership, the company can customize offers for individual prospective customers. It is a classification problem. That is, given the dataset,  with predefined labels, we need to build a model to be used to predict class of a new or unknown case.\n",
    "\n",
    "The example focuses on using demographic data, such as region, age, and marital, to predict usage patterns.\n",
    "\n",
    "The target field, called **custcat**, has four possible values that correspond to the four customer groups, as follows:\n",
    "1- Basic Service\n",
    "2- E-Service\n",
    "3- Plus Service\n",
    "4- Total Service\n",
    "\n",
    "Our objective is to build a classifier, to predict the class of unknown cases. We will use a specific type of classification called K nearest neighbour.\n"
   ]
  },
  {
   "cell_type": "markdown",
   "id": "7ee29d10",
   "metadata": {
    "button": false,
    "new_sheet": false,
    "papermill": {
     "duration": 0.010194,
     "end_time": "2024-02-19T08:13:20.438806",
     "exception": false,
     "start_time": "2024-02-19T08:13:20.428612",
     "status": "completed"
    },
    "run_control": {
     "read_only": false
    },
    "tags": []
   },
   "source": [
    "## Data Collection\n"
   ]
  },
  {
   "cell_type": "code",
   "execution_count": 2,
   "id": "f838f362",
   "metadata": {
    "button": false,
    "execution": {
     "iopub.execute_input": "2024-02-19T08:13:20.460546Z",
     "iopub.status.busy": "2024-02-19T08:13:20.459987Z",
     "iopub.status.idle": "2024-02-19T08:13:22.445810Z",
     "shell.execute_reply": "2024-02-19T08:13:22.444199Z"
    },
    "new_sheet": false,
    "papermill": {
     "duration": 2.000872,
     "end_time": "2024-02-19T08:13:22.449366",
     "exception": false,
     "start_time": "2024-02-19T08:13:20.448494",
     "status": "completed"
    },
    "run_control": {
     "read_only": false
    },
    "tags": []
   },
   "outputs": [
    {
     "name": "stdout",
     "output_type": "stream",
     "text": [
      "--2024-02-19 08:13:21--  https://cf-courses-data.s3.us.cloud-object-storage.appdomain.cloud/IBMDeveloperSkillsNetwork-ML0101EN-SkillsNetwork/labs/Module%203/data/teleCust1000t.csv\r\n",
      "Resolving cf-courses-data.s3.us.cloud-object-storage.appdomain.cloud (cf-courses-data.s3.us.cloud-object-storage.appdomain.cloud)... 169.63.118.104\r\n",
      "Connecting to cf-courses-data.s3.us.cloud-object-storage.appdomain.cloud (cf-courses-data.s3.us.cloud-object-storage.appdomain.cloud)|169.63.118.104|:443... connected.\r\n",
      "HTTP request sent, awaiting response... 200 OK\r\n",
      "Length: 36047 (35K) [text/csv]\r\n",
      "Saving to: 'teleCust1000t.csv'\r\n",
      "\r\n",
      "teleCust1000t.csv   100%[===================>]  35.20K   192KB/s    in 0.2s    \r\n",
      "\r\n",
      "2024-02-19 08:13:22 (192 KB/s) - 'teleCust1000t.csv' saved [36047/36047]\r\n",
      "\r\n"
     ]
    }
   ],
   "source": [
    "# download the data through wget\n",
    "!wget https://cf-courses-data.s3.us.cloud-object-storage.appdomain.cloud/IBMDeveloperSkillsNetwork-ML0101EN-SkillsNetwork/labs/Module%203/data/teleCust1000t.csv"
   ]
  },
  {
   "cell_type": "markdown",
   "id": "4d2f5379",
   "metadata": {
    "button": false,
    "new_sheet": false,
    "papermill": {
     "duration": 0.009846,
     "end_time": "2024-02-19T08:13:22.471640",
     "exception": false,
     "start_time": "2024-02-19T08:13:22.461794",
     "status": "completed"
    },
    "run_control": {
     "read_only": false
    },
    "tags": []
   },
   "source": [
    "## Data Exploration\n"
   ]
  },
  {
   "cell_type": "code",
   "execution_count": 3,
   "id": "9117f3ca",
   "metadata": {
    "button": false,
    "execution": {
     "iopub.execute_input": "2024-02-19T08:13:22.494896Z",
     "iopub.status.busy": "2024-02-19T08:13:22.494440Z",
     "iopub.status.idle": "2024-02-19T08:13:22.619957Z",
     "shell.execute_reply": "2024-02-19T08:13:22.618137Z"
    },
    "new_sheet": false,
    "papermill": {
     "duration": 0.141918,
     "end_time": "2024-02-19T08:13:22.624293",
     "exception": false,
     "start_time": "2024-02-19T08:13:22.482375",
     "status": "completed"
    },
    "run_control": {
     "read_only": false
    },
    "tags": []
   },
   "outputs": [
    {
     "name": "stdout",
     "output_type": "stream",
     "text": [
      "<class 'pandas.core.frame.DataFrame'>\n",
      "RangeIndex: 1000 entries, 0 to 999\n",
      "Data columns (total 12 columns):\n",
      " #   Column   Non-Null Count  Dtype  \n",
      "---  ------   --------------  -----  \n",
      " 0   region   1000 non-null   int64  \n",
      " 1   tenure   1000 non-null   int64  \n",
      " 2   age      1000 non-null   int64  \n",
      " 3   marital  1000 non-null   int64  \n",
      " 4   address  1000 non-null   int64  \n",
      " 5   income   1000 non-null   float64\n",
      " 6   ed       1000 non-null   int64  \n",
      " 7   employ   1000 non-null   int64  \n",
      " 8   retire   1000 non-null   float64\n",
      " 9   gender   1000 non-null   int64  \n",
      " 10  reside   1000 non-null   int64  \n",
      " 11  custcat  1000 non-null   int64  \n",
      "dtypes: float64(2), int64(10)\n",
      "memory usage: 93.9 KB\n"
     ]
    },
    {
     "data": {
      "text/plain": [
       "None"
      ]
     },
     "metadata": {},
     "output_type": "display_data"
    },
    {
     "data": {
      "text/html": [
       "<div>\n",
       "<style scoped>\n",
       "    .dataframe tbody tr th:only-of-type {\n",
       "        vertical-align: middle;\n",
       "    }\n",
       "\n",
       "    .dataframe tbody tr th {\n",
       "        vertical-align: top;\n",
       "    }\n",
       "\n",
       "    .dataframe thead th {\n",
       "        text-align: right;\n",
       "    }\n",
       "</style>\n",
       "<table border=\"1\" class=\"dataframe\">\n",
       "  <thead>\n",
       "    <tr style=\"text-align: right;\">\n",
       "      <th></th>\n",
       "      <th>region</th>\n",
       "      <th>tenure</th>\n",
       "      <th>age</th>\n",
       "      <th>marital</th>\n",
       "      <th>address</th>\n",
       "      <th>income</th>\n",
       "      <th>ed</th>\n",
       "      <th>employ</th>\n",
       "      <th>retire</th>\n",
       "      <th>gender</th>\n",
       "      <th>reside</th>\n",
       "      <th>custcat</th>\n",
       "    </tr>\n",
       "  </thead>\n",
       "  <tbody>\n",
       "    <tr>\n",
       "      <th>0</th>\n",
       "      <td>2</td>\n",
       "      <td>13</td>\n",
       "      <td>44</td>\n",
       "      <td>1</td>\n",
       "      <td>9</td>\n",
       "      <td>64.0</td>\n",
       "      <td>4</td>\n",
       "      <td>5</td>\n",
       "      <td>0.0</td>\n",
       "      <td>0</td>\n",
       "      <td>2</td>\n",
       "      <td>1</td>\n",
       "    </tr>\n",
       "    <tr>\n",
       "      <th>1</th>\n",
       "      <td>3</td>\n",
       "      <td>11</td>\n",
       "      <td>33</td>\n",
       "      <td>1</td>\n",
       "      <td>7</td>\n",
       "      <td>136.0</td>\n",
       "      <td>5</td>\n",
       "      <td>5</td>\n",
       "      <td>0.0</td>\n",
       "      <td>0</td>\n",
       "      <td>6</td>\n",
       "      <td>4</td>\n",
       "    </tr>\n",
       "    <tr>\n",
       "      <th>2</th>\n",
       "      <td>3</td>\n",
       "      <td>68</td>\n",
       "      <td>52</td>\n",
       "      <td>1</td>\n",
       "      <td>24</td>\n",
       "      <td>116.0</td>\n",
       "      <td>1</td>\n",
       "      <td>29</td>\n",
       "      <td>0.0</td>\n",
       "      <td>1</td>\n",
       "      <td>2</td>\n",
       "      <td>3</td>\n",
       "    </tr>\n",
       "    <tr>\n",
       "      <th>3</th>\n",
       "      <td>2</td>\n",
       "      <td>33</td>\n",
       "      <td>33</td>\n",
       "      <td>0</td>\n",
       "      <td>12</td>\n",
       "      <td>33.0</td>\n",
       "      <td>2</td>\n",
       "      <td>0</td>\n",
       "      <td>0.0</td>\n",
       "      <td>1</td>\n",
       "      <td>1</td>\n",
       "      <td>1</td>\n",
       "    </tr>\n",
       "    <tr>\n",
       "      <th>4</th>\n",
       "      <td>2</td>\n",
       "      <td>23</td>\n",
       "      <td>30</td>\n",
       "      <td>1</td>\n",
       "      <td>9</td>\n",
       "      <td>30.0</td>\n",
       "      <td>1</td>\n",
       "      <td>2</td>\n",
       "      <td>0.0</td>\n",
       "      <td>0</td>\n",
       "      <td>4</td>\n",
       "      <td>3</td>\n",
       "    </tr>\n",
       "  </tbody>\n",
       "</table>\n",
       "</div>"
      ],
      "text/plain": [
       "   region  tenure  age  marital  address  income  ed  employ  retire  gender  \\\n",
       "0       2      13   44        1        9    64.0   4       5     0.0       0   \n",
       "1       3      11   33        1        7   136.0   5       5     0.0       0   \n",
       "2       3      68   52        1       24   116.0   1      29     0.0       1   \n",
       "3       2      33   33        0       12    33.0   2       0     0.0       1   \n",
       "4       2      23   30        1        9    30.0   1       2     0.0       0   \n",
       "\n",
       "   reside  custcat  \n",
       "0       2        1  \n",
       "1       6        4  \n",
       "2       2        3  \n",
       "3       1        1  \n",
       "4       4        3  "
      ]
     },
     "metadata": {},
     "output_type": "display_data"
    },
    {
     "data": {
      "text/html": [
       "<div>\n",
       "<style scoped>\n",
       "    .dataframe tbody tr th:only-of-type {\n",
       "        vertical-align: middle;\n",
       "    }\n",
       "\n",
       "    .dataframe tbody tr th {\n",
       "        vertical-align: top;\n",
       "    }\n",
       "\n",
       "    .dataframe thead th {\n",
       "        text-align: right;\n",
       "    }\n",
       "</style>\n",
       "<table border=\"1\" class=\"dataframe\">\n",
       "  <thead>\n",
       "    <tr style=\"text-align: right;\">\n",
       "      <th></th>\n",
       "      <th>region</th>\n",
       "      <th>tenure</th>\n",
       "      <th>age</th>\n",
       "      <th>marital</th>\n",
       "      <th>address</th>\n",
       "      <th>income</th>\n",
       "      <th>ed</th>\n",
       "      <th>employ</th>\n",
       "      <th>retire</th>\n",
       "      <th>gender</th>\n",
       "      <th>reside</th>\n",
       "      <th>custcat</th>\n",
       "    </tr>\n",
       "  </thead>\n",
       "  <tbody>\n",
       "    <tr>\n",
       "      <th>count</th>\n",
       "      <td>1000.0000</td>\n",
       "      <td>1000.000000</td>\n",
       "      <td>1000.000000</td>\n",
       "      <td>1000.000000</td>\n",
       "      <td>1000.000000</td>\n",
       "      <td>1000.000000</td>\n",
       "      <td>1000.000000</td>\n",
       "      <td>1000.000000</td>\n",
       "      <td>1000.000000</td>\n",
       "      <td>1000.000000</td>\n",
       "      <td>1000.000000</td>\n",
       "      <td>1000.000000</td>\n",
       "    </tr>\n",
       "    <tr>\n",
       "      <th>mean</th>\n",
       "      <td>2.0220</td>\n",
       "      <td>35.526000</td>\n",
       "      <td>41.684000</td>\n",
       "      <td>0.495000</td>\n",
       "      <td>11.551000</td>\n",
       "      <td>77.535000</td>\n",
       "      <td>2.671000</td>\n",
       "      <td>10.987000</td>\n",
       "      <td>0.047000</td>\n",
       "      <td>0.517000</td>\n",
       "      <td>2.331000</td>\n",
       "      <td>2.487000</td>\n",
       "    </tr>\n",
       "    <tr>\n",
       "      <th>std</th>\n",
       "      <td>0.8162</td>\n",
       "      <td>21.359812</td>\n",
       "      <td>12.558816</td>\n",
       "      <td>0.500225</td>\n",
       "      <td>10.086681</td>\n",
       "      <td>107.044165</td>\n",
       "      <td>1.222397</td>\n",
       "      <td>10.082087</td>\n",
       "      <td>0.211745</td>\n",
       "      <td>0.499961</td>\n",
       "      <td>1.435793</td>\n",
       "      <td>1.120306</td>\n",
       "    </tr>\n",
       "    <tr>\n",
       "      <th>min</th>\n",
       "      <td>1.0000</td>\n",
       "      <td>1.000000</td>\n",
       "      <td>18.000000</td>\n",
       "      <td>0.000000</td>\n",
       "      <td>0.000000</td>\n",
       "      <td>9.000000</td>\n",
       "      <td>1.000000</td>\n",
       "      <td>0.000000</td>\n",
       "      <td>0.000000</td>\n",
       "      <td>0.000000</td>\n",
       "      <td>1.000000</td>\n",
       "      <td>1.000000</td>\n",
       "    </tr>\n",
       "    <tr>\n",
       "      <th>25%</th>\n",
       "      <td>1.0000</td>\n",
       "      <td>17.000000</td>\n",
       "      <td>32.000000</td>\n",
       "      <td>0.000000</td>\n",
       "      <td>3.000000</td>\n",
       "      <td>29.000000</td>\n",
       "      <td>2.000000</td>\n",
       "      <td>3.000000</td>\n",
       "      <td>0.000000</td>\n",
       "      <td>0.000000</td>\n",
       "      <td>1.000000</td>\n",
       "      <td>1.000000</td>\n",
       "    </tr>\n",
       "    <tr>\n",
       "      <th>50%</th>\n",
       "      <td>2.0000</td>\n",
       "      <td>34.000000</td>\n",
       "      <td>40.000000</td>\n",
       "      <td>0.000000</td>\n",
       "      <td>9.000000</td>\n",
       "      <td>47.000000</td>\n",
       "      <td>3.000000</td>\n",
       "      <td>8.000000</td>\n",
       "      <td>0.000000</td>\n",
       "      <td>1.000000</td>\n",
       "      <td>2.000000</td>\n",
       "      <td>3.000000</td>\n",
       "    </tr>\n",
       "    <tr>\n",
       "      <th>75%</th>\n",
       "      <td>3.0000</td>\n",
       "      <td>54.000000</td>\n",
       "      <td>51.000000</td>\n",
       "      <td>1.000000</td>\n",
       "      <td>18.000000</td>\n",
       "      <td>83.000000</td>\n",
       "      <td>4.000000</td>\n",
       "      <td>17.000000</td>\n",
       "      <td>0.000000</td>\n",
       "      <td>1.000000</td>\n",
       "      <td>3.000000</td>\n",
       "      <td>3.000000</td>\n",
       "    </tr>\n",
       "    <tr>\n",
       "      <th>max</th>\n",
       "      <td>3.0000</td>\n",
       "      <td>72.000000</td>\n",
       "      <td>77.000000</td>\n",
       "      <td>1.000000</td>\n",
       "      <td>55.000000</td>\n",
       "      <td>1668.000000</td>\n",
       "      <td>5.000000</td>\n",
       "      <td>47.000000</td>\n",
       "      <td>1.000000</td>\n",
       "      <td>1.000000</td>\n",
       "      <td>8.000000</td>\n",
       "      <td>4.000000</td>\n",
       "    </tr>\n",
       "  </tbody>\n",
       "</table>\n",
       "</div>"
      ],
      "text/plain": [
       "          region       tenure          age      marital      address  \\\n",
       "count  1000.0000  1000.000000  1000.000000  1000.000000  1000.000000   \n",
       "mean      2.0220    35.526000    41.684000     0.495000    11.551000   \n",
       "std       0.8162    21.359812    12.558816     0.500225    10.086681   \n",
       "min       1.0000     1.000000    18.000000     0.000000     0.000000   \n",
       "25%       1.0000    17.000000    32.000000     0.000000     3.000000   \n",
       "50%       2.0000    34.000000    40.000000     0.000000     9.000000   \n",
       "75%       3.0000    54.000000    51.000000     1.000000    18.000000   \n",
       "max       3.0000    72.000000    77.000000     1.000000    55.000000   \n",
       "\n",
       "            income           ed       employ       retire       gender  \\\n",
       "count  1000.000000  1000.000000  1000.000000  1000.000000  1000.000000   \n",
       "mean     77.535000     2.671000    10.987000     0.047000     0.517000   \n",
       "std     107.044165     1.222397    10.082087     0.211745     0.499961   \n",
       "min       9.000000     1.000000     0.000000     0.000000     0.000000   \n",
       "25%      29.000000     2.000000     3.000000     0.000000     0.000000   \n",
       "50%      47.000000     3.000000     8.000000     0.000000     1.000000   \n",
       "75%      83.000000     4.000000    17.000000     0.000000     1.000000   \n",
       "max    1668.000000     5.000000    47.000000     1.000000     1.000000   \n",
       "\n",
       "            reside      custcat  \n",
       "count  1000.000000  1000.000000  \n",
       "mean      2.331000     2.487000  \n",
       "std       1.435793     1.120306  \n",
       "min       1.000000     1.000000  \n",
       "25%       1.000000     1.000000  \n",
       "50%       2.000000     3.000000  \n",
       "75%       3.000000     3.000000  \n",
       "max       8.000000     4.000000  "
      ]
     },
     "metadata": {},
     "output_type": "display_data"
    }
   ],
   "source": [
    "df = pd.read_csv('teleCust1000t.csv')\n",
    "# gain insight of the dataset\n",
    "display(df.info())\n",
    "display(df.head())\n",
    "display(df.describe())"
   ]
  },
  {
   "cell_type": "code",
   "execution_count": 4,
   "id": "f9dce5b3",
   "metadata": {
    "execution": {
     "iopub.execute_input": "2024-02-19T08:13:22.653399Z",
     "iopub.status.busy": "2024-02-19T08:13:22.652568Z",
     "iopub.status.idle": "2024-02-19T08:13:23.059366Z",
     "shell.execute_reply": "2024-02-19T08:13:23.058095Z"
    },
    "papermill": {
     "duration": 0.425762,
     "end_time": "2024-02-19T08:13:23.062005",
     "exception": false,
     "start_time": "2024-02-19T08:13:22.636243",
     "status": "completed"
    },
    "tags": []
   },
   "outputs": [
    {
     "data": {
      "image/png": "[encoded data removed]",
      "text/plain": [
       "<Figure size 640x480 with 1 Axes>"
      ]
     },
     "metadata": {},
     "output_type": "display_data"
    }
   ],
   "source": [
    "# visualize important features\n",
    "viz = df[['income']]\n",
    "viz.hist()\n",
    "plt.show()"
   ]
  },
  {
   "cell_type": "markdown",
   "id": "7a036e10",
   "metadata": {
    "button": false,
    "new_sheet": false,
    "papermill": {
     "duration": 0.011373,
     "end_time": "2024-02-19T08:13:23.085712",
     "exception": false,
     "start_time": "2024-02-19T08:13:23.074339",
     "status": "completed"
    },
    "run_control": {
     "read_only": false
    },
    "tags": []
   },
   "source": [
    "## Data Preprocessing\n"
   ]
  },
  {
   "cell_type": "markdown",
   "id": "bbed2c5b",
   "metadata": {
    "button": false,
    "new_sheet": false,
    "papermill": {
     "duration": 0.011255,
     "end_time": "2024-02-19T08:13:23.108702",
     "exception": false,
     "start_time": "2024-02-19T08:13:23.097447",
     "status": "completed"
    },
    "run_control": {
     "read_only": false
    },
    "tags": []
   },
   "source": [
    "### Train Test Split\n",
    "\n",
    "Out of Sample Accuracy is the percentage of correct predictions that the model makes on data that the model has NOT been trained on. Doing a train and test on the same dataset will most likely have low out-of-sample accuracy, due to the likelihood of our model overfitting.\n",
    "\n",
    "It is important that our models have a high, out-of-sample accuracy, because the purpose of any model, of course, is to make correct predictions on unknown data. So how can we improve out-of-sample accuracy? One way is to use an evaluation approach called Train/Test Split.\n",
    "Train/Test Split involves splitting the dataset into training and testing sets respectively, which are mutually exclusive. After which, you train with the training set and test with the testing set.\n",
    "\n",
    "This will provide a more accurate evaluation on out-of-sample accuracy because the testing dataset is not part of the dataset that has been used to train the model. It is more realistic for the real world problems.\n"
   ]
  },
  {
   "cell_type": "code",
   "execution_count": 5,
   "id": "71e53e8f",
   "metadata": {
    "button": false,
    "execution": {
     "iopub.execute_input": "2024-02-19T08:13:23.133817Z",
     "iopub.status.busy": "2024-02-19T08:13:23.133399Z",
     "iopub.status.idle": "2024-02-19T08:13:23.153887Z",
     "shell.execute_reply": "2024-02-19T08:13:23.152532Z"
    },
    "new_sheet": false,
    "papermill": {
     "duration": 0.036021,
     "end_time": "2024-02-19T08:13:23.156259",
     "exception": false,
     "start_time": "2024-02-19T08:13:23.120238",
     "status": "completed"
    },
    "run_control": {
     "read_only": false
    },
    "tags": []
   },
   "outputs": [
    {
     "name": "stdout",
     "output_type": "stream",
     "text": [
      "Train set: (800, 11) (800,)\n",
      "Test set: (200, 11) (200,)\n"
     ]
    }
   ],
   "source": [
    "# choose feature and target columns\n",
    "X = df.drop('custcat', axis=1)\n",
    "y = df['custcat']\n",
    "\n",
    "# split the data into training and testing (evaluation) sets\n",
    "X_train, X_test, y_train, y_test = train_test_split(X, y, test_size=0.2, random_state=42)\n",
    "\n",
    "# normalize the data\n",
    "scaler = StandardScaler()\n",
    "X_train = scaler.fit_transform(X_train)\n",
    "X_test = scaler.transform(X_test)\n",
    "\n",
    "print ('Train set:', X_train.shape,  y_train.shape)\n",
    "print ('Test set:', X_test.shape,  y_test.shape)"
   ]
  },
  {
   "cell_type": "markdown",
   "id": "fe7d6863",
   "metadata": {
    "button": false,
    "new_sheet": false,
    "papermill": {
     "duration": 0.011492,
     "end_time": "2024-02-19T08:13:23.179997",
     "exception": false,
     "start_time": "2024-02-19T08:13:23.168505",
     "status": "completed"
    },
    "run_control": {
     "read_only": false
    },
    "tags": []
   },
   "source": [
    "## Data Modeling\n"
   ]
  },
  {
   "cell_type": "markdown",
   "id": "d30f55d4",
   "metadata": {
    "button": false,
    "new_sheet": false,
    "papermill": {
     "duration": 0.011323,
     "end_time": "2024-02-19T08:13:23.203166",
     "exception": false,
     "start_time": "2024-02-19T08:13:23.191843",
     "status": "completed"
    },
    "run_control": {
     "read_only": false
    },
    "tags": []
   },
   "source": [
    "<h3>K nearest neighbor (KNN)</h3>\n"
   ]
  },
  {
   "cell_type": "code",
   "execution_count": 6,
   "id": "6cf497d9",
   "metadata": {
    "button": false,
    "execution": {
     "iopub.execute_input": "2024-02-19T08:13:23.228574Z",
     "iopub.status.busy": "2024-02-19T08:13:23.228166Z",
     "iopub.status.idle": "2024-02-19T08:13:23.253153Z",
     "shell.execute_reply": "2024-02-19T08:13:23.251949Z"
    },
    "new_sheet": false,
    "papermill": {
     "duration": 0.041251,
     "end_time": "2024-02-19T08:13:23.256097",
     "exception": false,
     "start_time": "2024-02-19T08:13:23.214846",
     "status": "completed"
    },
    "run_control": {
     "read_only": false
    },
    "tags": []
   },
   "outputs": [],
   "source": [
    "# initialize the model\n",
    "k = 4\n",
    "knn = KNeighborsClassifier(n_neighbors = k)\n",
    "# train the model\n",
    "knn.fit(X_train, y_train)\n",
    "# make predictions\n",
    "predictions = knn.predict(X_test)"
   ]
  },
  {
   "cell_type": "markdown",
   "id": "865dc964",
   "metadata": {
    "button": false,
    "new_sheet": false,
    "papermill": {
     "duration": 0.011343,
     "end_time": "2024-02-19T08:13:23.279109",
     "exception": false,
     "start_time": "2024-02-19T08:13:23.267766",
     "status": "completed"
    },
    "run_control": {
     "read_only": false
    },
    "tags": []
   },
   "source": [
    "### Model evaluation\n",
    "\n",
    "In multilabel classification, **accuracy classification score** is a function that computes subset accuracy. This function is equal to the jaccard_score function. Essentially, it calculates how closely the actual labels and predicted labels are matched in the test set.\n"
   ]
  },
  {
   "cell_type": "code",
   "execution_count": 7,
   "id": "d7d82355",
   "metadata": {
    "execution": {
     "iopub.execute_input": "2024-02-19T08:13:23.305611Z",
     "iopub.status.busy": "2024-02-19T08:13:23.305026Z",
     "iopub.status.idle": "2024-02-19T08:13:23.323335Z",
     "shell.execute_reply": "2024-02-19T08:13:23.321590Z"
    },
    "papermill": {
     "duration": 0.034522,
     "end_time": "2024-02-19T08:13:23.326003",
     "exception": false,
     "start_time": "2024-02-19T08:13:23.291481",
     "status": "completed"
    },
    "tags": []
   },
   "outputs": [
    {
     "name": "stdout",
     "output_type": "stream",
     "text": [
      "[[29 12 14  5]\n",
      " [11  5 13 10]\n",
      " [20 11 17  7]\n",
      " [18  7  9 12]]\n",
      "              precision    recall  f1-score   support\n",
      "\n",
      "           1       0.37      0.48      0.42        60\n",
      "           2       0.14      0.13      0.14        39\n",
      "           3       0.32      0.31      0.31        55\n",
      "           4       0.35      0.26      0.30        46\n",
      "\n",
      "    accuracy                           0.32       200\n",
      "   macro avg       0.30      0.30      0.29       200\n",
      "weighted avg       0.31      0.32      0.31       200\n",
      "\n"
     ]
    }
   ],
   "source": [
    "print(confusion_matrix(y_test, predictions))\n",
    "print(classification_report(y_test, predictions))"
   ]
  },
  {
   "cell_type": "markdown",
   "id": "b0e8c3ad",
   "metadata": {
    "papermill": {
     "duration": 0.014348,
     "end_time": "2024-02-19T08:13:23.352234",
     "exception": false,
     "start_time": "2024-02-19T08:13:23.337886",
     "status": "completed"
    },
    "tags": []
   },
   "source": [
    "## Practice\n",
    "\n",
    "Can you build the model again, but this time with k=6?\n"
   ]
  },
  {
   "cell_type": "code",
   "execution_count": 8,
   "id": "669b2ca1",
   "metadata": {
    "execution": {
     "iopub.execute_input": "2024-02-19T08:13:23.385210Z",
     "iopub.status.busy": "2024-02-19T08:13:23.384773Z",
     "iopub.status.idle": "2024-02-19T08:13:23.423418Z",
     "shell.execute_reply": "2024-02-19T08:13:23.421774Z"
    },
    "papermill": {
     "duration": 0.061195,
     "end_time": "2024-02-19T08:13:23.426260",
     "exception": false,
     "start_time": "2024-02-19T08:13:23.365065",
     "status": "completed"
    },
    "tags": []
   },
   "outputs": [
    {
     "name": "stdout",
     "output_type": "stream",
     "text": [
      "[[30 11 16  3]\n",
      " [15  8  9  7]\n",
      " [20  8 19  8]\n",
      " [22  5 11  8]]\n",
      "              precision    recall  f1-score   support\n",
      "\n",
      "           1       0.34      0.50      0.41        60\n",
      "           2       0.25      0.21      0.23        39\n",
      "           3       0.35      0.35      0.35        55\n",
      "           4       0.31      0.17      0.22        46\n",
      "\n",
      "    accuracy                           0.33       200\n",
      "   macro avg       0.31      0.31      0.30       200\n",
      "weighted avg       0.32      0.33      0.31       200\n",
      "\n"
     ]
    }
   ],
   "source": [
    "# initialize the model\n",
    "k = 6\n",
    "knn = KNeighborsClassifier(n_neighbors = k)\n",
    "# train the model\n",
    "knn.fit(X_train, y_train)\n",
    "# make predictions\n",
    "predictions = knn.predict(X_test)\n",
    "\n",
    "print(confusion_matrix(y_test, predictions))\n",
    "print(classification_report(y_test, predictions))"
   ]
  },
  {
   "cell_type": "markdown",
   "id": "d4020fed",
   "metadata": {
    "button": false,
    "new_sheet": false,
    "papermill": {
     "duration": 0.012201,
     "end_time": "2024-02-19T08:13:23.450409",
     "exception": false,
     "start_time": "2024-02-19T08:13:23.438208",
     "status": "completed"
    },
    "run_control": {
     "read_only": false
    },
    "tags": []
   },
   "source": [
    "#### What about other K?\n",
    "\n",
    "K in KNN, is the number of nearest neighbors to examine. It is supposed to be specified by the user. So, how can we choose right value for K?\n",
    "The general solution is to reserve a part of your data for testing the accuracy of the model. Then choose k =1, use the training part for modeling, and calculate the accuracy of prediction using all samples in your test set. Repeat this process, increasing the k, and see which k is the best for your model.\n",
    "\n",
    "We can calculate the accuracy of KNN for different values of k.\n"
   ]
  },
  {
   "cell_type": "code",
   "execution_count": 9,
   "id": "4b28d1ec",
   "metadata": {
    "button": false,
    "execution": {
     "iopub.execute_input": "2024-02-19T08:13:23.478620Z",
     "iopub.status.busy": "2024-02-19T08:13:23.477959Z",
     "iopub.status.idle": "2024-02-19T08:13:23.665530Z",
     "shell.execute_reply": "2024-02-19T08:13:23.664560Z"
    },
    "new_sheet": false,
    "papermill": {
     "duration": 0.204836,
     "end_time": "2024-02-19T08:13:23.667990",
     "exception": false,
     "start_time": "2024-02-19T08:13:23.463154",
     "status": "completed"
    },
    "run_control": {
     "read_only": false
    },
    "tags": []
   },
   "outputs": [
    {
     "name": "stdout",
     "output_type": "stream",
     "text": [
      "accuracy per k value: [0.3   0.33  0.35  0.315 0.335 0.325 0.335 0.33  0.32 ]\n"
     ]
    }
   ],
   "source": [
    "# set the number of iterations for trying different k values in k-NN\n",
    "num_neighbors_to_try = 10\n",
    "\n",
    "# initialize arrays to hold the mean accuracy and the standard deviation of accuracy for each k value\n",
    "accuracy_per_k = np.zeros((num_neighbors_to_try - 1))\n",
    "std_accuracy_per_k = np.zeros((num_neighbors_to_try - 1))\n",
    "\n",
    "# loop over various values of k to find the k that gives the best accuracy\n",
    "for k in range(1, num_neighbors_to_try):\n",
    "    \n",
    "    # create and train the k-NN classifier with the current k value\n",
    "    knn = KNeighborsClassifier(n_neighbors=k)\n",
    "    knn.fit(X_train, y_train)\n",
    "    # predict the labels for the test set\n",
    "    predicted_labels = knn.predict(X_test)\n",
    "    \n",
    "    # calculate the accuracy of the predictions and store it\n",
    "    accuracy_per_k[k - 1] = accuracy_score(y_test, predicted_labels)\n",
    "    \n",
    "    # calculate the standard deviation of the accuracy and store it\n",
    "    std_accuracy_per_k[k - 1] = np.std(predicted_labels == y_test) / np.sqrt(predicted_labels.shape[0])\n",
    "\n",
    "# output the mean accuracy for each k value\n",
    "print(\"accuracy per k value:\", accuracy_per_k)"
   ]
  },
  {
   "cell_type": "markdown",
   "id": "14af0617",
   "metadata": {
    "button": false,
    "new_sheet": false,
    "papermill": {
     "duration": 0.011815,
     "end_time": "2024-02-19T08:13:23.692643",
     "exception": false,
     "start_time": "2024-02-19T08:13:23.680828",
     "status": "completed"
    },
    "run_control": {
     "read_only": false
    },
    "tags": []
   },
   "source": [
    "#### Plot the model accuracy for a different number of neighbors.\n"
   ]
  },
  {
   "cell_type": "code",
   "execution_count": 10,
   "id": "96b86e11",
   "metadata": {
    "button": false,
    "execution": {
     "iopub.execute_input": "2024-02-19T08:13:23.719329Z",
     "iopub.status.busy": "2024-02-19T08:13:23.718646Z",
     "iopub.status.idle": "2024-02-19T08:13:24.052445Z",
     "shell.execute_reply": "2024-02-19T08:13:24.051220Z"
    },
    "new_sheet": false,
    "papermill": {
     "duration": 0.350636,
     "end_time": "2024-02-19T08:13:24.055439",
     "exception": false,
     "start_time": "2024-02-19T08:13:23.704803",
     "status": "completed"
    },
    "run_control": {
     "read_only": false
    },
    "tags": []
   },
   "outputs": [
    {
     "data": {
      "image/png": "[encoded data removed]",
      "text/plain": [
       "<Figure size 640x480 with 1 Axes>"
      ]
     },
     "metadata": {},
     "output_type": "display_data"
    }
   ],
   "source": [
    "# define the range of k values\n",
    "k_range = range(1, num_neighbors_to_try)\n",
    "# plot the mean accuracy in green\n",
    "plt.plot(k_range, accuracy_per_k, 'g')\n",
    "# fill the area between the mean accuracy +/- 1 standard deviation\n",
    "plt.fill_between(k_range, accuracy_per_k - std_accuracy_per_k, accuracy_per_k + std_accuracy_per_k, \n",
    "                 alpha=0.10, color='lightgreen')\n",
    "# fill the area between the mean accuracy +/- 3 standard deviations\n",
    "plt.fill_between(k_range, accuracy_per_k - 3 * std_accuracy_per_k, accuracy_per_k + 3 * std_accuracy_per_k, \n",
    "                 alpha=0.10, color='green')\n",
    "# add a legend, labels, and a title for context\n",
    "plt.legend(('Accuracy', '+/- 1xstd', '+/- 3xstd'))\n",
    "plt.ylabel('Accuracy')\n",
    "plt.xlabel('Number of Neighbors (K)')\n",
    "plt.title('k-NN Accuracy with Varying Number of Neighbors')\n",
    "plt.tight_layout()\n",
    "plt.show()"
   ]
  },
  {
   "cell_type": "code",
   "execution_count": 11,
   "id": "62cc0b2e",
   "metadata": {
    "button": false,
    "execution": {
     "iopub.execute_input": "2024-02-19T08:13:24.085437Z",
     "iopub.status.busy": "2024-02-19T08:13:24.084759Z",
     "iopub.status.idle": "2024-02-19T08:13:24.091239Z",
     "shell.execute_reply": "2024-02-19T08:13:24.090038Z"
    },
    "new_sheet": false,
    "papermill": {
     "duration": 0.023853,
     "end_time": "2024-02-19T08:13:24.093548",
     "exception": false,
     "start_time": "2024-02-19T08:13:24.069695",
     "status": "completed"
    },
    "run_control": {
     "read_only": false
    },
    "tags": []
   },
   "outputs": [
    {
     "name": "stdout",
     "output_type": "stream",
     "text": [
      "The best accuracy was with 0.35 with k= 3\n"
     ]
    }
   ],
   "source": [
    "print( \"The best accuracy was with\", accuracy_per_k.max(), \"with k=\", accuracy_per_k.argmax()+1) "
   ]
  },
  {
   "cell_type": "markdown",
   "id": "685aea37",
   "metadata": {
    "button": false,
    "new_sheet": false,
    "papermill": {
     "duration": 0.012653,
     "end_time": "2024-02-19T08:13:24.119046",
     "exception": false,
     "start_time": "2024-02-19T08:13:24.106393",
     "status": "completed"
    },
    "run_control": {
     "read_only": false
    },
    "tags": []
   },
   "source": [
    "<h2>Want to learn more?</h2>\n",
    "\n",
    "IBM SPSS Modeler is a comprehensive analytics platform that has many machine learning algorithms. It has been designed to bring predictive intelligence to decisions made by individuals, by groups, by systems – by your enterprise as a whole. A free trial is available through this course, available here: <a href=\"https://www.ibm.com/analytics/spss-statistics-software?utm_medium=Exinfluencer&utm_source=Exinfluencer&utm_content=000026UJ&utm_term=10006555&utm_id=NA-SkillsNetwork-Channel-SkillsNetworkCoursesIBMDeveloperSkillsNetworkML0101ENSkillsNetwork20718538-2022-01-01\">SPSS Modeler</a>\n",
    "\n",
    "Also, you can use Watson Studio to run these notebooks faster with bigger datasets. Watson Studio is IBM's leading cloud solution for data scientists, built by data scientists. With Jupyter notebooks, RStudio, Apache Spark and popular libraries pre-packaged in the cloud, Watson Studio enables data scientists to collaborate on their projects without having to install anything. Join the fast-growing community of Watson Studio users today with a free account at <a href=\"https://www.ibm.com/cloud/watson-studio?utm_medium=Exinfluencer&utm_source=Exinfluencer&utm_content=000026UJ&utm_term=10006555&utm_id=NA-SkillsNetwork-Channel-SkillsNetworkCoursesIBMDeveloperSkillsNetworkML0101ENSkillsNetwork20718538-2022-01-01\">Watson Studio</a>\n"
   ]
  }
 ],
 "metadata": {
  "kaggle": {
   "accelerator": "none",
   "dataSources": [],
   "dockerImageVersionId": 30646,
   "isGpuEnabled": false,
   "isInternetEnabled": true,
   "language": "python",
   "sourceType": "notebook"
  },
  "kernelspec": {
   "display_name": "Python 3",
   "language": "python",
   "name": "python3"
  },
  "language_info": {
   "codemirror_mode": {
    "name": "ipython",
    "version": 3
   },
   "file_extension": ".py",
   "mimetype": "text/x-python",
   "name": "python",
   "nbconvert_exporter": "python",
   "pygments_lexer": "ipython3",
   "version": "3.10.13"
  },
  "papermill": {
   "default_parameters": {},
   "duration": 11.430437,
   "end_time": "2024-02-19T08:13:24.855875",
   "environment_variables": {},
   "exception": null,
   "input_path": "__notebook__.ipynb",
   "output_path": "__notebook__.ipynb",
   "parameters": {},
   "start_time": "2024-02-19T08:13:13.425438",
   "version": "2.5.0"
  }
 },
 "nbformat": 4,
 "nbformat_minor": 5
}
