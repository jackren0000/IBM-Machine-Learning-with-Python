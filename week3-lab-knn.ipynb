{
 "cells": [
  {
   "cell_type": "markdown",
   "id": "a2cf26ba",
   "metadata": {
    "papermill": {
     "duration": 0.007367,
     "end_time": "2024-02-19T09:02:08.285924",
     "exception": false,
     "start_time": "2024-02-19T09:02:08.278557",
     "status": "completed"
    },
    "tags": []
   },
   "source": [
    "<p style=\"text-align:center\">\n",
    "    <a href=\"https://skills.network/?utm_medium=Exinfluencer&utm_source=Exinfluencer&utm_content=000026UJ&utm_term=10006555&utm_id=NA-SkillsNetwork-Channel-SkillsNetworkCoursesIBMDeveloperSkillsNetworkML0101ENSkillsNetwork20718538-2022-01-01\" target=\"_blank\">\n",
    "    <img src=\"https://cf-courses-data.s3.us.cloud-object-storage.appdomain.cloud/assets/logos/SN_web_lightmode.png\" width=\"200\" alt=\"Skills Network Logo\">\n",
    "    </a>\n",
    "</p>\n",
    "\n",
    "# Decision Trees\n",
    "\n",
    "Estimated time needed: **15** minutes\n",
    "\n",
    "## Objectives\n",
    "\n",
    "After completing this lab you will be able to:\n",
    "\n",
    "*   Develop a classification model using Decision Tree Algorithm\n"
   ]
  },
  {
   "cell_type": "markdown",
   "id": "0ec33985",
   "metadata": {
    "papermill": {
     "duration": 0.006406,
     "end_time": "2024-02-19T09:02:08.299363",
     "exception": false,
     "start_time": "2024-02-19T09:02:08.292957",
     "status": "completed"
    },
    "tags": []
   },
   "source": [
    "In this lab exercise, you will learn a popular machine learning algorithm, Decision Trees. You will use this classification algorithm to build a model from the historical data of patients, and their response to different medications. Then you will use the trained decision tree to predict the class of an unknown patient, or to find a proper drug for a new patient.\n"
   ]
  },
  {
   "cell_type": "code",
   "execution_count": 1,
   "id": "65fb1cc6",
   "metadata": {
    "execution": {
     "iopub.execute_input": "2024-02-19T09:02:08.315226Z",
     "iopub.status.busy": "2024-02-19T09:02:08.314479Z",
     "iopub.status.idle": "2024-02-19T09:02:11.026748Z",
     "shell.execute_reply": "2024-02-19T09:02:11.025575Z"
    },
    "papermill": {
     "duration": 2.72349,
     "end_time": "2024-02-19T09:02:11.029663",
     "exception": false,
     "start_time": "2024-02-19T09:02:08.306173",
     "status": "completed"
    },
    "tags": []
   },
   "outputs": [],
   "source": [
    "#### import the libraries\n",
    "import os\n",
    "import numpy as np \n",
    "import pandas as pd\n",
    "# import decision tree class from scikit learn\n",
    "from sklearn.tree import DecisionTreeClassifier\n",
    "from sklearn.model_selection import train_test_split\n",
    "from sklearn.metrics import accuracy_score, confusion_matrix, classification_report\n",
    "# the module used to visualize the decision tree\n",
    "from sklearn.tree import export_graphviz"
   ]
  },
  {
   "cell_type": "markdown",
   "id": "2912206c",
   "metadata": {
    "papermill": {
     "duration": 0.006797,
     "end_time": "2024-02-19T09:02:11.043478",
     "exception": false,
     "start_time": "2024-02-19T09:02:11.036681",
     "status": "completed"
    },
    "tags": []
   },
   "source": [
    "<div id=\"about_dataset\">\n",
    "    <h2>About the dataset</h2>\n",
    "    Imagine that you are a medical researcher compiling data for a study. You have collected data about a set of patients, all of whom suffered from the same illness. During their course of treatment, each patient responded to one of 5 medications, Drug A, Drug B, Drug c, Drug x and y. \n",
    "    <br>\n",
    "    <br>\n",
    "    Part of your job is to build a model to find out which drug might be appropriate for a future patient with the same illness. The features of this dataset are Age, Sex, Blood Pressure, and the Cholesterol of the patients, and the target is the drug that each patient responded to.\n",
    "    <br>\n",
    "    <br>\n",
    "    It is a sample of multiclass classifier, and you can use the training part of the dataset \n",
    "    to build a decision tree, and then use it to predict the class of an unknown patient, or to prescribe a drug to a new patient.\n",
    "</div>\n"
   ]
  },
  {
   "cell_type": "markdown",
   "id": "bed5885f",
   "metadata": {
    "papermill": {
     "duration": 0.006672,
     "end_time": "2024-02-19T09:02:11.057149",
     "exception": false,
     "start_time": "2024-02-19T09:02:11.050477",
     "status": "completed"
    },
    "tags": []
   },
   "source": [
    "## Data Collection"
   ]
  },
  {
   "cell_type": "code",
   "execution_count": 2,
   "id": "b6d01896",
   "metadata": {
    "execution": {
     "iopub.execute_input": "2024-02-19T09:02:11.073563Z",
     "iopub.status.busy": "2024-02-19T09:02:11.072948Z",
     "iopub.status.idle": "2024-02-19T09:02:12.536599Z",
     "shell.execute_reply": "2024-02-19T09:02:12.535448Z"
    },
    "papermill": {
     "duration": 1.474998,
     "end_time": "2024-02-19T09:02:12.539518",
     "exception": false,
     "start_time": "2024-02-19T09:02:11.064520",
     "status": "completed"
    },
    "tags": []
   },
   "outputs": [
    {
     "name": "stdout",
     "output_type": "stream",
     "text": [
      "--2024-02-19 09:02:12--  https://cf-courses-data.s3.us.cloud-object-storage.appdomain.cloud/IBMDeveloperSkillsNetwork-ML0101EN-SkillsNetwork/labs/Module%203/data/drug200.csv\r\n",
      "Resolving cf-courses-data.s3.us.cloud-object-storage.appdomain.cloud (cf-courses-data.s3.us.cloud-object-storage.appdomain.cloud)... 169.63.118.104\r\n",
      "Connecting to cf-courses-data.s3.us.cloud-object-storage.appdomain.cloud (cf-courses-data.s3.us.cloud-object-storage.appdomain.cloud)|169.63.118.104|:443... connected.\r\n",
      "HTTP request sent, awaiting response... 200 OK\r\n",
      "Length: 5827 (5.7K) [text/csv]\r\n",
      "Saving to: 'drug200.csv'\r\n",
      "\r\n",
      "drug200.csv         100%[===================>]   5.69K  --.-KB/s    in 0s      \r\n",
      "\r\n",
      "2024-02-19 09:02:12 (493 MB/s) - 'drug200.csv' saved [5827/5827]\r\n",
      "\r\n"
     ]
    }
   ],
   "source": [
    "!wget https://cf-courses-data.s3.us.cloud-object-storage.appdomain.cloud/IBMDeveloperSkillsNetwork-ML0101EN-SkillsNetwork/labs/Module%203/data/drug200.csv"
   ]
  },
  {
   "cell_type": "markdown",
   "id": "cc132d57",
   "metadata": {
    "papermill": {
     "duration": 0.007069,
     "end_time": "2024-02-19T09:02:12.554129",
     "exception": false,
     "start_time": "2024-02-19T09:02:12.547060",
     "status": "completed"
    },
    "tags": []
   },
   "source": [
    "## Data Exploration"
   ]
  },
  {
   "cell_type": "code",
   "execution_count": 3,
   "id": "47208b09",
   "metadata": {
    "execution": {
     "iopub.execute_input": "2024-02-19T09:02:12.571249Z",
     "iopub.status.busy": "2024-02-19T09:02:12.570837Z",
     "iopub.status.idle": "2024-02-19T09:02:12.748037Z",
     "shell.execute_reply": "2024-02-19T09:02:12.746851Z"
    },
    "papermill": {
     "duration": 0.188943,
     "end_time": "2024-02-19T09:02:12.750481",
     "exception": false,
     "start_time": "2024-02-19T09:02:12.561538",
     "status": "completed"
    },
    "tags": []
   },
   "outputs": [
    {
     "name": "stdout",
     "output_type": "stream",
     "text": [
      "<class 'pandas.core.frame.DataFrame'>\n",
      "RangeIndex: 200 entries, 0 to 199\n",
      "Data columns (total 6 columns):\n",
      " #   Column       Non-Null Count  Dtype  \n",
      "---  ------       --------------  -----  \n",
      " 0   Age          200 non-null    int64  \n",
      " 1   Sex          200 non-null    object \n",
      " 2   BP           200 non-null    object \n",
      " 3   Cholesterol  200 non-null    object \n",
      " 4   Na_to_K      200 non-null    float64\n",
      " 5   Drug         200 non-null    object \n",
      "dtypes: float64(1), int64(1), object(4)\n",
      "memory usage: 9.5+ KB\n"
     ]
    },
    {
     "data": {
      "text/plain": [
       "None"
      ]
     },
     "metadata": {},
     "output_type": "display_data"
    },
    {
     "data": {
      "text/html": [
       "<div>\n",
       "<style scoped>\n",
       "    .dataframe tbody tr th:only-of-type {\n",
       "        vertical-align: middle;\n",
       "    }\n",
       "\n",
       "    .dataframe tbody tr th {\n",
       "        vertical-align: top;\n",
       "    }\n",
       "\n",
       "    .dataframe thead th {\n",
       "        text-align: right;\n",
       "    }\n",
       "</style>\n",
       "<table border=\"1\" class=\"dataframe\">\n",
       "  <thead>\n",
       "    <tr style=\"text-align: right;\">\n",
       "      <th></th>\n",
       "      <th>Age</th>\n",
       "      <th>Sex</th>\n",
       "      <th>BP</th>\n",
       "      <th>Cholesterol</th>\n",
       "      <th>Na_to_K</th>\n",
       "      <th>Drug</th>\n",
       "    </tr>\n",
       "  </thead>\n",
       "  <tbody>\n",
       "    <tr>\n",
       "      <th>0</th>\n",
       "      <td>23</td>\n",
       "      <td>F</td>\n",
       "      <td>HIGH</td>\n",
       "      <td>HIGH</td>\n",
       "      <td>25.355</td>\n",
       "      <td>drugY</td>\n",
       "    </tr>\n",
       "    <tr>\n",
       "      <th>1</th>\n",
       "      <td>47</td>\n",
       "      <td>M</td>\n",
       "      <td>LOW</td>\n",
       "      <td>HIGH</td>\n",
       "      <td>13.093</td>\n",
       "      <td>drugC</td>\n",
       "    </tr>\n",
       "    <tr>\n",
       "      <th>2</th>\n",
       "      <td>47</td>\n",
       "      <td>M</td>\n",
       "      <td>LOW</td>\n",
       "      <td>HIGH</td>\n",
       "      <td>10.114</td>\n",
       "      <td>drugC</td>\n",
       "    </tr>\n",
       "    <tr>\n",
       "      <th>3</th>\n",
       "      <td>28</td>\n",
       "      <td>F</td>\n",
       "      <td>NORMAL</td>\n",
       "      <td>HIGH</td>\n",
       "      <td>7.798</td>\n",
       "      <td>drugX</td>\n",
       "    </tr>\n",
       "    <tr>\n",
       "      <th>4</th>\n",
       "      <td>61</td>\n",
       "      <td>F</td>\n",
       "      <td>LOW</td>\n",
       "      <td>HIGH</td>\n",
       "      <td>18.043</td>\n",
       "      <td>drugY</td>\n",
       "    </tr>\n",
       "  </tbody>\n",
       "</table>\n",
       "</div>"
      ],
      "text/plain": [
       "   Age Sex      BP Cholesterol  Na_to_K   Drug\n",
       "0   23   F    HIGH        HIGH   25.355  drugY\n",
       "1   47   M     LOW        HIGH   13.093  drugC\n",
       "2   47   M     LOW        HIGH   10.114  drugC\n",
       "3   28   F  NORMAL        HIGH    7.798  drugX\n",
       "4   61   F     LOW        HIGH   18.043  drugY"
      ]
     },
     "metadata": {},
     "output_type": "display_data"
    },
    {
     "data": {
      "text/html": [
       "<div>\n",
       "<style scoped>\n",
       "    .dataframe tbody tr th:only-of-type {\n",
       "        vertical-align: middle;\n",
       "    }\n",
       "\n",
       "    .dataframe tbody tr th {\n",
       "        vertical-align: top;\n",
       "    }\n",
       "\n",
       "    .dataframe thead th {\n",
       "        text-align: right;\n",
       "    }\n",
       "</style>\n",
       "<table border=\"1\" class=\"dataframe\">\n",
       "  <thead>\n",
       "    <tr style=\"text-align: right;\">\n",
       "      <th></th>\n",
       "      <th>Age</th>\n",
       "      <th>Na_to_K</th>\n",
       "    </tr>\n",
       "  </thead>\n",
       "  <tbody>\n",
       "    <tr>\n",
       "      <th>count</th>\n",
       "      <td>200.000000</td>\n",
       "      <td>200.000000</td>\n",
       "    </tr>\n",
       "    <tr>\n",
       "      <th>mean</th>\n",
       "      <td>44.315000</td>\n",
       "      <td>16.084485</td>\n",
       "    </tr>\n",
       "    <tr>\n",
       "      <th>std</th>\n",
       "      <td>16.544315</td>\n",
       "      <td>7.223956</td>\n",
       "    </tr>\n",
       "    <tr>\n",
       "      <th>min</th>\n",
       "      <td>15.000000</td>\n",
       "      <td>6.269000</td>\n",
       "    </tr>\n",
       "    <tr>\n",
       "      <th>25%</th>\n",
       "      <td>31.000000</td>\n",
       "      <td>10.445500</td>\n",
       "    </tr>\n",
       "    <tr>\n",
       "      <th>50%</th>\n",
       "      <td>45.000000</td>\n",
       "      <td>13.936500</td>\n",
       "    </tr>\n",
       "    <tr>\n",
       "      <th>75%</th>\n",
       "      <td>58.000000</td>\n",
       "      <td>19.380000</td>\n",
       "    </tr>\n",
       "    <tr>\n",
       "      <th>max</th>\n",
       "      <td>74.000000</td>\n",
       "      <td>38.247000</td>\n",
       "    </tr>\n",
       "  </tbody>\n",
       "</table>\n",
       "</div>"
      ],
      "text/plain": [
       "              Age     Na_to_K\n",
       "count  200.000000  200.000000\n",
       "mean    44.315000   16.084485\n",
       "std     16.544315    7.223956\n",
       "min     15.000000    6.269000\n",
       "25%     31.000000   10.445500\n",
       "50%     45.000000   13.936500\n",
       "75%     58.000000   19.380000\n",
       "max     74.000000   38.247000"
      ]
     },
     "metadata": {},
     "output_type": "display_data"
    }
   ],
   "source": [
    "#### data exploration\n",
    "df = pd.read_csv('drug200.csv')\n",
    "# gain insights of the data\n",
    "display(df.info())\n",
    "display(df.head())\n",
    "display(df.describe())"
   ]
  },
  {
   "cell_type": "markdown",
   "id": "694d4fd0",
   "metadata": {
    "papermill": {
     "duration": 0.00812,
     "end_time": "2024-02-19T09:02:12.766848",
     "exception": false,
     "start_time": "2024-02-19T09:02:12.758728",
     "status": "completed"
    },
    "tags": []
   },
   "source": [
    "## Data Preprocessing"
   ]
  },
  {
   "cell_type": "markdown",
   "id": "5ed9bad4",
   "metadata": {
    "papermill": {
     "duration": 0.007819,
     "end_time": "2024-02-19T09:02:12.782856",
     "exception": false,
     "start_time": "2024-02-19T09:02:12.775037",
     "status": "completed"
    },
    "tags": []
   },
   "source": [
    "As you may figure out, some features in this dataset are categorical, such as **Sex** or **BP**. Unfortunately, Sklearn Decision Trees does not handle categorical variables. We can still convert these features to numerical values.\n"
   ]
  },
  {
   "cell_type": "code",
   "execution_count": 4,
   "id": "4ba4aaef",
   "metadata": {
    "execution": {
     "iopub.execute_input": "2024-02-19T09:02:12.802561Z",
     "iopub.status.busy": "2024-02-19T09:02:12.802167Z",
     "iopub.status.idle": "2024-02-19T09:02:12.828507Z",
     "shell.execute_reply": "2024-02-19T09:02:12.827365Z"
    },
    "papermill": {
     "duration": 0.039095,
     "end_time": "2024-02-19T09:02:12.830798",
     "exception": false,
     "start_time": "2024-02-19T09:02:12.791703",
     "status": "completed"
    },
    "tags": []
   },
   "outputs": [
    {
     "data": {
      "text/html": [
       "<div>\n",
       "<style scoped>\n",
       "    .dataframe tbody tr th:only-of-type {\n",
       "        vertical-align: middle;\n",
       "    }\n",
       "\n",
       "    .dataframe tbody tr th {\n",
       "        vertical-align: top;\n",
       "    }\n",
       "\n",
       "    .dataframe thead th {\n",
       "        text-align: right;\n",
       "    }\n",
       "</style>\n",
       "<table border=\"1\" class=\"dataframe\">\n",
       "  <thead>\n",
       "    <tr style=\"text-align: right;\">\n",
       "      <th></th>\n",
       "      <th>Age</th>\n",
       "      <th>Na_to_K</th>\n",
       "      <th>Sex_F</th>\n",
       "      <th>Sex_M</th>\n",
       "      <th>BP_HIGH</th>\n",
       "      <th>BP_LOW</th>\n",
       "      <th>BP_NORMAL</th>\n",
       "      <th>Cholesterol_HIGH</th>\n",
       "      <th>Cholesterol_NORMAL</th>\n",
       "    </tr>\n",
       "  </thead>\n",
       "  <tbody>\n",
       "    <tr>\n",
       "      <th>0</th>\n",
       "      <td>23</td>\n",
       "      <td>25.355</td>\n",
       "      <td>True</td>\n",
       "      <td>False</td>\n",
       "      <td>True</td>\n",
       "      <td>False</td>\n",
       "      <td>False</td>\n",
       "      <td>True</td>\n",
       "      <td>False</td>\n",
       "    </tr>\n",
       "    <tr>\n",
       "      <th>1</th>\n",
       "      <td>47</td>\n",
       "      <td>13.093</td>\n",
       "      <td>False</td>\n",
       "      <td>True</td>\n",
       "      <td>False</td>\n",
       "      <td>True</td>\n",
       "      <td>False</td>\n",
       "      <td>True</td>\n",
       "      <td>False</td>\n",
       "    </tr>\n",
       "    <tr>\n",
       "      <th>2</th>\n",
       "      <td>47</td>\n",
       "      <td>10.114</td>\n",
       "      <td>False</td>\n",
       "      <td>True</td>\n",
       "      <td>False</td>\n",
       "      <td>True</td>\n",
       "      <td>False</td>\n",
       "      <td>True</td>\n",
       "      <td>False</td>\n",
       "    </tr>\n",
       "    <tr>\n",
       "      <th>3</th>\n",
       "      <td>28</td>\n",
       "      <td>7.798</td>\n",
       "      <td>True</td>\n",
       "      <td>False</td>\n",
       "      <td>False</td>\n",
       "      <td>False</td>\n",
       "      <td>True</td>\n",
       "      <td>True</td>\n",
       "      <td>False</td>\n",
       "    </tr>\n",
       "    <tr>\n",
       "      <th>4</th>\n",
       "      <td>61</td>\n",
       "      <td>18.043</td>\n",
       "      <td>True</td>\n",
       "      <td>False</td>\n",
       "      <td>False</td>\n",
       "      <td>True</td>\n",
       "      <td>False</td>\n",
       "      <td>True</td>\n",
       "      <td>False</td>\n",
       "    </tr>\n",
       "  </tbody>\n",
       "</table>\n",
       "</div>"
      ],
      "text/plain": [
       "   Age  Na_to_K  Sex_F  Sex_M  BP_HIGH  BP_LOW  BP_NORMAL  Cholesterol_HIGH  \\\n",
       "0   23   25.355   True  False     True   False      False              True   \n",
       "1   47   13.093  False   True    False    True      False              True   \n",
       "2   47   10.114  False   True    False    True      False              True   \n",
       "3   28    7.798   True  False    False   False       True              True   \n",
       "4   61   18.043   True  False    False    True      False              True   \n",
       "\n",
       "   Cholesterol_NORMAL  \n",
       "0               False  \n",
       "1               False  \n",
       "2               False  \n",
       "3               False  \n",
       "4               False  "
      ]
     },
     "metadata": {},
     "output_type": "display_data"
    }
   ],
   "source": [
    "X = df.drop(['Drug'], axis=1)\n",
    "y = df['Drug']\n",
    "\n",
    "# use pd.get_dummies to perform one-hot encoding\n",
    "X = pd.get_dummies(X, columns=['Sex', 'BP', 'Cholesterol'])\n",
    "\n",
    "# display the first 5 rows of the encoded DataFrame\n",
    "display(X.head())"
   ]
  },
  {
   "cell_type": "markdown",
   "id": "8d667ddc",
   "metadata": {
    "papermill": {
     "duration": 0.008455,
     "end_time": "2024-02-19T09:02:12.848437",
     "exception": false,
     "start_time": "2024-02-19T09:02:12.839982",
     "status": "completed"
    },
    "tags": []
   },
   "source": [
    "\n",
    "<div id=\"setting_up_tree\">\n",
    "    <h2>Setting up the Decision Tree</h2>\n",
    "    We will be using <b>train/test split</b> on our <b>decision tree</b>. Let's import <b>train_test_split</b> from <b>sklearn.cross_validation</b>.\n",
    "</div>\n"
   ]
  },
  {
   "cell_type": "markdown",
   "id": "db3c1400",
   "metadata": {
    "papermill": {
     "duration": 0.008103,
     "end_time": "2024-02-19T09:02:12.865939",
     "exception": false,
     "start_time": "2024-02-19T09:02:12.857836",
     "status": "completed"
    },
    "tags": []
   },
   "source": [
    "Now <b> train_test_split </b> will return 4 different parameters. We will name them:<br>\n",
    "X_trainset, X_testset, y_trainset, y_testset <br> <br>\n",
    "The <b> train_test_split </b> will need the parameters: <br>\n",
    "X, y, test_size=0.3, and random_state=3. <br> <br>\n",
    "The <b>X</b> and <b>y</b> are the arrays required before the split, the <b>test_size</b> represents the ratio of the testing dataset, and the <b>random_state</b> ensures that we obtain the same splits.\n"
   ]
  },
  {
   "cell_type": "code",
   "execution_count": 5,
   "id": "316be1bb",
   "metadata": {
    "execution": {
     "iopub.execute_input": "2024-02-19T09:02:12.884694Z",
     "iopub.status.busy": "2024-02-19T09:02:12.884261Z",
     "iopub.status.idle": "2024-02-19T09:02:12.892961Z",
     "shell.execute_reply": "2024-02-19T09:02:12.891635Z"
    },
    "papermill": {
     "duration": 0.020925,
     "end_time": "2024-02-19T09:02:12.895321",
     "exception": false,
     "start_time": "2024-02-19T09:02:12.874396",
     "status": "completed"
    },
    "tags": []
   },
   "outputs": [],
   "source": [
    "X_train, X_test, y_train, y_test = train_test_split(X, y, test_size=0.3, random_state=42)"
   ]
  },
  {
   "cell_type": "markdown",
   "id": "eb4c6886",
   "metadata": {
    "papermill": {
     "duration": 0.008315,
     "end_time": "2024-02-19T09:02:12.912136",
     "exception": false,
     "start_time": "2024-02-19T09:02:12.903821",
     "status": "completed"
    },
    "tags": []
   },
   "source": [
    "## Data Modeling\n",
    "We will first create an instance of the DecisionTreeClassifier called drugTree.\n",
    "Inside of the classifier, specify criterion=\"entropy\" so we can see the information gain of each node."
   ]
  },
  {
   "cell_type": "code",
   "execution_count": 6,
   "id": "70be8001",
   "metadata": {
    "execution": {
     "iopub.execute_input": "2024-02-19T09:02:12.930964Z",
     "iopub.status.busy": "2024-02-19T09:02:12.930511Z",
     "iopub.status.idle": "2024-02-19T09:02:12.946157Z",
     "shell.execute_reply": "2024-02-19T09:02:12.944918Z"
    },
    "papermill": {
     "duration": 0.027996,
     "end_time": "2024-02-19T09:02:12.948647",
     "exception": false,
     "start_time": "2024-02-19T09:02:12.920651",
     "status": "completed"
    },
    "tags": []
   },
   "outputs": [],
   "source": [
    "# initialize the model\n",
    "# criterion=\"entropy\": this parameter specifies the function used to measure the quality of a split in the decision tree\n",
    "# max_depth=4: This parameter controls the maximum depth of the tree\n",
    "clf = DecisionTreeClassifier(criterion=\"entropy\", max_depth=4, random_state=42)\n",
    "# train the model\n",
    "clf.fit(X_train, y_train)\n",
    "# make the predictions\n",
    "y_pred = clf.predict(X_test)"
   ]
  },
  {
   "cell_type": "markdown",
   "id": "fb0544aa",
   "metadata": {
    "papermill": {
     "duration": 0.008323,
     "end_time": "2024-02-19T09:02:12.965492",
     "exception": false,
     "start_time": "2024-02-19T09:02:12.957169",
     "status": "completed"
    },
    "tags": []
   },
   "source": [
    "## Model Evaluation\n",
    "Next, we can use several metrics from the sklearn.metrics module to evaluate the model performance.\n"
   ]
  },
  {
   "cell_type": "code",
   "execution_count": 7,
   "id": "e2c71cca",
   "metadata": {
    "execution": {
     "iopub.execute_input": "2024-02-19T09:02:12.984521Z",
     "iopub.status.busy": "2024-02-19T09:02:12.984135Z",
     "iopub.status.idle": "2024-02-19T09:02:13.002769Z",
     "shell.execute_reply": "2024-02-19T09:02:13.001557Z"
    },
    "papermill": {
     "duration": 0.031478,
     "end_time": "2024-02-19T09:02:13.005548",
     "exception": false,
     "start_time": "2024-02-19T09:02:12.974070",
     "status": "completed"
    },
    "tags": []
   },
   "outputs": [
    {
     "name": "stdout",
     "output_type": "stream",
     "text": [
      "Confusion Matrix:\n",
      "[[ 7  0  0  0  0]\n",
      " [ 0  3  0  0  0]\n",
      " [ 0  0  6  0  0]\n",
      " [ 0  0  0 18  0]\n",
      " [ 0  0  0  0 26]]\n",
      "\n",
      "Classification Report:\n",
      "              precision    recall  f1-score   support\n",
      "\n",
      "       drugA       1.00      1.00      1.00         7\n",
      "       drugB       1.00      1.00      1.00         3\n",
      "       drugC       1.00      1.00      1.00         6\n",
      "       drugX       1.00      1.00      1.00        18\n",
      "       drugY       1.00      1.00      1.00        26\n",
      "\n",
      "    accuracy                           1.00        60\n",
      "   macro avg       1.00      1.00      1.00        60\n",
      "weighted avg       1.00      1.00      1.00        60\n",
      "\n"
     ]
    }
   ],
   "source": [
    "# calculate the confusion matrix\n",
    "conf_matrix = confusion_matrix(y_test, y_pred)\n",
    "print(\"Confusion Matrix:\")\n",
    "print(conf_matrix)\n",
    "\n",
    "# print classification report\n",
    "print(\"\\nClassification Report:\")\n",
    "print(classification_report(y_test, y_pred))"
   ]
  },
  {
   "cell_type": "markdown",
   "id": "5836cb3b",
   "metadata": {
    "papermill": {
     "duration": 0.008351,
     "end_time": "2024-02-19T09:02:13.022893",
     "exception": false,
     "start_time": "2024-02-19T09:02:13.014542",
     "status": "completed"
    },
    "tags": []
   },
   "source": [
    "**Accuracy classification score** computes subset accuracy: the set of labels predicted for a sample must exactly match the corresponding set of labels in y_true.\n",
    "\n",
    "In multilabel classification, the function returns the subset accuracy. If the entire set of predicted labels for a sample strictly matches with the true set of labels, then the subset accuracy is 1.0; otherwise it is 0.0.\n"
   ]
  },
  {
   "cell_type": "markdown",
   "id": "8eaafd1e",
   "metadata": {
    "papermill": {
     "duration": 0.008412,
     "end_time": "2024-02-19T09:02:13.039911",
     "exception": false,
     "start_time": "2024-02-19T09:02:13.031499",
     "status": "completed"
    },
    "tags": []
   },
   "source": [
    "<hr>\n",
    "\n",
    "<div id=\"visualization\">\n",
    "    <h2>Visualization</h2>\n",
    "\n",
    "Let's visualize the tree\n",
    "\n",
    "</div>\n"
   ]
  },
  {
   "cell_type": "code",
   "execution_count": 8,
   "id": "5aa3dd49",
   "metadata": {
    "execution": {
     "iopub.execute_input": "2024-02-19T09:02:13.058745Z",
     "iopub.status.busy": "2024-02-19T09:02:13.058312Z",
     "iopub.status.idle": "2024-02-19T09:02:14.494224Z",
     "shell.execute_reply": "2024-02-19T09:02:14.492603Z"
    },
    "papermill": {
     "duration": 1.449152,
     "end_time": "2024-02-19T09:02:14.497602",
     "exception": false,
     "start_time": "2024-02-19T09:02:13.048450",
     "status": "completed"
    },
    "tags": []
   },
   "outputs": [],
   "source": [
    "# get the list of feature names used for training from the DataFrame (excluding the target variable 'Drug')\n",
    "feature_names_for_tree = X.columns.tolist()\n",
    "\n",
    "# Now export the decision tree, using the correct number of feature names\n",
    "export_graphviz(clf, out_file='tree.dot', filled=True, feature_names=feature_names_for_tree)\n",
    "\n",
    "# convert the .dot file to .png using a shell command\n",
    "!dot -Tpng tree.dot -o tree.png"
   ]
  },
  {
   "cell_type": "code",
   "execution_count": 9,
   "id": "2c967564",
   "metadata": {
    "execution": {
     "iopub.execute_input": "2024-02-19T09:02:14.517873Z",
     "iopub.status.busy": "2024-02-19T09:02:14.517360Z",
     "iopub.status.idle": "2024-02-19T09:02:14.532819Z",
     "shell.execute_reply": "2024-02-19T09:02:14.531706Z"
    },
    "papermill": {
     "duration": 0.029118,
     "end_time": "2024-02-19T09:02:14.535928",
     "exception": false,
     "start_time": "2024-02-19T09:02:14.506810",
     "status": "completed"
    },
    "tags": []
   },
   "outputs": [
    {
     "data": {
      "image/png": "[encoded data removed]",
      "text/plain": [
       "<IPython.core.display.Image object>"
      ]
     },
     "execution_count": 9,
     "metadata": {},
     "output_type": "execute_result"
    }
   ],
   "source": [
    "# display the decision tree\n",
    "from IPython.display import Image\n",
    "Image(filename='tree.png')"
   ]
  },
  {
   "cell_type": "markdown",
   "id": "52eb7979",
   "metadata": {
    "papermill": {
     "duration": 0.010783,
     "end_time": "2024-02-19T09:02:14.557927",
     "exception": false,
     "start_time": "2024-02-19T09:02:14.547144",
     "status": "completed"
    },
    "tags": []
   },
   "source": [
    "<h2>Want to learn more?</h2>\n",
    "\n",
    "IBM SPSS Modeler is a comprehensive analytics platform that has many machine learning algorithms. It has been designed to bring predictive intelligence to decisions made by individuals, by groups, by systems – by your enterprise as a whole. A free trial is available through this course, available here: <a href=\"https://www.ibm.com/analytics/spss-statistics-software?utm_source=Exinfluencer&utm_content=000026UJ&utm_id=NA-SkillsNetwork-Channel-SkillsNetworkCoursesIBMDeveloperSkillsNetworkML0101ENSkillsNetwork20718538-2022-01-01&utm_medium=Exinfluencer&utm_term=10006555\">SPSS Modeler</a>\n",
    "\n",
    "Also, you can use Watson Studio to run these notebooks faster with bigger datasets. Watson Studio is IBM's leading cloud solution for data scientists, built by data scientists. With Jupyter notebooks, RStudio, Apache Spark and popular libraries pre-packaged in the cloud, Watson Studio enables data scientists to collaborate on their projects without having to install anything. Join the fast-growing community of Watson Studio users today with a free account at <a href=\"https://www.ibm.com/cloud/watson-studio?utm_source=Exinfluencer&utm_content=000026UJ&utm_id=NA-SkillsNetwork-Channel-SkillsNetworkCoursesIBMDeveloperSkillsNetworkML0101ENSkillsNetwork20718538-2022-01-01&utm_medium=Exinfluencer&utm_term=10006555\">Watson Studio</a>\n"
   ]
  }
 ],
 "metadata": {
  "kaggle": {
   "accelerator": "none",
   "dataSources": [],
   "dockerImageVersionId": 30646,
   "isGpuEnabled": false,
   "isInternetEnabled": true,
   "language": "python",
   "sourceType": "notebook"
  },
  "kernelspec": {
   "display_name": "Python 3",
   "language": "python",
   "name": "python3"
  },
  "language_info": {
   "codemirror_mode": {
    "name": "ipython",
    "version": 3
   },
   "file_extension": ".py",
   "mimetype": "text/x-python",
   "name": "python",
   "nbconvert_exporter": "python",
   "pygments_lexer": "ipython3",
   "version": "3.10.13"
  },
  "papermill": {
   "default_parameters": {},
   "duration": 10.057849,
   "end_time": "2024-02-19T09:02:15.191853",
   "environment_variables": {},
   "exception": null,
   "input_path": "__notebook__.ipynb",
   "output_path": "__notebook__.ipynb",
   "parameters": {},
   "start_time": "2024-02-19T09:02:05.134004",
   "version": "2.5.0"
  }
 },
 "nbformat": 4,
 "nbformat_minor": 5
}
